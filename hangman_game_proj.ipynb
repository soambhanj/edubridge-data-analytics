{
 "cells": [
  {
   "cell_type": "code",
   "execution_count": null,
   "id": "1973a506-e4bd-4e2c-bf9a-bae7b3b79f76",
   "metadata": {},
   "outputs": [
    {
     "name": "stdout",
     "output_type": "stream",
     "text": [
      "\n",
      "H A N G M A N - Fruit Edition\n",
      "\n",
      "   +---+\n",
      "   |   |\n",
      "       |\n",
      "       |\n",
      "       |\n",
      "       |\n",
      "=========\n",
      "\n",
      "Missed Letters: \n",
      "\n",
      "_ _ _ _ _ \n",
      "\n"
     ]
    },
    {
     "name": "stdin",
     "output_type": "stream",
     "text": [
      "Guess a letter:  p\n"
     ]
    },
    {
     "name": "stdout",
     "output_type": "stream",
     "text": [
      "\n",
      "H A N G M A N - Fruit Edition\n",
      "\n",
      "   +---+\n",
      "   |   |\n",
      "       |\n",
      "       |\n",
      "       |\n",
      "       |\n",
      "=========\n",
      "\n",
      "Missed Letters: \n",
      "\n",
      "p _ _ _ _ \n",
      "\n"
     ]
    },
    {
     "name": "stdin",
     "output_type": "stream",
     "text": [
      "Guess a letter:  e\n"
     ]
    },
    {
     "name": "stdout",
     "output_type": "stream",
     "text": [
      "\n",
      "H A N G M A N - Fruit Edition\n",
      "\n",
      "   +---+\n",
      "   |   |\n",
      "       |\n",
      "       |\n",
      "       |\n",
      "       |\n",
      "=========\n",
      "\n",
      "Missed Letters: \n",
      "\n",
      "p e _ _ _ \n",
      "\n"
     ]
    },
    {
     "name": "stdin",
     "output_type": "stream",
     "text": [
      "Guess a letter:  a\n"
     ]
    },
    {
     "name": "stdout",
     "output_type": "stream",
     "text": [
      "\n",
      "H A N G M A N - Fruit Edition\n",
      "\n",
      "   +---+\n",
      "   |   |\n",
      "       |\n",
      "       |\n",
      "       |\n",
      "       |\n",
      "=========\n",
      "\n",
      "Missed Letters: \n",
      "\n",
      "p e a _ _ \n",
      "\n"
     ]
    },
    {
     "name": "stdin",
     "output_type": "stream",
     "text": [
      "Guess a letter:  c\n"
     ]
    },
    {
     "name": "stdout",
     "output_type": "stream",
     "text": [
      "\n",
      "H A N G M A N - Fruit Edition\n",
      "\n",
      "   +---+\n",
      "   |   |\n",
      "       |\n",
      "       |\n",
      "       |\n",
      "       |\n",
      "=========\n",
      "\n",
      "Missed Letters: \n",
      "\n",
      "p e a c _ \n",
      "\n"
     ]
    },
    {
     "name": "stdin",
     "output_type": "stream",
     "text": [
      "Guess a letter:  k\n"
     ]
    },
    {
     "name": "stdout",
     "output_type": "stream",
     "text": [
      "\n",
      "H A N G M A N - Fruits Edition\n",
      "\n",
      "  +---+\n",
      "  |   |\n",
      "  O   |\n",
      "      |\n",
      "      |\n",
      "      |\n",
      "=========\n",
      "\n",
      "Missed Letters: k \n",
      "\n",
      "p e a c _ \n",
      "\n"
     ]
    },
    {
     "name": "stdin",
     "output_type": "stream",
     "text": [
      "Guess a letter:  l\n"
     ]
    },
    {
     "name": "stdout",
     "output_type": "stream",
     "text": [
      "\n",
      "H A N G M A N - Fruits Edition\n",
      "\n",
      "  +---+\n",
      "  |   |\n",
      "  O   |\n",
      "  |   |\n",
      "      |\n",
      "      |\n",
      "=========\n",
      "\n",
      "Missed Letters: k l \n",
      "\n",
      "p e a c _ \n",
      "\n"
     ]
    },
    {
     "name": "stdin",
     "output_type": "stream",
     "text": [
      "Guess a letter:  q\n"
     ]
    },
    {
     "name": "stdout",
     "output_type": "stream",
     "text": [
      "\n",
      "H A N G M A N - Fruits Edition\n",
      "\n",
      "  +---+\n",
      "  |   |\n",
      "  O   |\n",
      " /|   |\n",
      "      |\n",
      "      |\n",
      "=========\n",
      "\n",
      "Missed Letters: k l q \n",
      "\n",
      "p e a c _ \n",
      "\n"
     ]
    },
    {
     "name": "stdin",
     "output_type": "stream",
     "text": [
      "Guess a letter:  w\n"
     ]
    },
    {
     "name": "stdout",
     "output_type": "stream",
     "text": [
      "\n",
      "H A N G M A N - Fruits Edition\n",
      "\n",
      "  +---+\n",
      "  |   |\n",
      "  O   |\n",
      " /|\\  |\n",
      "      |\n",
      "      |\n",
      "=========\n",
      "\n",
      "Missed Letters: k l q w \n",
      "\n",
      "p e a c _ \n",
      "\n"
     ]
    },
    {
     "name": "stdin",
     "output_type": "stream",
     "text": [
      "Guess a letter:  e\n"
     ]
    },
    {
     "name": "stdout",
     "output_type": "stream",
     "text": [
      "You have already guessed that letter. Choose again.\n"
     ]
    },
    {
     "name": "stdin",
     "output_type": "stream",
     "text": [
      "Guess a letter:  r\n"
     ]
    },
    {
     "name": "stdout",
     "output_type": "stream",
     "text": [
      "\n",
      "H A N G M A N - Fruits Edition\n",
      "\n",
      "  +---+\n",
      "  |   |\n",
      "  O   |\n",
      " /|\\  |\n",
      " /    |\n",
      "      |\n",
      "=========\n",
      "\n",
      "Missed Letters: k l q w r \n",
      "\n",
      "p e a c _ \n",
      "\n"
     ]
    },
    {
     "name": "stdin",
     "output_type": "stream",
     "text": [
      "Guess a letter:  t\n"
     ]
    },
    {
     "name": "stdout",
     "output_type": "stream",
     "text": [
      "\n",
      "H A N G M A N - Fruits Edition\n",
      "\n",
      "  +---+\n",
      "  |   |\n",
      "  O   |\n",
      " /|\\  |\n",
      " / \\  |\n",
      "      |\n",
      "=========\n",
      "\n",
      "Missed Letters: k l q w r t \n",
      "\n",
      "p e a c _ \n",
      "\n",
      "You have run out of guesses!\n",
      "After 6 missed guesses and 4 correct guesses, the word was \"peach\"\n"
     ]
    },
    {
     "name": "stdin",
     "output_type": "stream",
     "text": [
      "\n",
      "Do you want to play again?  y\n"
     ]
    },
    {
     "name": "stdout",
     "output_type": "stream",
     "text": [
      "\n",
      "H A N G M A N - Fruit Edition\n",
      "\n",
      "   +---+\n",
      "   |   |\n",
      "       |\n",
      "       |\n",
      "       |\n",
      "       |\n",
      "=========\n",
      "\n",
      "Missed Letters: \n",
      "\n",
      "_ _ _ _ _ \n",
      "\n"
     ]
    }
   ],
   "source": [
    "import random\n",
    "\n",
    "hang = [\"\"\"\n",
    "H A N G M A N - Fruit Edition\n",
    "\n",
    "   +---+\n",
    "   |   |\n",
    "       |\n",
    "       |\n",
    "       |\n",
    "       |\n",
    "=========\"\"\", \"\"\"\n",
    "H A N G M A N - Fruits Edition\n",
    "\n",
    "  +---+\n",
    "  |   |\n",
    "  O   |\n",
    "      |\n",
    "      |\n",
    "      |\n",
    "=========\"\"\", \"\"\"\n",
    "H A N G M A N - Fruits Edition\n",
    "\n",
    "  +---+\n",
    "  |   |\n",
    "  O   |\n",
    "  |   |\n",
    "      |\n",
    "      |\n",
    "=========\"\"\", \"\"\"\n",
    "H A N G M A N - Fruits Edition\n",
    "\n",
    "  +---+\n",
    "  |   |\n",
    "  O   |\n",
    " /|   |\n",
    "      |\n",
    "      |\n",
    "=========\"\"\", \"\"\"\n",
    "H A N G M A N - Fruits Edition\n",
    "\n",
    "  +---+\n",
    "  |   |\n",
    "  O   |\n",
    " /|\\  |\n",
    "      |\n",
    "      |\n",
    "=========\"\"\", \"\"\"\n",
    "H A N G M A N - Fruits Edition\n",
    "\n",
    "  +---+\n",
    "  |   |\n",
    "  O   |\n",
    " /|\\  |\n",
    " /    |\n",
    "      |\n",
    "=========\"\"\", \"\"\"\n",
    "H A N G M A N - Fruits Edition\n",
    "\n",
    "  +---+\n",
    "  |   |\n",
    "  O   |\n",
    " /|\\  |\n",
    " / \\  |\n",
    "      |\n",
    "=========\"\"\"]\n",
    "\n",
    "\n",
    "def getRandomWord():\n",
    "    words = ['apple', 'banana', 'mango', 'strawberry', 'orange', 'grape', 'pineapple', 'apricot',\n",
    "             'lemon', 'coconut', 'watermelon', 'cherry', 'papaya', 'berry', 'peach', 'lychee', 'muskmelon']\n",
    "\n",
    "    word = random.choice(words)\n",
    "    return word\n",
    "\n",
    "\n",
    "def displayBoard(hang, missedLetters, correctLetters, secretWord):\n",
    "    print(hang[len(missedLetters)])\n",
    "    print()\n",
    "\n",
    "    print('Missed Letters:', end=' ')\n",
    "    for letter in missedLetters:\n",
    "        print(letter, end=' ')\n",
    "    print(\"\\n\")\n",
    "\n",
    "    blanks = '_' * len(secretWord)\n",
    "\n",
    "    for i in range(len(secretWord)):  # replace blanks with correctly guessed letters\n",
    "        if secretWord[i] in correctLetters:\n",
    "            blanks = blanks[:i] + secretWord[i] + blanks[i+1:]\n",
    "\n",
    "    for letter in blanks:  # show the secret word with spaces in between each letter\n",
    "        print(letter, end=' ')\n",
    "    print(\"\\n\")\n",
    "\n",
    "\n",
    "def getGuess(alreadyGuessed):\n",
    "    while True:\n",
    "        guess = input('Guess a letter: ')\n",
    "        guess = guess.lower()\n",
    "        if len(guess) != 1:\n",
    "            print('Please enter a single letter.')\n",
    "        elif guess in alreadyGuessed:\n",
    "            print('You have already guessed that letter. Choose again.')\n",
    "        elif guess not in 'abcdefghijklmnopqrstuvwxyz':\n",
    "            print('Please enter a LETTER.')\n",
    "        else:\n",
    "            return guess\n",
    "\n",
    "\n",
    "def playAgain():\n",
    "    return input(\"\\nDo you want to play again? \").lower().startswith('y')\n",
    "\n",
    "\n",
    "missedLetters = ''\n",
    "correctLetters = ''\n",
    "secretWord = getRandomWord()\n",
    "gameIsDone = False\n",
    "\n",
    "while True:\n",
    "    displayBoard(hang, missedLetters, correctLetters, secretWord)\n",
    "\n",
    "    guess = getGuess(missedLetters + correctLetters)\n",
    "\n",
    "    if guess in secretWord:\n",
    "        correctLetters = correctLetters + guess\n",
    "\n",
    "        foundAllLetters = True\n",
    "        for i in range(len(secretWord)):\n",
    "            if secretWord[i] not in correctLetters:\n",
    "                foundAllLetters = False\n",
    "                break\n",
    "        if foundAllLetters:\n",
    "            print('\\nYes! The secret word is \"' +\n",
    "                  secretWord + '\"! You have won!')\n",
    "            gameIsDone = True\n",
    "    else:\n",
    "        missedLetters = missedLetters + guess\n",
    "\n",
    "        if len(missedLetters) == len(hang) - 1:\n",
    "            displayBoard(hang, missedLetters,\n",
    "                         correctLetters, secretWord)\n",
    "            print('You have run out of guesses!\\nAfter ' + str(len(missedLetters)) + ' missed guesses and ' +\n",
    "                  str(len(correctLetters)) + ' correct guesses, the word was \"' + secretWord + '\"')\n",
    "            gameIsDone = True\n",
    "\n",
    "    if gameIsDone:\n",
    "        if playAgain():\n",
    "            missedLetters = ''\n",
    "            correctLetters = ''\n",
    "            gameIsDone = False\n",
    "            secretWord = getRandomWord()\n",
    "        else:\n",
    "            break\n",
    "\n"
   ]
  },
  {
   "cell_type": "code",
   "execution_count": null,
   "id": "ceb47f18-ef6e-4ca3-b8f4-851b8d347af1",
   "metadata": {},
   "outputs": [],
   "source": []
  }
 ],
 "metadata": {
  "kernelspec": {
   "display_name": "Python 3",
   "language": "python",
   "name": "python3"
  },
  "language_info": {
   "codemirror_mode": {
    "name": "ipython",
    "version": 3
   },
   "file_extension": ".py",
   "mimetype": "text/x-python",
   "name": "python",
   "nbconvert_exporter": "python",
   "pygments_lexer": "ipython3",
   "version": "3.8.8"
  }
 },
 "nbformat": 4,
 "nbformat_minor": 5
}
