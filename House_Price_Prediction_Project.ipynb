{
 "cells": [
  {
   "cell_type": "code",
   "execution_count": 1,
   "id": "2db12d0a",
   "metadata": {},
   "outputs": [],
   "source": [
    "import pandas as pd\n",
    "import numpy as np\n",
    "import seaborn as sns\n",
    "import matplotlib.pyplot as plt"
   ]
  },
  {
   "cell_type": "code",
   "execution_count": 2,
   "id": "e8ec2620",
   "metadata": {},
   "outputs": [],
   "source": [
    "train=pd.read_csv(r\"E:/dataset/Property_Price_Train.csv\")\n",
    "test=pd.read_csv(r\"E:/dataset/Property_Price_Test.csv\")"
   ]
  },
  {
   "cell_type": "code",
   "execution_count": 177,
   "id": "f8d65ffc",
   "metadata": {},
   "outputs": [
    {
     "data": {
      "text/plain": [
       "(1459, 81)"
      ]
     },
     "execution_count": 177,
     "metadata": {},
     "output_type": "execute_result"
    }
   ],
   "source": [
    "train.shape"
   ]
  },
  {
   "cell_type": "code",
   "execution_count": 4,
   "id": "4b2975f9",
   "metadata": {},
   "outputs": [
    {
     "data": {
      "text/plain": [
       "(1459, 80)"
      ]
     },
     "execution_count": 4,
     "metadata": {},
     "output_type": "execute_result"
    }
   ],
   "source": [
    "test.shape"
   ]
  },
  {
   "cell_type": "code",
   "execution_count": 59,
   "id": "124f9fed",
   "metadata": {},
   "outputs": [],
   "source": [
    "pd.set_option(\"display.max_columns\",None)"
   ]
  },
  {
   "cell_type": "code",
   "execution_count": 60,
   "id": "a2425dd3",
   "metadata": {},
   "outputs": [],
   "source": [
    "pd.set_option(\"display.max_rows\",None)"
   ]
  },
  {
   "cell_type": "code",
   "execution_count": 178,
   "id": "3c8f3782",
   "metadata": {},
   "outputs": [
    {
     "data": {
      "text/html": [
       "<div>\n",
       "<style scoped>\n",
       "    .dataframe tbody tr th:only-of-type {\n",
       "        vertical-align: middle;\n",
       "    }\n",
       "\n",
       "    .dataframe tbody tr th {\n",
       "        vertical-align: top;\n",
       "    }\n",
       "\n",
       "    .dataframe thead th {\n",
       "        text-align: right;\n",
       "    }\n",
       "</style>\n",
       "<table border=\"1\" class=\"dataframe\">\n",
       "  <thead>\n",
       "    <tr style=\"text-align: right;\">\n",
       "      <th></th>\n",
       "      <th>Id</th>\n",
       "      <th>Building_Class</th>\n",
       "      <th>Zoning_Class</th>\n",
       "      <th>Lot_Extent</th>\n",
       "      <th>Lot_Size</th>\n",
       "      <th>Road_Type</th>\n",
       "      <th>Lane_Type</th>\n",
       "      <th>Property_Shape</th>\n",
       "      <th>Land_Outline</th>\n",
       "      <th>Utility_Type</th>\n",
       "      <th>Lot_Configuration</th>\n",
       "      <th>Property_Slope</th>\n",
       "      <th>Neighborhood</th>\n",
       "      <th>Condition1</th>\n",
       "      <th>Condition2</th>\n",
       "      <th>House_Type</th>\n",
       "      <th>House_Design</th>\n",
       "      <th>Overall_Material</th>\n",
       "      <th>House_Condition</th>\n",
       "      <th>Construction_Year</th>\n",
       "      <th>Remodel_Year</th>\n",
       "      <th>Roof_Design</th>\n",
       "      <th>Roof_Quality</th>\n",
       "      <th>Exterior1st</th>\n",
       "      <th>Exterior2nd</th>\n",
       "      <th>Brick_Veneer_Type</th>\n",
       "      <th>Brick_Veneer_Area</th>\n",
       "      <th>Exterior_Material</th>\n",
       "      <th>Exterior_Condition</th>\n",
       "      <th>Foundation_Type</th>\n",
       "      <th>Basement_Height</th>\n",
       "      <th>Basement_Condition</th>\n",
       "      <th>Exposure_Level</th>\n",
       "      <th>BsmtFinType1</th>\n",
       "      <th>BsmtFinSF1</th>\n",
       "      <th>BsmtFinType2</th>\n",
       "      <th>BsmtFinSF2</th>\n",
       "      <th>BsmtUnfSF</th>\n",
       "      <th>Total_Basement_Area</th>\n",
       "      <th>Heating_Type</th>\n",
       "      <th>Heating_Quality</th>\n",
       "      <th>Air_Conditioning</th>\n",
       "      <th>Electrical_System</th>\n",
       "      <th>First_Floor_Area</th>\n",
       "      <th>Second_Floor_Area</th>\n",
       "      <th>LowQualFinSF</th>\n",
       "      <th>Grade_Living_Area</th>\n",
       "      <th>Underground_Full_Bathroom</th>\n",
       "      <th>Underground_Half_Bathroom</th>\n",
       "      <th>Full_Bathroom_Above_Grade</th>\n",
       "      <th>Half_Bathroom_Above_Grade</th>\n",
       "      <th>Bedroom_Above_Grade</th>\n",
       "      <th>Kitchen_Above_Grade</th>\n",
       "      <th>Kitchen_Quality</th>\n",
       "      <th>Rooms_Above_Grade</th>\n",
       "      <th>Functional_Rate</th>\n",
       "      <th>Fireplaces</th>\n",
       "      <th>Fireplace_Quality</th>\n",
       "      <th>Garage</th>\n",
       "      <th>Garage_Built_Year</th>\n",
       "      <th>Garage_Finish_Year</th>\n",
       "      <th>Garage_Size</th>\n",
       "      <th>Garage_Area</th>\n",
       "      <th>Garage_Quality</th>\n",
       "      <th>Garage_Condition</th>\n",
       "      <th>Pavedd_Drive</th>\n",
       "      <th>W_Deck_Area</th>\n",
       "      <th>Open_Lobby_Area</th>\n",
       "      <th>Enclosed_Lobby_Area</th>\n",
       "      <th>Three_Season_Lobby_Area</th>\n",
       "      <th>Screen_Lobby_Area</th>\n",
       "      <th>Pool_Area</th>\n",
       "      <th>Pool_Quality</th>\n",
       "      <th>Fence_Quality</th>\n",
       "      <th>Miscellaneous_Feature</th>\n",
       "      <th>Miscellaneous_Value</th>\n",
       "      <th>Month_Sold</th>\n",
       "      <th>Year_Sold</th>\n",
       "      <th>Sale_Type</th>\n",
       "      <th>Sale_Condition</th>\n",
       "      <th>Sale_Price</th>\n",
       "    </tr>\n",
       "  </thead>\n",
       "  <tbody>\n",
       "    <tr>\n",
       "      <th>0</th>\n",
       "      <td>1</td>\n",
       "      <td>60</td>\n",
       "      <td>RLD</td>\n",
       "      <td>65.0</td>\n",
       "      <td>8450</td>\n",
       "      <td>Paved</td>\n",
       "      <td>NaN</td>\n",
       "      <td>Reg</td>\n",
       "      <td>Lvl</td>\n",
       "      <td>AllPub</td>\n",
       "      <td>I</td>\n",
       "      <td>GS</td>\n",
       "      <td>CollgCr</td>\n",
       "      <td>Norm</td>\n",
       "      <td>Norm</td>\n",
       "      <td>1Fam</td>\n",
       "      <td>2Story</td>\n",
       "      <td>7</td>\n",
       "      <td>5</td>\n",
       "      <td>2003</td>\n",
       "      <td>2003</td>\n",
       "      <td>Gable</td>\n",
       "      <td>SS</td>\n",
       "      <td>VinylSd</td>\n",
       "      <td>VinylSd</td>\n",
       "      <td>BrkFace</td>\n",
       "      <td>196.0</td>\n",
       "      <td>Gd</td>\n",
       "      <td>TA</td>\n",
       "      <td>PC</td>\n",
       "      <td>Gd</td>\n",
       "      <td>TA</td>\n",
       "      <td>No</td>\n",
       "      <td>GLQ</td>\n",
       "      <td>706</td>\n",
       "      <td>Unf</td>\n",
       "      <td>0</td>\n",
       "      <td>150</td>\n",
       "      <td>856</td>\n",
       "      <td>GasA</td>\n",
       "      <td>Ex</td>\n",
       "      <td>Y</td>\n",
       "      <td>SBrkr</td>\n",
       "      <td>856</td>\n",
       "      <td>854</td>\n",
       "      <td>0</td>\n",
       "      <td>1710</td>\n",
       "      <td>1</td>\n",
       "      <td>0</td>\n",
       "      <td>2</td>\n",
       "      <td>1</td>\n",
       "      <td>3</td>\n",
       "      <td>1</td>\n",
       "      <td>Gd</td>\n",
       "      <td>8</td>\n",
       "      <td>TF</td>\n",
       "      <td>0</td>\n",
       "      <td>NaN</td>\n",
       "      <td>Attchd</td>\n",
       "      <td>2003.0</td>\n",
       "      <td>RFn</td>\n",
       "      <td>2</td>\n",
       "      <td>1085.793744</td>\n",
       "      <td>TA</td>\n",
       "      <td>TA</td>\n",
       "      <td>Y</td>\n",
       "      <td>163.788080</td>\n",
       "      <td>69.596115</td>\n",
       "      <td>20.337934</td>\n",
       "      <td>0</td>\n",
       "      <td>0</td>\n",
       "      <td>0</td>\n",
       "      <td>NaN</td>\n",
       "      <td>NaN</td>\n",
       "      <td>NaN</td>\n",
       "      <td>0</td>\n",
       "      <td>2</td>\n",
       "      <td>2008</td>\n",
       "      <td>WD</td>\n",
       "      <td>Normal</td>\n",
       "      <td>208500</td>\n",
       "    </tr>\n",
       "    <tr>\n",
       "      <th>1</th>\n",
       "      <td>2</td>\n",
       "      <td>20</td>\n",
       "      <td>RLD</td>\n",
       "      <td>80.0</td>\n",
       "      <td>9600</td>\n",
       "      <td>Paved</td>\n",
       "      <td>NaN</td>\n",
       "      <td>Reg</td>\n",
       "      <td>Lvl</td>\n",
       "      <td>AllPub</td>\n",
       "      <td>FR2P</td>\n",
       "      <td>GS</td>\n",
       "      <td>Veenker</td>\n",
       "      <td>Feedr</td>\n",
       "      <td>Norm</td>\n",
       "      <td>1Fam</td>\n",
       "      <td>1Story</td>\n",
       "      <td>6</td>\n",
       "      <td>8</td>\n",
       "      <td>1976</td>\n",
       "      <td>1976</td>\n",
       "      <td>Gable</td>\n",
       "      <td>SS</td>\n",
       "      <td>MetalSd</td>\n",
       "      <td>MetalSd</td>\n",
       "      <td>None</td>\n",
       "      <td>0.0</td>\n",
       "      <td>TA</td>\n",
       "      <td>TA</td>\n",
       "      <td>CB</td>\n",
       "      <td>Gd</td>\n",
       "      <td>TA</td>\n",
       "      <td>Gd</td>\n",
       "      <td>ALQ</td>\n",
       "      <td>978</td>\n",
       "      <td>Unf</td>\n",
       "      <td>0</td>\n",
       "      <td>284</td>\n",
       "      <td>1262</td>\n",
       "      <td>GasA</td>\n",
       "      <td>Ex</td>\n",
       "      <td>Y</td>\n",
       "      <td>SBrkr</td>\n",
       "      <td>1262</td>\n",
       "      <td>0</td>\n",
       "      <td>0</td>\n",
       "      <td>1262</td>\n",
       "      <td>0</td>\n",
       "      <td>1</td>\n",
       "      <td>2</td>\n",
       "      <td>0</td>\n",
       "      <td>3</td>\n",
       "      <td>1</td>\n",
       "      <td>TA</td>\n",
       "      <td>6</td>\n",
       "      <td>TF</td>\n",
       "      <td>1</td>\n",
       "      <td>TA</td>\n",
       "      <td>Attchd</td>\n",
       "      <td>1976.0</td>\n",
       "      <td>RFn</td>\n",
       "      <td>2</td>\n",
       "      <td>196.316304</td>\n",
       "      <td>TA</td>\n",
       "      <td>TA</td>\n",
       "      <td>Y</td>\n",
       "      <td>198.900074</td>\n",
       "      <td>74.716033</td>\n",
       "      <td>15.039392</td>\n",
       "      <td>0</td>\n",
       "      <td>0</td>\n",
       "      <td>0</td>\n",
       "      <td>NaN</td>\n",
       "      <td>NaN</td>\n",
       "      <td>NaN</td>\n",
       "      <td>0</td>\n",
       "      <td>5</td>\n",
       "      <td>2007</td>\n",
       "      <td>WD</td>\n",
       "      <td>Normal</td>\n",
       "      <td>181500</td>\n",
       "    </tr>\n",
       "    <tr>\n",
       "      <th>2</th>\n",
       "      <td>3</td>\n",
       "      <td>60</td>\n",
       "      <td>RLD</td>\n",
       "      <td>68.0</td>\n",
       "      <td>11250</td>\n",
       "      <td>Paved</td>\n",
       "      <td>NaN</td>\n",
       "      <td>IR1</td>\n",
       "      <td>Lvl</td>\n",
       "      <td>AllPub</td>\n",
       "      <td>I</td>\n",
       "      <td>GS</td>\n",
       "      <td>CollgCr</td>\n",
       "      <td>Norm</td>\n",
       "      <td>Norm</td>\n",
       "      <td>1Fam</td>\n",
       "      <td>2Story</td>\n",
       "      <td>7</td>\n",
       "      <td>5</td>\n",
       "      <td>2001</td>\n",
       "      <td>2002</td>\n",
       "      <td>Gable</td>\n",
       "      <td>SS</td>\n",
       "      <td>VinylSd</td>\n",
       "      <td>VinylSd</td>\n",
       "      <td>BrkFace</td>\n",
       "      <td>162.0</td>\n",
       "      <td>Gd</td>\n",
       "      <td>TA</td>\n",
       "      <td>PC</td>\n",
       "      <td>Gd</td>\n",
       "      <td>TA</td>\n",
       "      <td>Mn</td>\n",
       "      <td>GLQ</td>\n",
       "      <td>486</td>\n",
       "      <td>Unf</td>\n",
       "      <td>0</td>\n",
       "      <td>434</td>\n",
       "      <td>920</td>\n",
       "      <td>GasA</td>\n",
       "      <td>Ex</td>\n",
       "      <td>Y</td>\n",
       "      <td>SBrkr</td>\n",
       "      <td>920</td>\n",
       "      <td>866</td>\n",
       "      <td>0</td>\n",
       "      <td>1786</td>\n",
       "      <td>1</td>\n",
       "      <td>0</td>\n",
       "      <td>2</td>\n",
       "      <td>1</td>\n",
       "      <td>3</td>\n",
       "      <td>1</td>\n",
       "      <td>Gd</td>\n",
       "      <td>6</td>\n",
       "      <td>TF</td>\n",
       "      <td>1</td>\n",
       "      <td>TA</td>\n",
       "      <td>Attchd</td>\n",
       "      <td>2001.0</td>\n",
       "      <td>RFn</td>\n",
       "      <td>2</td>\n",
       "      <td>218.068403</td>\n",
       "      <td>TA</td>\n",
       "      <td>TA</td>\n",
       "      <td>Y</td>\n",
       "      <td>26.127533</td>\n",
       "      <td>32.085268</td>\n",
       "      <td>-46.232198</td>\n",
       "      <td>0</td>\n",
       "      <td>0</td>\n",
       "      <td>0</td>\n",
       "      <td>NaN</td>\n",
       "      <td>NaN</td>\n",
       "      <td>NaN</td>\n",
       "      <td>0</td>\n",
       "      <td>9</td>\n",
       "      <td>2008</td>\n",
       "      <td>WD</td>\n",
       "      <td>Normal</td>\n",
       "      <td>223500</td>\n",
       "    </tr>\n",
       "  </tbody>\n",
       "</table>\n",
       "</div>"
      ],
      "text/plain": [
       "   Id  Building_Class Zoning_Class  Lot_Extent  Lot_Size Road_Type Lane_Type  \\\n",
       "0   1              60          RLD        65.0      8450     Paved       NaN   \n",
       "1   2              20          RLD        80.0      9600     Paved       NaN   \n",
       "2   3              60          RLD        68.0     11250     Paved       NaN   \n",
       "\n",
       "  Property_Shape Land_Outline Utility_Type Lot_Configuration Property_Slope  \\\n",
       "0            Reg          Lvl       AllPub                 I             GS   \n",
       "1            Reg          Lvl       AllPub              FR2P             GS   \n",
       "2            IR1          Lvl       AllPub                 I             GS   \n",
       "\n",
       "  Neighborhood Condition1 Condition2 House_Type House_Design  \\\n",
       "0      CollgCr       Norm       Norm       1Fam       2Story   \n",
       "1      Veenker      Feedr       Norm       1Fam       1Story   \n",
       "2      CollgCr       Norm       Norm       1Fam       2Story   \n",
       "\n",
       "   Overall_Material  House_Condition  Construction_Year  Remodel_Year  \\\n",
       "0                 7                5               2003          2003   \n",
       "1                 6                8               1976          1976   \n",
       "2                 7                5               2001          2002   \n",
       "\n",
       "  Roof_Design Roof_Quality Exterior1st Exterior2nd Brick_Veneer_Type  \\\n",
       "0       Gable           SS     VinylSd     VinylSd           BrkFace   \n",
       "1       Gable           SS     MetalSd     MetalSd              None   \n",
       "2       Gable           SS     VinylSd     VinylSd           BrkFace   \n",
       "\n",
       "   Brick_Veneer_Area Exterior_Material Exterior_Condition Foundation_Type  \\\n",
       "0              196.0                Gd                 TA              PC   \n",
       "1                0.0                TA                 TA              CB   \n",
       "2              162.0                Gd                 TA              PC   \n",
       "\n",
       "  Basement_Height Basement_Condition Exposure_Level BsmtFinType1  BsmtFinSF1  \\\n",
       "0              Gd                 TA             No          GLQ         706   \n",
       "1              Gd                 TA             Gd          ALQ         978   \n",
       "2              Gd                 TA             Mn          GLQ         486   \n",
       "\n",
       "  BsmtFinType2  BsmtFinSF2  BsmtUnfSF  Total_Basement_Area Heating_Type  \\\n",
       "0          Unf           0        150                  856         GasA   \n",
       "1          Unf           0        284                 1262         GasA   \n",
       "2          Unf           0        434                  920         GasA   \n",
       "\n",
       "  Heating_Quality Air_Conditioning Electrical_System  First_Floor_Area  \\\n",
       "0              Ex                Y             SBrkr               856   \n",
       "1              Ex                Y             SBrkr              1262   \n",
       "2              Ex                Y             SBrkr               920   \n",
       "\n",
       "   Second_Floor_Area  LowQualFinSF  Grade_Living_Area  \\\n",
       "0                854             0               1710   \n",
       "1                  0             0               1262   \n",
       "2                866             0               1786   \n",
       "\n",
       "   Underground_Full_Bathroom  Underground_Half_Bathroom  \\\n",
       "0                          1                          0   \n",
       "1                          0                          1   \n",
       "2                          1                          0   \n",
       "\n",
       "   Full_Bathroom_Above_Grade  Half_Bathroom_Above_Grade  Bedroom_Above_Grade  \\\n",
       "0                          2                          1                    3   \n",
       "1                          2                          0                    3   \n",
       "2                          2                          1                    3   \n",
       "\n",
       "   Kitchen_Above_Grade Kitchen_Quality  Rooms_Above_Grade Functional_Rate  \\\n",
       "0                    1              Gd                  8              TF   \n",
       "1                    1              TA                  6              TF   \n",
       "2                    1              Gd                  6              TF   \n",
       "\n",
       "   Fireplaces Fireplace_Quality  Garage  Garage_Built_Year Garage_Finish_Year  \\\n",
       "0           0               NaN  Attchd             2003.0                RFn   \n",
       "1           1                TA  Attchd             1976.0                RFn   \n",
       "2           1                TA  Attchd             2001.0                RFn   \n",
       "\n",
       "   Garage_Size  Garage_Area Garage_Quality Garage_Condition Pavedd_Drive  \\\n",
       "0            2  1085.793744             TA               TA            Y   \n",
       "1            2   196.316304             TA               TA            Y   \n",
       "2            2   218.068403             TA               TA            Y   \n",
       "\n",
       "   W_Deck_Area  Open_Lobby_Area  Enclosed_Lobby_Area  Three_Season_Lobby_Area  \\\n",
       "0   163.788080        69.596115            20.337934                        0   \n",
       "1   198.900074        74.716033            15.039392                        0   \n",
       "2    26.127533        32.085268           -46.232198                        0   \n",
       "\n",
       "   Screen_Lobby_Area  Pool_Area Pool_Quality Fence_Quality  \\\n",
       "0                  0          0          NaN           NaN   \n",
       "1                  0          0          NaN           NaN   \n",
       "2                  0          0          NaN           NaN   \n",
       "\n",
       "  Miscellaneous_Feature  Miscellaneous_Value  Month_Sold  Year_Sold Sale_Type  \\\n",
       "0                   NaN                    0           2       2008        WD   \n",
       "1                   NaN                    0           5       2007        WD   \n",
       "2                   NaN                    0           9       2008        WD   \n",
       "\n",
       "  Sale_Condition  Sale_Price  \n",
       "0         Normal      208500  \n",
       "1         Normal      181500  \n",
       "2         Normal      223500  "
      ]
     },
     "execution_count": 178,
     "metadata": {},
     "output_type": "execute_result"
    }
   ],
   "source": [
    "train.head(3)"
   ]
  },
  {
   "cell_type": "code",
   "execution_count": 8,
   "id": "200b3b24",
   "metadata": {},
   "outputs": [
    {
     "data": {
      "text/html": [
       "<div>\n",
       "<style scoped>\n",
       "    .dataframe tbody tr th:only-of-type {\n",
       "        vertical-align: middle;\n",
       "    }\n",
       "\n",
       "    .dataframe tbody tr th {\n",
       "        vertical-align: top;\n",
       "    }\n",
       "\n",
       "    .dataframe thead th {\n",
       "        text-align: right;\n",
       "    }\n",
       "</style>\n",
       "<table border=\"1\" class=\"dataframe\">\n",
       "  <thead>\n",
       "    <tr style=\"text-align: right;\">\n",
       "      <th></th>\n",
       "      <th>Id</th>\n",
       "      <th>Building_Class</th>\n",
       "      <th>Zoning_Class</th>\n",
       "      <th>Lot_Extent</th>\n",
       "      <th>Lot_Size</th>\n",
       "      <th>Road_Type</th>\n",
       "      <th>Lane_Type</th>\n",
       "      <th>Property_Shape</th>\n",
       "      <th>Land_Outline</th>\n",
       "      <th>Utility_Type</th>\n",
       "      <th>Lot_Configuration</th>\n",
       "      <th>Property_Slope</th>\n",
       "      <th>Neighborhood</th>\n",
       "      <th>Condition1</th>\n",
       "      <th>Condition2</th>\n",
       "      <th>House_Type</th>\n",
       "      <th>House_Design</th>\n",
       "      <th>Overall_Material</th>\n",
       "      <th>House_Condition</th>\n",
       "      <th>Construction_Year</th>\n",
       "      <th>Remodel_Year</th>\n",
       "      <th>Roof_Design</th>\n",
       "      <th>Roof_Quality</th>\n",
       "      <th>Exterior1st</th>\n",
       "      <th>Exterior2nd</th>\n",
       "      <th>Brick_Veneer_Type</th>\n",
       "      <th>Brick_Veneer_Area</th>\n",
       "      <th>Exterior_Material</th>\n",
       "      <th>Exterior_Condition</th>\n",
       "      <th>Foundation_Type</th>\n",
       "      <th>Basement_Height</th>\n",
       "      <th>Basement_Condition</th>\n",
       "      <th>Exposure_Level</th>\n",
       "      <th>BsmtFinType1</th>\n",
       "      <th>BsmtFinSF1</th>\n",
       "      <th>BsmtFinType2</th>\n",
       "      <th>BsmtFinSF2</th>\n",
       "      <th>BsmtUnfSF</th>\n",
       "      <th>Total_Basement_Area</th>\n",
       "      <th>Heating_Type</th>\n",
       "      <th>Heating_Quality</th>\n",
       "      <th>Air_Conditioning</th>\n",
       "      <th>Electrical_System</th>\n",
       "      <th>First_Floor_Area</th>\n",
       "      <th>Second_Floor_Area</th>\n",
       "      <th>LowQualFinSF</th>\n",
       "      <th>Grade_Living_Area</th>\n",
       "      <th>Underground_Full_Bathroom</th>\n",
       "      <th>Underground_Half_Bathroom</th>\n",
       "      <th>Full_Bathroom_Above_Grade</th>\n",
       "      <th>Half_Bathroom_Above_Grade</th>\n",
       "      <th>Bedroom_Above_Grade</th>\n",
       "      <th>Kitchen_Above_Grade</th>\n",
       "      <th>Kitchen_Quality</th>\n",
       "      <th>Rooms_Above_Grade</th>\n",
       "      <th>Functional_Rate</th>\n",
       "      <th>Fireplaces</th>\n",
       "      <th>Fireplace_Quality</th>\n",
       "      <th>Garage</th>\n",
       "      <th>Garage_Built_Year</th>\n",
       "      <th>Garage_Finish_Year</th>\n",
       "      <th>Garage_Size</th>\n",
       "      <th>Garage_Area</th>\n",
       "      <th>Garage_Quality</th>\n",
       "      <th>Garage_Condition</th>\n",
       "      <th>Pavedd_Drive</th>\n",
       "      <th>W_Deck_Area</th>\n",
       "      <th>Open_Lobby_Area</th>\n",
       "      <th>Enclosed_Lobby_Area</th>\n",
       "      <th>Three_Season_Lobby_Area</th>\n",
       "      <th>Screen_Lobby_Area</th>\n",
       "      <th>Pool_Area</th>\n",
       "      <th>Pool_Quality</th>\n",
       "      <th>Fence_Quality</th>\n",
       "      <th>Miscellaneous_Feature</th>\n",
       "      <th>Miscellaneous_Value</th>\n",
       "      <th>Month_Sold</th>\n",
       "      <th>Year_Sold</th>\n",
       "      <th>Sale_Type</th>\n",
       "      <th>Sale_Condition</th>\n",
       "    </tr>\n",
       "  </thead>\n",
       "  <tbody>\n",
       "    <tr>\n",
       "      <th>0</th>\n",
       "      <td>1461</td>\n",
       "      <td>20</td>\n",
       "      <td>RHD</td>\n",
       "      <td>80.0</td>\n",
       "      <td>16104.81976</td>\n",
       "      <td>Paved</td>\n",
       "      <td>NaN</td>\n",
       "      <td>Reg</td>\n",
       "      <td>Lvl</td>\n",
       "      <td>AllPub</td>\n",
       "      <td>I</td>\n",
       "      <td>GS</td>\n",
       "      <td>NAmes</td>\n",
       "      <td>Feedr</td>\n",
       "      <td>Norm</td>\n",
       "      <td>1Fam</td>\n",
       "      <td>1Story</td>\n",
       "      <td>5</td>\n",
       "      <td>6</td>\n",
       "      <td>1961</td>\n",
       "      <td>1961</td>\n",
       "      <td>Gable</td>\n",
       "      <td>SS</td>\n",
       "      <td>VinylSd</td>\n",
       "      <td>VinylSd</td>\n",
       "      <td>None</td>\n",
       "      <td>0.0</td>\n",
       "      <td>TA</td>\n",
       "      <td>TA</td>\n",
       "      <td>CB</td>\n",
       "      <td>TA</td>\n",
       "      <td>TA</td>\n",
       "      <td>No</td>\n",
       "      <td>Rec</td>\n",
       "      <td>468.0</td>\n",
       "      <td>LwQ</td>\n",
       "      <td>144.0</td>\n",
       "      <td>270.0</td>\n",
       "      <td>882.0</td>\n",
       "      <td>GasA</td>\n",
       "      <td>TA</td>\n",
       "      <td>Y</td>\n",
       "      <td>SBrkr</td>\n",
       "      <td>896</td>\n",
       "      <td>0</td>\n",
       "      <td>0</td>\n",
       "      <td>896</td>\n",
       "      <td>0.0</td>\n",
       "      <td>0.0</td>\n",
       "      <td>1</td>\n",
       "      <td>0</td>\n",
       "      <td>2</td>\n",
       "      <td>1</td>\n",
       "      <td>TA</td>\n",
       "      <td>5</td>\n",
       "      <td>TF</td>\n",
       "      <td>0</td>\n",
       "      <td>NaN</td>\n",
       "      <td>Attchd</td>\n",
       "      <td>1961.0</td>\n",
       "      <td>Unf</td>\n",
       "      <td>1.0</td>\n",
       "      <td>730.0</td>\n",
       "      <td>TA</td>\n",
       "      <td>TA</td>\n",
       "      <td>Y</td>\n",
       "      <td>140</td>\n",
       "      <td>0</td>\n",
       "      <td>0</td>\n",
       "      <td>0</td>\n",
       "      <td>120</td>\n",
       "      <td>0</td>\n",
       "      <td>NaN</td>\n",
       "      <td>MnPrv</td>\n",
       "      <td>NaN</td>\n",
       "      <td>0</td>\n",
       "      <td>6</td>\n",
       "      <td>2010</td>\n",
       "      <td>WD</td>\n",
       "      <td>Normal</td>\n",
       "    </tr>\n",
       "    <tr>\n",
       "      <th>1</th>\n",
       "      <td>1462</td>\n",
       "      <td>20</td>\n",
       "      <td>RLD</td>\n",
       "      <td>81.0</td>\n",
       "      <td>15639.15081</td>\n",
       "      <td>Paved</td>\n",
       "      <td>NaN</td>\n",
       "      <td>IR1</td>\n",
       "      <td>Lvl</td>\n",
       "      <td>AllPub</td>\n",
       "      <td>C</td>\n",
       "      <td>GS</td>\n",
       "      <td>NAmes</td>\n",
       "      <td>Norm</td>\n",
       "      <td>Norm</td>\n",
       "      <td>1Fam</td>\n",
       "      <td>1Story</td>\n",
       "      <td>6</td>\n",
       "      <td>6</td>\n",
       "      <td>1958</td>\n",
       "      <td>1958</td>\n",
       "      <td>Hip</td>\n",
       "      <td>SS</td>\n",
       "      <td>Wd Sdng</td>\n",
       "      <td>Wd Sdng</td>\n",
       "      <td>BrkFace</td>\n",
       "      <td>108.0</td>\n",
       "      <td>TA</td>\n",
       "      <td>TA</td>\n",
       "      <td>CB</td>\n",
       "      <td>TA</td>\n",
       "      <td>TA</td>\n",
       "      <td>No</td>\n",
       "      <td>ALQ</td>\n",
       "      <td>923.0</td>\n",
       "      <td>Unf</td>\n",
       "      <td>0.0</td>\n",
       "      <td>406.0</td>\n",
       "      <td>1329.0</td>\n",
       "      <td>GasA</td>\n",
       "      <td>TA</td>\n",
       "      <td>Y</td>\n",
       "      <td>SBrkr</td>\n",
       "      <td>1329</td>\n",
       "      <td>0</td>\n",
       "      <td>0</td>\n",
       "      <td>1329</td>\n",
       "      <td>0.0</td>\n",
       "      <td>0.0</td>\n",
       "      <td>1</td>\n",
       "      <td>1</td>\n",
       "      <td>3</td>\n",
       "      <td>1</td>\n",
       "      <td>Gd</td>\n",
       "      <td>6</td>\n",
       "      <td>TF</td>\n",
       "      <td>0</td>\n",
       "      <td>NaN</td>\n",
       "      <td>Attchd</td>\n",
       "      <td>1958.0</td>\n",
       "      <td>Unf</td>\n",
       "      <td>1.0</td>\n",
       "      <td>312.0</td>\n",
       "      <td>TA</td>\n",
       "      <td>TA</td>\n",
       "      <td>Y</td>\n",
       "      <td>393</td>\n",
       "      <td>36</td>\n",
       "      <td>0</td>\n",
       "      <td>0</td>\n",
       "      <td>0</td>\n",
       "      <td>0</td>\n",
       "      <td>NaN</td>\n",
       "      <td>NaN</td>\n",
       "      <td>Gar2</td>\n",
       "      <td>12500</td>\n",
       "      <td>6</td>\n",
       "      <td>2010</td>\n",
       "      <td>WD</td>\n",
       "      <td>Normal</td>\n",
       "    </tr>\n",
       "    <tr>\n",
       "      <th>2</th>\n",
       "      <td>1463</td>\n",
       "      <td>60</td>\n",
       "      <td>RLD</td>\n",
       "      <td>74.0</td>\n",
       "      <td>3849.42892</td>\n",
       "      <td>Paved</td>\n",
       "      <td>NaN</td>\n",
       "      <td>IR1</td>\n",
       "      <td>Lvl</td>\n",
       "      <td>AllPub</td>\n",
       "      <td>I</td>\n",
       "      <td>GS</td>\n",
       "      <td>Gilbert</td>\n",
       "      <td>Norm</td>\n",
       "      <td>Norm</td>\n",
       "      <td>1Fam</td>\n",
       "      <td>2Story</td>\n",
       "      <td>5</td>\n",
       "      <td>5</td>\n",
       "      <td>1997</td>\n",
       "      <td>1998</td>\n",
       "      <td>Gable</td>\n",
       "      <td>SS</td>\n",
       "      <td>VinylSd</td>\n",
       "      <td>VinylSd</td>\n",
       "      <td>None</td>\n",
       "      <td>0.0</td>\n",
       "      <td>TA</td>\n",
       "      <td>TA</td>\n",
       "      <td>PC</td>\n",
       "      <td>Gd</td>\n",
       "      <td>TA</td>\n",
       "      <td>No</td>\n",
       "      <td>GLQ</td>\n",
       "      <td>791.0</td>\n",
       "      <td>Unf</td>\n",
       "      <td>0.0</td>\n",
       "      <td>137.0</td>\n",
       "      <td>928.0</td>\n",
       "      <td>GasA</td>\n",
       "      <td>Gd</td>\n",
       "      <td>Y</td>\n",
       "      <td>SBrkr</td>\n",
       "      <td>928</td>\n",
       "      <td>701</td>\n",
       "      <td>0</td>\n",
       "      <td>1629</td>\n",
       "      <td>0.0</td>\n",
       "      <td>0.0</td>\n",
       "      <td>2</td>\n",
       "      <td>1</td>\n",
       "      <td>3</td>\n",
       "      <td>1</td>\n",
       "      <td>TA</td>\n",
       "      <td>6</td>\n",
       "      <td>TF</td>\n",
       "      <td>1</td>\n",
       "      <td>TA</td>\n",
       "      <td>Attchd</td>\n",
       "      <td>1997.0</td>\n",
       "      <td>Fin</td>\n",
       "      <td>2.0</td>\n",
       "      <td>482.0</td>\n",
       "      <td>TA</td>\n",
       "      <td>TA</td>\n",
       "      <td>Y</td>\n",
       "      <td>212</td>\n",
       "      <td>34</td>\n",
       "      <td>0</td>\n",
       "      <td>0</td>\n",
       "      <td>0</td>\n",
       "      <td>0</td>\n",
       "      <td>NaN</td>\n",
       "      <td>MnPrv</td>\n",
       "      <td>NaN</td>\n",
       "      <td>0</td>\n",
       "      <td>3</td>\n",
       "      <td>2010</td>\n",
       "      <td>WD</td>\n",
       "      <td>Normal</td>\n",
       "    </tr>\n",
       "  </tbody>\n",
       "</table>\n",
       "</div>"
      ],
      "text/plain": [
       "     Id  Building_Class Zoning_Class  Lot_Extent     Lot_Size Road_Type  \\\n",
       "0  1461              20          RHD        80.0  16104.81976     Paved   \n",
       "1  1462              20          RLD        81.0  15639.15081     Paved   \n",
       "2  1463              60          RLD        74.0   3849.42892     Paved   \n",
       "\n",
       "  Lane_Type Property_Shape Land_Outline Utility_Type Lot_Configuration  \\\n",
       "0       NaN            Reg          Lvl       AllPub                 I   \n",
       "1       NaN            IR1          Lvl       AllPub                 C   \n",
       "2       NaN            IR1          Lvl       AllPub                 I   \n",
       "\n",
       "  Property_Slope Neighborhood Condition1 Condition2 House_Type House_Design  \\\n",
       "0             GS        NAmes      Feedr       Norm       1Fam       1Story   \n",
       "1             GS        NAmes       Norm       Norm       1Fam       1Story   \n",
       "2             GS      Gilbert       Norm       Norm       1Fam       2Story   \n",
       "\n",
       "   Overall_Material  House_Condition  Construction_Year  Remodel_Year  \\\n",
       "0                 5                6               1961          1961   \n",
       "1                 6                6               1958          1958   \n",
       "2                 5                5               1997          1998   \n",
       "\n",
       "  Roof_Design Roof_Quality Exterior1st Exterior2nd Brick_Veneer_Type  \\\n",
       "0       Gable           SS     VinylSd     VinylSd              None   \n",
       "1         Hip           SS     Wd Sdng     Wd Sdng           BrkFace   \n",
       "2       Gable           SS     VinylSd     VinylSd              None   \n",
       "\n",
       "   Brick_Veneer_Area Exterior_Material Exterior_Condition Foundation_Type  \\\n",
       "0                0.0                TA                 TA              CB   \n",
       "1              108.0                TA                 TA              CB   \n",
       "2                0.0                TA                 TA              PC   \n",
       "\n",
       "  Basement_Height Basement_Condition Exposure_Level BsmtFinType1  BsmtFinSF1  \\\n",
       "0              TA                 TA             No          Rec       468.0   \n",
       "1              TA                 TA             No          ALQ       923.0   \n",
       "2              Gd                 TA             No          GLQ       791.0   \n",
       "\n",
       "  BsmtFinType2  BsmtFinSF2  BsmtUnfSF  Total_Basement_Area Heating_Type  \\\n",
       "0          LwQ       144.0      270.0                882.0         GasA   \n",
       "1          Unf         0.0      406.0               1329.0         GasA   \n",
       "2          Unf         0.0      137.0                928.0         GasA   \n",
       "\n",
       "  Heating_Quality Air_Conditioning Electrical_System  First_Floor_Area  \\\n",
       "0              TA                Y             SBrkr               896   \n",
       "1              TA                Y             SBrkr              1329   \n",
       "2              Gd                Y             SBrkr               928   \n",
       "\n",
       "   Second_Floor_Area  LowQualFinSF  Grade_Living_Area  \\\n",
       "0                  0             0                896   \n",
       "1                  0             0               1329   \n",
       "2                701             0               1629   \n",
       "\n",
       "   Underground_Full_Bathroom  Underground_Half_Bathroom  \\\n",
       "0                        0.0                        0.0   \n",
       "1                        0.0                        0.0   \n",
       "2                        0.0                        0.0   \n",
       "\n",
       "   Full_Bathroom_Above_Grade  Half_Bathroom_Above_Grade  Bedroom_Above_Grade  \\\n",
       "0                          1                          0                    2   \n",
       "1                          1                          1                    3   \n",
       "2                          2                          1                    3   \n",
       "\n",
       "   Kitchen_Above_Grade Kitchen_Quality  Rooms_Above_Grade Functional_Rate  \\\n",
       "0                    1              TA                  5              TF   \n",
       "1                    1              Gd                  6              TF   \n",
       "2                    1              TA                  6              TF   \n",
       "\n",
       "   Fireplaces Fireplace_Quality  Garage  Garage_Built_Year Garage_Finish_Year  \\\n",
       "0           0               NaN  Attchd             1961.0                Unf   \n",
       "1           0               NaN  Attchd             1958.0                Unf   \n",
       "2           1                TA  Attchd             1997.0                Fin   \n",
       "\n",
       "   Garage_Size  Garage_Area Garage_Quality Garage_Condition Pavedd_Drive  \\\n",
       "0          1.0        730.0             TA               TA            Y   \n",
       "1          1.0        312.0             TA               TA            Y   \n",
       "2          2.0        482.0             TA               TA            Y   \n",
       "\n",
       "   W_Deck_Area  Open_Lobby_Area  Enclosed_Lobby_Area  Three_Season_Lobby_Area  \\\n",
       "0          140                0                    0                        0   \n",
       "1          393               36                    0                        0   \n",
       "2          212               34                    0                        0   \n",
       "\n",
       "   Screen_Lobby_Area  Pool_Area Pool_Quality Fence_Quality  \\\n",
       "0                120          0          NaN         MnPrv   \n",
       "1                  0          0          NaN           NaN   \n",
       "2                  0          0          NaN         MnPrv   \n",
       "\n",
       "  Miscellaneous_Feature  Miscellaneous_Value  Month_Sold  Year_Sold Sale_Type  \\\n",
       "0                   NaN                    0           6       2010        WD   \n",
       "1                  Gar2                12500           6       2010        WD   \n",
       "2                   NaN                    0           3       2010        WD   \n",
       "\n",
       "  Sale_Condition  \n",
       "0         Normal  \n",
       "1         Normal  \n",
       "2         Normal  "
      ]
     },
     "execution_count": 8,
     "metadata": {},
     "output_type": "execute_result"
    }
   ],
   "source": [
    "test.head(3)"
   ]
  },
  {
   "cell_type": "markdown",
   "id": "da9fe409",
   "metadata": {},
   "source": [
    "# 1. Handling Missing Values"
   ]
  },
  {
   "cell_type": "markdown",
   "id": "260a975b",
   "metadata": {},
   "source": [
    "a) Numerical columns"
   ]
  },
  {
   "cell_type": "code",
   "execution_count": 188,
   "id": "2dbfefa2",
   "metadata": {},
   "outputs": [],
   "source": [
    "train_num=train.select_dtypes(exclude='object')"
   ]
  },
  {
   "cell_type": "code",
   "execution_count": 189,
   "id": "cc7826e8",
   "metadata": {},
   "outputs": [],
   "source": [
    "#train_num.dtypes"
   ]
  },
  {
   "cell_type": "code",
   "execution_count": 190,
   "id": "a5b99679",
   "metadata": {},
   "outputs": [],
   "source": [
    "#train_num.isnull().sum()"
   ]
  },
  {
   "cell_type": "code",
   "execution_count": 193,
   "id": "895354d2",
   "metadata": {},
   "outputs": [],
   "source": [
    "# Percentage of missing values\n",
    "per_num=100*train_num.isnull().sum()/len(train_num)\n",
    "#per_num"
   ]
  },
  {
   "cell_type": "code",
   "execution_count": 13,
   "id": "04b330e1",
   "metadata": {},
   "outputs": [],
   "source": [
    "#using describe method to view the summary\n",
    "#train_num.describe().T.sort_values(by='count').head(10)"
   ]
  },
  {
   "cell_type": "code",
   "execution_count": 181,
   "id": "39ef928d",
   "metadata": {},
   "outputs": [],
   "source": [
    "train['Lot_Extent'].fillna(train['Lot_Extent'].mean(), inplace=True)"
   ]
  },
  {
   "cell_type": "code",
   "execution_count": 182,
   "id": "66837406",
   "metadata": {},
   "outputs": [],
   "source": [
    "#Handling null values of GarageYrBlt \n",
    "train['Garage_Built_Year'].fillna(0, inplace=True)"
   ]
  },
  {
   "cell_type": "code",
   "execution_count": 183,
   "id": "8989ed73",
   "metadata": {},
   "outputs": [
    {
     "data": {
      "text/plain": [
       "0"
      ]
     },
     "execution_count": 183,
     "metadata": {},
     "output_type": "execute_result"
    }
   ],
   "source": [
    "train['BsmtFinSF2'].isnull().sum()"
   ]
  },
  {
   "cell_type": "code",
   "execution_count": 184,
   "id": "720105d2",
   "metadata": {},
   "outputs": [],
   "source": [
    "#train['Brick_Veneer_Area'].value_counts()"
   ]
  },
  {
   "cell_type": "code",
   "execution_count": 185,
   "id": "f5c73d49",
   "metadata": {},
   "outputs": [],
   "source": [
    "train['Brick_Veneer_Area'].fillna(train['Brick_Veneer_Area'].mean(), inplace=True)"
   ]
  },
  {
   "cell_type": "code",
   "execution_count": 186,
   "id": "7f2f94bb",
   "metadata": {},
   "outputs": [],
   "source": [
    "#train_num.isnull().any()"
   ]
  },
  {
   "cell_type": "code",
   "execution_count": null,
   "id": "ddc1cd0d",
   "metadata": {},
   "outputs": [],
   "source": []
  },
  {
   "cell_type": "code",
   "execution_count": null,
   "id": "19540c64",
   "metadata": {},
   "outputs": [],
   "source": []
  },
  {
   "cell_type": "markdown",
   "id": "d8aefe10",
   "metadata": {},
   "source": [
    "b) Categorical Columns"
   ]
  },
  {
   "cell_type": "code",
   "execution_count": 215,
   "id": "26f13973",
   "metadata": {},
   "outputs": [],
   "source": [
    "train_cat=train.select_dtypes(include='object')"
   ]
  },
  {
   "cell_type": "code",
   "execution_count": 216,
   "id": "f0532f82",
   "metadata": {},
   "outputs": [],
   "source": [
    "#train_cat.head()"
   ]
  },
  {
   "cell_type": "code",
   "execution_count": 217,
   "id": "53dcca56",
   "metadata": {},
   "outputs": [],
   "source": [
    "#train_cat.isnull().sum()"
   ]
  },
  {
   "cell_type": "code",
   "execution_count": 219,
   "id": "66d0a93d",
   "metadata": {},
   "outputs": [],
   "source": [
    "per_cat=100*train_cat.isnull().sum()/len(train_cat)\n",
    "#per_cat"
   ]
  },
  {
   "cell_type": "code",
   "execution_count": 198,
   "id": "112426ce",
   "metadata": {},
   "outputs": [],
   "source": [
    "#train_cat.describe(include='object').head(10)"
   ]
  },
  {
   "cell_type": "code",
   "execution_count": 199,
   "id": "b81d4a07",
   "metadata": {},
   "outputs": [],
   "source": [
    "train.drop('Miscellaneous_Feature',axis=1,inplace=True)\n",
    "train.drop('Lane_Type',axis=1,inplace=True)\n",
    "train.drop('Pool_Quality',axis=1,inplace=True)\n",
    "train.drop('Fence_Quality',axis=1,inplace=True)"
   ]
  },
  {
   "cell_type": "code",
   "execution_count": 200,
   "id": "dbd45865",
   "metadata": {},
   "outputs": [],
   "source": [
    "train.drop('Fireplace_Quality',axis=1,inplace=True)"
   ]
  },
  {
   "cell_type": "code",
   "execution_count": 201,
   "id": "8b842ffb",
   "metadata": {},
   "outputs": [],
   "source": [
    "#train['Garage'].value_counts()"
   ]
  },
  {
   "cell_type": "code",
   "execution_count": 202,
   "id": "34e919e1",
   "metadata": {},
   "outputs": [],
   "source": [
    "#train[['Basement_Height','Basement_Condition']].loc[train.Basement_Condition.isnull()]"
   ]
  },
  {
   "cell_type": "code",
   "execution_count": 30,
   "id": "a6492093",
   "metadata": {},
   "outputs": [
    {
     "data": {
      "text/html": [
       "<div>\n",
       "<style scoped>\n",
       "    .dataframe tbody tr th:only-of-type {\n",
       "        vertical-align: middle;\n",
       "    }\n",
       "\n",
       "    .dataframe tbody tr th {\n",
       "        vertical-align: top;\n",
       "    }\n",
       "\n",
       "    .dataframe thead th {\n",
       "        text-align: right;\n",
       "    }\n",
       "</style>\n",
       "<table border=\"1\" class=\"dataframe\">\n",
       "  <thead>\n",
       "    <tr style=\"text-align: right;\">\n",
       "      <th></th>\n",
       "      <th>Garage_Quality</th>\n",
       "      <th>Garage_Finish_Year</th>\n",
       "    </tr>\n",
       "  </thead>\n",
       "  <tbody>\n",
       "    <tr>\n",
       "      <th>39</th>\n",
       "      <td>NaN</td>\n",
       "      <td>NaN</td>\n",
       "    </tr>\n",
       "    <tr>\n",
       "      <th>48</th>\n",
       "      <td>NaN</td>\n",
       "      <td>NaN</td>\n",
       "    </tr>\n",
       "    <tr>\n",
       "      <th>78</th>\n",
       "      <td>NaN</td>\n",
       "      <td>NaN</td>\n",
       "    </tr>\n",
       "    <tr>\n",
       "      <th>88</th>\n",
       "      <td>NaN</td>\n",
       "      <td>NaN</td>\n",
       "    </tr>\n",
       "    <tr>\n",
       "      <th>89</th>\n",
       "      <td>NaN</td>\n",
       "      <td>NaN</td>\n",
       "    </tr>\n",
       "    <tr>\n",
       "      <th>99</th>\n",
       "      <td>NaN</td>\n",
       "      <td>NaN</td>\n",
       "    </tr>\n",
       "    <tr>\n",
       "      <th>108</th>\n",
       "      <td>NaN</td>\n",
       "      <td>NaN</td>\n",
       "    </tr>\n",
       "    <tr>\n",
       "      <th>125</th>\n",
       "      <td>NaN</td>\n",
       "      <td>NaN</td>\n",
       "    </tr>\n",
       "    <tr>\n",
       "      <th>127</th>\n",
       "      <td>NaN</td>\n",
       "      <td>NaN</td>\n",
       "    </tr>\n",
       "    <tr>\n",
       "      <th>140</th>\n",
       "      <td>NaN</td>\n",
       "      <td>NaN</td>\n",
       "    </tr>\n",
       "    <tr>\n",
       "      <th>148</th>\n",
       "      <td>NaN</td>\n",
       "      <td>NaN</td>\n",
       "    </tr>\n",
       "    <tr>\n",
       "      <th>155</th>\n",
       "      <td>NaN</td>\n",
       "      <td>NaN</td>\n",
       "    </tr>\n",
       "    <tr>\n",
       "      <th>163</th>\n",
       "      <td>NaN</td>\n",
       "      <td>NaN</td>\n",
       "    </tr>\n",
       "    <tr>\n",
       "      <th>165</th>\n",
       "      <td>NaN</td>\n",
       "      <td>NaN</td>\n",
       "    </tr>\n",
       "    <tr>\n",
       "      <th>198</th>\n",
       "      <td>NaN</td>\n",
       "      <td>NaN</td>\n",
       "    </tr>\n",
       "    <tr>\n",
       "      <th>210</th>\n",
       "      <td>NaN</td>\n",
       "      <td>NaN</td>\n",
       "    </tr>\n",
       "    <tr>\n",
       "      <th>241</th>\n",
       "      <td>NaN</td>\n",
       "      <td>NaN</td>\n",
       "    </tr>\n",
       "    <tr>\n",
       "      <th>250</th>\n",
       "      <td>NaN</td>\n",
       "      <td>NaN</td>\n",
       "    </tr>\n",
       "    <tr>\n",
       "      <th>287</th>\n",
       "      <td>NaN</td>\n",
       "      <td>NaN</td>\n",
       "    </tr>\n",
       "    <tr>\n",
       "      <th>291</th>\n",
       "      <td>NaN</td>\n",
       "      <td>NaN</td>\n",
       "    </tr>\n",
       "    <tr>\n",
       "      <th>307</th>\n",
       "      <td>NaN</td>\n",
       "      <td>NaN</td>\n",
       "    </tr>\n",
       "    <tr>\n",
       "      <th>375</th>\n",
       "      <td>NaN</td>\n",
       "      <td>NaN</td>\n",
       "    </tr>\n",
       "    <tr>\n",
       "      <th>386</th>\n",
       "      <td>NaN</td>\n",
       "      <td>NaN</td>\n",
       "    </tr>\n",
       "    <tr>\n",
       "      <th>393</th>\n",
       "      <td>NaN</td>\n",
       "      <td>NaN</td>\n",
       "    </tr>\n",
       "    <tr>\n",
       "      <th>431</th>\n",
       "      <td>NaN</td>\n",
       "      <td>NaN</td>\n",
       "    </tr>\n",
       "    <tr>\n",
       "      <th>434</th>\n",
       "      <td>NaN</td>\n",
       "      <td>NaN</td>\n",
       "    </tr>\n",
       "    <tr>\n",
       "      <th>441</th>\n",
       "      <td>NaN</td>\n",
       "      <td>NaN</td>\n",
       "    </tr>\n",
       "    <tr>\n",
       "      <th>464</th>\n",
       "      <td>NaN</td>\n",
       "      <td>NaN</td>\n",
       "    </tr>\n",
       "    <tr>\n",
       "      <th>495</th>\n",
       "      <td>NaN</td>\n",
       "      <td>NaN</td>\n",
       "    </tr>\n",
       "    <tr>\n",
       "      <th>520</th>\n",
       "      <td>NaN</td>\n",
       "      <td>NaN</td>\n",
       "    </tr>\n",
       "    <tr>\n",
       "      <th>528</th>\n",
       "      <td>NaN</td>\n",
       "      <td>NaN</td>\n",
       "    </tr>\n",
       "    <tr>\n",
       "      <th>533</th>\n",
       "      <td>NaN</td>\n",
       "      <td>NaN</td>\n",
       "    </tr>\n",
       "    <tr>\n",
       "      <th>535</th>\n",
       "      <td>NaN</td>\n",
       "      <td>NaN</td>\n",
       "    </tr>\n",
       "    <tr>\n",
       "      <th>562</th>\n",
       "      <td>NaN</td>\n",
       "      <td>NaN</td>\n",
       "    </tr>\n",
       "    <tr>\n",
       "      <th>582</th>\n",
       "      <td>NaN</td>\n",
       "      <td>NaN</td>\n",
       "    </tr>\n",
       "    <tr>\n",
       "      <th>613</th>\n",
       "      <td>NaN</td>\n",
       "      <td>NaN</td>\n",
       "    </tr>\n",
       "    <tr>\n",
       "      <th>614</th>\n",
       "      <td>NaN</td>\n",
       "      <td>NaN</td>\n",
       "    </tr>\n",
       "    <tr>\n",
       "      <th>620</th>\n",
       "      <td>NaN</td>\n",
       "      <td>NaN</td>\n",
       "    </tr>\n",
       "    <tr>\n",
       "      <th>635</th>\n",
       "      <td>NaN</td>\n",
       "      <td>NaN</td>\n",
       "    </tr>\n",
       "    <tr>\n",
       "      <th>636</th>\n",
       "      <td>NaN</td>\n",
       "      <td>NaN</td>\n",
       "    </tr>\n",
       "    <tr>\n",
       "      <th>638</th>\n",
       "      <td>NaN</td>\n",
       "      <td>NaN</td>\n",
       "    </tr>\n",
       "    <tr>\n",
       "      <th>649</th>\n",
       "      <td>NaN</td>\n",
       "      <td>NaN</td>\n",
       "    </tr>\n",
       "    <tr>\n",
       "      <th>705</th>\n",
       "      <td>NaN</td>\n",
       "      <td>NaN</td>\n",
       "    </tr>\n",
       "    <tr>\n",
       "      <th>710</th>\n",
       "      <td>NaN</td>\n",
       "      <td>NaN</td>\n",
       "    </tr>\n",
       "    <tr>\n",
       "      <th>738</th>\n",
       "      <td>NaN</td>\n",
       "      <td>NaN</td>\n",
       "    </tr>\n",
       "    <tr>\n",
       "      <th>750</th>\n",
       "      <td>NaN</td>\n",
       "      <td>NaN</td>\n",
       "    </tr>\n",
       "    <tr>\n",
       "      <th>784</th>\n",
       "      <td>NaN</td>\n",
       "      <td>NaN</td>\n",
       "    </tr>\n",
       "    <tr>\n",
       "      <th>826</th>\n",
       "      <td>NaN</td>\n",
       "      <td>NaN</td>\n",
       "    </tr>\n",
       "    <tr>\n",
       "      <th>843</th>\n",
       "      <td>NaN</td>\n",
       "      <td>NaN</td>\n",
       "    </tr>\n",
       "    <tr>\n",
       "      <th>921</th>\n",
       "      <td>NaN</td>\n",
       "      <td>NaN</td>\n",
       "    </tr>\n",
       "    <tr>\n",
       "      <th>942</th>\n",
       "      <td>NaN</td>\n",
       "      <td>NaN</td>\n",
       "    </tr>\n",
       "    <tr>\n",
       "      <th>954</th>\n",
       "      <td>NaN</td>\n",
       "      <td>NaN</td>\n",
       "    </tr>\n",
       "    <tr>\n",
       "      <th>960</th>\n",
       "      <td>NaN</td>\n",
       "      <td>NaN</td>\n",
       "    </tr>\n",
       "    <tr>\n",
       "      <th>968</th>\n",
       "      <td>NaN</td>\n",
       "      <td>NaN</td>\n",
       "    </tr>\n",
       "    <tr>\n",
       "      <th>970</th>\n",
       "      <td>NaN</td>\n",
       "      <td>NaN</td>\n",
       "    </tr>\n",
       "    <tr>\n",
       "      <th>976</th>\n",
       "      <td>NaN</td>\n",
       "      <td>NaN</td>\n",
       "    </tr>\n",
       "    <tr>\n",
       "      <th>1009</th>\n",
       "      <td>NaN</td>\n",
       "      <td>NaN</td>\n",
       "    </tr>\n",
       "    <tr>\n",
       "      <th>1011</th>\n",
       "      <td>NaN</td>\n",
       "      <td>NaN</td>\n",
       "    </tr>\n",
       "    <tr>\n",
       "      <th>1030</th>\n",
       "      <td>NaN</td>\n",
       "      <td>NaN</td>\n",
       "    </tr>\n",
       "    <tr>\n",
       "      <th>1038</th>\n",
       "      <td>NaN</td>\n",
       "      <td>NaN</td>\n",
       "    </tr>\n",
       "    <tr>\n",
       "      <th>1096</th>\n",
       "      <td>NaN</td>\n",
       "      <td>NaN</td>\n",
       "    </tr>\n",
       "    <tr>\n",
       "      <th>1123</th>\n",
       "      <td>NaN</td>\n",
       "      <td>NaN</td>\n",
       "    </tr>\n",
       "    <tr>\n",
       "      <th>1131</th>\n",
       "      <td>NaN</td>\n",
       "      <td>NaN</td>\n",
       "    </tr>\n",
       "    <tr>\n",
       "      <th>1137</th>\n",
       "      <td>NaN</td>\n",
       "      <td>NaN</td>\n",
       "    </tr>\n",
       "    <tr>\n",
       "      <th>1143</th>\n",
       "      <td>NaN</td>\n",
       "      <td>NaN</td>\n",
       "    </tr>\n",
       "    <tr>\n",
       "      <th>1173</th>\n",
       "      <td>NaN</td>\n",
       "      <td>NaN</td>\n",
       "    </tr>\n",
       "    <tr>\n",
       "      <th>1179</th>\n",
       "      <td>NaN</td>\n",
       "      <td>NaN</td>\n",
       "    </tr>\n",
       "    <tr>\n",
       "      <th>1218</th>\n",
       "      <td>NaN</td>\n",
       "      <td>NaN</td>\n",
       "    </tr>\n",
       "    <tr>\n",
       "      <th>1219</th>\n",
       "      <td>NaN</td>\n",
       "      <td>NaN</td>\n",
       "    </tr>\n",
       "    <tr>\n",
       "      <th>1234</th>\n",
       "      <td>NaN</td>\n",
       "      <td>NaN</td>\n",
       "    </tr>\n",
       "    <tr>\n",
       "      <th>1257</th>\n",
       "      <td>NaN</td>\n",
       "      <td>NaN</td>\n",
       "    </tr>\n",
       "    <tr>\n",
       "      <th>1283</th>\n",
       "      <td>NaN</td>\n",
       "      <td>NaN</td>\n",
       "    </tr>\n",
       "    <tr>\n",
       "      <th>1323</th>\n",
       "      <td>NaN</td>\n",
       "      <td>NaN</td>\n",
       "    </tr>\n",
       "    <tr>\n",
       "      <th>1325</th>\n",
       "      <td>NaN</td>\n",
       "      <td>NaN</td>\n",
       "    </tr>\n",
       "    <tr>\n",
       "      <th>1326</th>\n",
       "      <td>NaN</td>\n",
       "      <td>NaN</td>\n",
       "    </tr>\n",
       "    <tr>\n",
       "      <th>1337</th>\n",
       "      <td>NaN</td>\n",
       "      <td>NaN</td>\n",
       "    </tr>\n",
       "    <tr>\n",
       "      <th>1349</th>\n",
       "      <td>NaN</td>\n",
       "      <td>NaN</td>\n",
       "    </tr>\n",
       "    <tr>\n",
       "      <th>1407</th>\n",
       "      <td>NaN</td>\n",
       "      <td>NaN</td>\n",
       "    </tr>\n",
       "    <tr>\n",
       "      <th>1449</th>\n",
       "      <td>NaN</td>\n",
       "      <td>NaN</td>\n",
       "    </tr>\n",
       "    <tr>\n",
       "      <th>1450</th>\n",
       "      <td>NaN</td>\n",
       "      <td>NaN</td>\n",
       "    </tr>\n",
       "    <tr>\n",
       "      <th>1453</th>\n",
       "      <td>NaN</td>\n",
       "      <td>NaN</td>\n",
       "    </tr>\n",
       "  </tbody>\n",
       "</table>\n",
       "</div>"
      ],
      "text/plain": [
       "     Garage_Quality Garage_Finish_Year\n",
       "39              NaN                NaN\n",
       "48              NaN                NaN\n",
       "78              NaN                NaN\n",
       "88              NaN                NaN\n",
       "89              NaN                NaN\n",
       "99              NaN                NaN\n",
       "108             NaN                NaN\n",
       "125             NaN                NaN\n",
       "127             NaN                NaN\n",
       "140             NaN                NaN\n",
       "148             NaN                NaN\n",
       "155             NaN                NaN\n",
       "163             NaN                NaN\n",
       "165             NaN                NaN\n",
       "198             NaN                NaN\n",
       "210             NaN                NaN\n",
       "241             NaN                NaN\n",
       "250             NaN                NaN\n",
       "287             NaN                NaN\n",
       "291             NaN                NaN\n",
       "307             NaN                NaN\n",
       "375             NaN                NaN\n",
       "386             NaN                NaN\n",
       "393             NaN                NaN\n",
       "431             NaN                NaN\n",
       "434             NaN                NaN\n",
       "441             NaN                NaN\n",
       "464             NaN                NaN\n",
       "495             NaN                NaN\n",
       "520             NaN                NaN\n",
       "528             NaN                NaN\n",
       "533             NaN                NaN\n",
       "535             NaN                NaN\n",
       "562             NaN                NaN\n",
       "582             NaN                NaN\n",
       "613             NaN                NaN\n",
       "614             NaN                NaN\n",
       "620             NaN                NaN\n",
       "635             NaN                NaN\n",
       "636             NaN                NaN\n",
       "638             NaN                NaN\n",
       "649             NaN                NaN\n",
       "705             NaN                NaN\n",
       "710             NaN                NaN\n",
       "738             NaN                NaN\n",
       "750             NaN                NaN\n",
       "784             NaN                NaN\n",
       "826             NaN                NaN\n",
       "843             NaN                NaN\n",
       "921             NaN                NaN\n",
       "942             NaN                NaN\n",
       "954             NaN                NaN\n",
       "960             NaN                NaN\n",
       "968             NaN                NaN\n",
       "970             NaN                NaN\n",
       "976             NaN                NaN\n",
       "1009            NaN                NaN\n",
       "1011            NaN                NaN\n",
       "1030            NaN                NaN\n",
       "1038            NaN                NaN\n",
       "1096            NaN                NaN\n",
       "1123            NaN                NaN\n",
       "1131            NaN                NaN\n",
       "1137            NaN                NaN\n",
       "1143            NaN                NaN\n",
       "1173            NaN                NaN\n",
       "1179            NaN                NaN\n",
       "1218            NaN                NaN\n",
       "1219            NaN                NaN\n",
       "1234            NaN                NaN\n",
       "1257            NaN                NaN\n",
       "1283            NaN                NaN\n",
       "1323            NaN                NaN\n",
       "1325            NaN                NaN\n",
       "1326            NaN                NaN\n",
       "1337            NaN                NaN\n",
       "1349            NaN                NaN\n",
       "1407            NaN                NaN\n",
       "1449            NaN                NaN\n",
       "1450            NaN                NaN\n",
       "1453            NaN                NaN"
      ]
     },
     "execution_count": 30,
     "metadata": {},
     "output_type": "execute_result"
    }
   ],
   "source": [
    "#Checking GarageType where GarageYrBlt is missing\n",
    "train[['Garage_Quality','Garage_Finish_Year']].loc[train.Garage_Finish_Year.isnull()]"
   ]
  },
  {
   "cell_type": "code",
   "execution_count": 203,
   "id": "5f54ddf4",
   "metadata": {},
   "outputs": [],
   "source": [
    "train['Garage'].fillna('0',inplace=True)\n",
    "train['Garage_Quality'].fillna('0',inplace=True)\n",
    "train['Garage_Finish_Year'].fillna('0',inplace=True)\n",
    "train['Garage_Condition'].fillna('0',inplace=True)"
   ]
  },
  {
   "cell_type": "code",
   "execution_count": 204,
   "id": "7988a222",
   "metadata": {},
   "outputs": [],
   "source": [
    "#train['Basement_Condition'].value_counts()"
   ]
  },
  {
   "cell_type": "code",
   "execution_count": 205,
   "id": "322c293a",
   "metadata": {},
   "outputs": [],
   "source": [
    "train['Basement_Condition'].fillna('0',inplace=True)\n",
    "train['Basement_Height'].fillna('0',inplace=True)"
   ]
  },
  {
   "cell_type": "code",
   "execution_count": 206,
   "id": "9bf434e1",
   "metadata": {},
   "outputs": [],
   "source": [
    "#Exposure_Level"
   ]
  },
  {
   "cell_type": "code",
   "execution_count": 207,
   "id": "d6bd7e37",
   "metadata": {},
   "outputs": [],
   "source": [
    "#train[['BsmtFinType1','BsmtFinType2']].loc[train.BsmtFinType2.isnull()]"
   ]
  },
  {
   "cell_type": "code",
   "execution_count": 208,
   "id": "ea4621f4",
   "metadata": {},
   "outputs": [],
   "source": [
    "train['BsmtFinType1'].fillna('0',inplace=True)\n",
    "train['BsmtFinType2'].fillna('0',inplace=True)"
   ]
  },
  {
   "cell_type": "code",
   "execution_count": 209,
   "id": "54e10783",
   "metadata": {},
   "outputs": [
    {
     "data": {
      "text/plain": [
       "SBrkr    1333\n",
       "FuseA      94\n",
       "FuseF      27\n",
       "FuseP       3\n",
       "Mix         1\n",
       "Name: Electrical_System, dtype: int64"
      ]
     },
     "execution_count": 209,
     "metadata": {},
     "output_type": "execute_result"
    }
   ],
   "source": [
    "train['Electrical_System'].value_counts()"
   ]
  },
  {
   "cell_type": "code",
   "execution_count": 210,
   "id": "45e3ab95",
   "metadata": {},
   "outputs": [],
   "source": [
    "train['Exposure_Level'].fillna('No',inplace=True)"
   ]
  },
  {
   "cell_type": "code",
   "execution_count": 211,
   "id": "aa737920",
   "metadata": {},
   "outputs": [],
   "source": [
    "train['Brick_Veneer_Type'].fillna('No',inplace=True)"
   ]
  },
  {
   "cell_type": "code",
   "execution_count": 212,
   "id": "b8c5b061",
   "metadata": {},
   "outputs": [],
   "source": [
    "train['Electrical_System'].fillna('Mix',inplace=True)"
   ]
  },
  {
   "cell_type": "code",
   "execution_count": 213,
   "id": "ebf3cf4e",
   "metadata": {},
   "outputs": [
    {
     "data": {
      "text/plain": [
       "False"
      ]
     },
     "execution_count": 213,
     "metadata": {},
     "output_type": "execute_result"
    }
   ],
   "source": [
    "train.isnull().sum().any()"
   ]
  },
  {
   "cell_type": "markdown",
   "id": "cc599752",
   "metadata": {},
   "source": [
    "# Test data set"
   ]
  },
  {
   "cell_type": "markdown",
   "id": "0d34dca0",
   "metadata": {},
   "source": [
    "a) Numerical Columns"
   ]
  },
  {
   "cell_type": "code",
   "execution_count": 19,
   "id": "2dd606b6",
   "metadata": {},
   "outputs": [],
   "source": [
    "test_num=test.select_dtypes(exclude='object')"
   ]
  },
  {
   "cell_type": "code",
   "execution_count": 20,
   "id": "b1665d4b",
   "metadata": {},
   "outputs": [
    {
     "data": {
      "text/plain": [
       "Id                           0.0\n",
       "Building_Class               0.0\n",
       "Lot_Extent                   0.0\n",
       "Lot_Size                     0.0\n",
       "Overall_Material             0.0\n",
       "House_Condition              0.0\n",
       "Construction_Year            0.0\n",
       "Remodel_Year                 0.0\n",
       "Brick_Veneer_Area            0.0\n",
       "BsmtFinSF1                   0.0\n",
       "BsmtFinSF2                   0.0\n",
       "BsmtUnfSF                    0.0\n",
       "Total_Basement_Area          0.0\n",
       "First_Floor_Area             0.0\n",
       "Second_Floor_Area            0.0\n",
       "LowQualFinSF                 0.0\n",
       "Grade_Living_Area            0.0\n",
       "Underground_Full_Bathroom    0.0\n",
       "Underground_Half_Bathroom    0.0\n",
       "Full_Bathroom_Above_Grade    0.0\n",
       "Half_Bathroom_Above_Grade    0.0\n",
       "Bedroom_Above_Grade          0.0\n",
       "Kitchen_Above_Grade          0.0\n",
       "Rooms_Above_Grade            0.0\n",
       "Fireplaces                   0.0\n",
       "Garage_Built_Year            0.0\n",
       "Garage_Size                  0.0\n",
       "Garage_Area                  0.0\n",
       "W_Deck_Area                  0.0\n",
       "Open_Lobby_Area              0.0\n",
       "Enclosed_Lobby_Area          0.0\n",
       "Three_Season_Lobby_Area      0.0\n",
       "Screen_Lobby_Area            0.0\n",
       "Pool_Area                    0.0\n",
       "Miscellaneous_Value          0.0\n",
       "Month_Sold                   0.0\n",
       "Year_Sold                    0.0\n",
       "dtype: float64"
      ]
     },
     "execution_count": 20,
     "metadata": {},
     "output_type": "execute_result"
    }
   ],
   "source": [
    "# Percentage of missing values\n",
    "per_num=100*test_num.isnull().sum()/len(test_num)\n",
    "per_num"
   ]
  },
  {
   "cell_type": "code",
   "execution_count": 60,
   "id": "da7a0ee0",
   "metadata": {},
   "outputs": [],
   "source": [
    "#using describe method to view the summary\n",
    "#test_num.describe().T.sort_values(by='count').head(10)"
   ]
  },
  {
   "cell_type": "code",
   "execution_count": 5,
   "id": "8527ccef",
   "metadata": {},
   "outputs": [],
   "source": [
    "test['Lot_Extent'].fillna(test['Lot_Extent'].mean(), inplace=True)"
   ]
  },
  {
   "cell_type": "code",
   "execution_count": 6,
   "id": "056a0577",
   "metadata": {},
   "outputs": [],
   "source": [
    "test['Brick_Veneer_Area'].fillna(test['Brick_Veneer_Area'].mean(), inplace=True)"
   ]
  },
  {
   "cell_type": "code",
   "execution_count": 7,
   "id": "06f166e9",
   "metadata": {},
   "outputs": [],
   "source": [
    "test['Garage_Built_Year'].fillna(0, inplace=True)"
   ]
  },
  {
   "cell_type": "code",
   "execution_count": 8,
   "id": "65a8e095",
   "metadata": {},
   "outputs": [
    {
     "data": {
      "text/plain": [
       "0      26\n",
       "1       6\n",
       "2       2\n",
       "78      1\n",
       "15      1\n",
       "227     1\n",
       "dtype: int64"
      ]
     },
     "execution_count": 8,
     "metadata": {},
     "output_type": "execute_result"
    }
   ],
   "source": [
    "test_num.isnull().sum().value_counts()#BsmtFinSF1"
   ]
  },
  {
   "cell_type": "code",
   "execution_count": 9,
   "id": "090ade89",
   "metadata": {},
   "outputs": [
    {
     "data": {
      "text/plain": [
       "0.0    849\n",
       "1.0    584\n",
       "2.0     23\n",
       "3.0      1\n",
       "Name: Underground_Full_Bathroom, dtype: int64"
      ]
     },
     "execution_count": 9,
     "metadata": {},
     "output_type": "execute_result"
    }
   ],
   "source": [
    "test['Underground_Full_Bathroom'].value_counts()"
   ]
  },
  {
   "cell_type": "code",
   "execution_count": 10,
   "id": "c50b56ad",
   "metadata": {},
   "outputs": [],
   "source": [
    "test['BsmtFinSF1'].fillna(test['BsmtFinSF1'].mean(), inplace=True)"
   ]
  },
  {
   "cell_type": "code",
   "execution_count": 11,
   "id": "ebb2b00a",
   "metadata": {},
   "outputs": [],
   "source": [
    "test['BsmtFinSF2'].fillna(test['BsmtFinSF2'].mean(), inplace=True)"
   ]
  },
  {
   "cell_type": "code",
   "execution_count": 12,
   "id": "ac6af449",
   "metadata": {},
   "outputs": [],
   "source": [
    "test['BsmtUnfSF'].fillna(test['BsmtUnfSF'].mean(), inplace=True)"
   ]
  },
  {
   "cell_type": "code",
   "execution_count": 13,
   "id": "a01bb117",
   "metadata": {},
   "outputs": [],
   "source": [
    "test['Total_Basement_Area'].fillna(test['Total_Basement_Area'].mean(), inplace=True)"
   ]
  },
  {
   "cell_type": "code",
   "execution_count": 14,
   "id": "75dccc70",
   "metadata": {},
   "outputs": [],
   "source": [
    "test['Underground_Full_Bathroom'].fillna(test['Underground_Full_Bathroom'].mean(), inplace=True)"
   ]
  },
  {
   "cell_type": "code",
   "execution_count": 15,
   "id": "cafe487f",
   "metadata": {},
   "outputs": [],
   "source": [
    "test['Underground_Half_Bathroom'].fillna(test['Underground_Half_Bathroom'].mean(), inplace=True)"
   ]
  },
  {
   "cell_type": "code",
   "execution_count": 16,
   "id": "6fe0352d",
   "metadata": {},
   "outputs": [],
   "source": [
    "test['Garage_Size'].fillna(1,inplace=True)"
   ]
  },
  {
   "cell_type": "code",
   "execution_count": 17,
   "id": "a15aa2e2",
   "metadata": {},
   "outputs": [],
   "source": [
    "test['Garage_Area'].fillna(test['Garage_Area'].mean(), inplace=True)"
   ]
  },
  {
   "cell_type": "code",
   "execution_count": null,
   "id": "f9740268",
   "metadata": {},
   "outputs": [],
   "source": []
  },
  {
   "cell_type": "markdown",
   "id": "ae5439a1",
   "metadata": {},
   "source": [
    "b) Categorical Columns"
   ]
  },
  {
   "cell_type": "code",
   "execution_count": 43,
   "id": "ca8de04c",
   "metadata": {},
   "outputs": [],
   "source": [
    "test_cat=test.select_dtypes(include='object')"
   ]
  },
  {
   "cell_type": "code",
   "execution_count": 44,
   "id": "2c0d659c",
   "metadata": {},
   "outputs": [
    {
     "data": {
      "text/plain": [
       "Zoning_Class          0.0\n",
       "Road_Type             0.0\n",
       "Property_Shape        0.0\n",
       "Land_Outline          0.0\n",
       "Utility_Type          0.0\n",
       "Lot_Configuration     0.0\n",
       "Property_Slope        0.0\n",
       "Neighborhood          0.0\n",
       "Condition1            0.0\n",
       "Condition2            0.0\n",
       "House_Type            0.0\n",
       "House_Design          0.0\n",
       "Roof_Design           0.0\n",
       "Roof_Quality          0.0\n",
       "Exterior1st           0.0\n",
       "Exterior2nd           0.0\n",
       "Brick_Veneer_Type     0.0\n",
       "Exterior_Material     0.0\n",
       "Exterior_Condition    0.0\n",
       "Foundation_Type       0.0\n",
       "Basement_Height       0.0\n",
       "Basement_Condition    0.0\n",
       "Exposure_Level        0.0\n",
       "BsmtFinType1          0.0\n",
       "BsmtFinType2          0.0\n",
       "Heating_Type          0.0\n",
       "Heating_Quality       0.0\n",
       "Air_Conditioning      0.0\n",
       "Electrical_System     0.0\n",
       "Kitchen_Quality       0.0\n",
       "Functional_Rate       0.0\n",
       "Garage                0.0\n",
       "Garage_Finish_Year    0.0\n",
       "Garage_Quality        0.0\n",
       "Garage_Condition      0.0\n",
       "Pavedd_Drive          0.0\n",
       "Sale_Type             0.0\n",
       "Sale_Condition        0.0\n",
       "dtype: float64"
      ]
     },
     "execution_count": 44,
     "metadata": {},
     "output_type": "execute_result"
    }
   ],
   "source": [
    "# Percentage of missing values\n",
    "per_cat=100*test_cat.isnull().sum()/len(test_cat)\n",
    "per_cat"
   ]
  },
  {
   "cell_type": "code",
   "execution_count": 23,
   "id": "e16f3391",
   "metadata": {},
   "outputs": [],
   "source": [
    "test.drop('Miscellaneous_Feature',axis=1,inplace=True)\n",
    "test.drop('Lane_Type',axis=1,inplace=True)\n",
    "test.drop('Pool_Quality',axis=1,inplace=True)\n",
    "test.drop('Fence_Quality',axis=1,inplace=True)"
   ]
  },
  {
   "cell_type": "code",
   "execution_count": 24,
   "id": "c6f72bbd",
   "metadata": {},
   "outputs": [],
   "source": [
    "test.drop('Fireplace_Quality',axis=1,inplace=True)"
   ]
  },
  {
   "cell_type": "code",
   "execution_count": 25,
   "id": "f5530f29",
   "metadata": {},
   "outputs": [
    {
     "data": {
      "text/plain": [
       "TA    1295\n",
       "Fa      59\n",
       "Gd      57\n",
       "Po       3\n",
       "Name: Basement_Condition, dtype: int64"
      ]
     },
     "execution_count": 25,
     "metadata": {},
     "output_type": "execute_result"
    }
   ],
   "source": [
    "test['Basement_Condition'].value_counts()"
   ]
  },
  {
   "cell_type": "code",
   "execution_count": 26,
   "id": "6e877588",
   "metadata": {},
   "outputs": [],
   "source": [
    "test['Zoning_Class'].fillna('RLD',inplace=True)"
   ]
  },
  {
   "cell_type": "code",
   "execution_count": 27,
   "id": "2d555087",
   "metadata": {},
   "outputs": [],
   "source": [
    "test['Utility_Type'].fillna('AllPub',inplace=True)"
   ]
  },
  {
   "cell_type": "code",
   "execution_count": 28,
   "id": "82d47bc5",
   "metadata": {},
   "outputs": [],
   "source": [
    "test['Exterior1st'].fillna('VinylSd',inplace=True)"
   ]
  },
  {
   "cell_type": "code",
   "execution_count": 29,
   "id": "8cc2baaa",
   "metadata": {},
   "outputs": [],
   "source": [
    "test['Exterior2nd'].fillna('VinylSd',inplace=True)"
   ]
  },
  {
   "cell_type": "code",
   "execution_count": 30,
   "id": "dbaf1b2a",
   "metadata": {},
   "outputs": [],
   "source": [
    "test['Brick_Veneer_Type'].fillna('None',inplace=True)"
   ]
  },
  {
   "cell_type": "code",
   "execution_count": 31,
   "id": "a8bc0717",
   "metadata": {},
   "outputs": [],
   "source": [
    "test['Basement_Height'].fillna('TA',inplace=True)"
   ]
  },
  {
   "cell_type": "code",
   "execution_count": 32,
   "id": "fce528c2",
   "metadata": {},
   "outputs": [],
   "source": [
    "test['Basement_Condition'].fillna('TA',inplace=True)"
   ]
  },
  {
   "cell_type": "code",
   "execution_count": 33,
   "id": "f8ac93ad",
   "metadata": {},
   "outputs": [
    {
     "data": {
      "text/plain": [
       "WD       1258\n",
       "New       117\n",
       "COD        44\n",
       "ConLD      17\n",
       "CWD         8\n",
       "ConLI       4\n",
       "Oth         4\n",
       "Con         3\n",
       "ConLw       3\n",
       "Name: Sale_Type, dtype: int64"
      ]
     },
     "execution_count": 33,
     "metadata": {},
     "output_type": "execute_result"
    }
   ],
   "source": [
    "test['Sale_Type'].value_counts()"
   ]
  },
  {
   "cell_type": "code",
   "execution_count": 34,
   "id": "916e1d95",
   "metadata": {},
   "outputs": [],
   "source": [
    "test['Exposure_Level'].fillna('No',inplace=True)"
   ]
  },
  {
   "cell_type": "code",
   "execution_count": 35,
   "id": "9bdc4a23",
   "metadata": {},
   "outputs": [],
   "source": [
    "test['BsmtFinType1'].fillna('GLQ',inplace=True)"
   ]
  },
  {
   "cell_type": "code",
   "execution_count": 36,
   "id": "9c59d886",
   "metadata": {},
   "outputs": [],
   "source": [
    "test['BsmtFinType2'].fillna('Unf',inplace=True)"
   ]
  },
  {
   "cell_type": "code",
   "execution_count": 37,
   "id": "72561188",
   "metadata": {},
   "outputs": [],
   "source": [
    "test['Kitchen_Quality'].fillna('TA',inplace=True)"
   ]
  },
  {
   "cell_type": "code",
   "execution_count": 38,
   "id": "71117378",
   "metadata": {},
   "outputs": [],
   "source": [
    "test['Functional_Rate'].fillna('MS',inplace=True)"
   ]
  },
  {
   "cell_type": "code",
   "execution_count": 39,
   "id": "50d9c388",
   "metadata": {},
   "outputs": [
    {
     "data": {
      "text/html": [
       "<div>\n",
       "<style scoped>\n",
       "    .dataframe tbody tr th:only-of-type {\n",
       "        vertical-align: middle;\n",
       "    }\n",
       "\n",
       "    .dataframe tbody tr th {\n",
       "        vertical-align: top;\n",
       "    }\n",
       "\n",
       "    .dataframe thead th {\n",
       "        text-align: right;\n",
       "    }\n",
       "</style>\n",
       "<table border=\"1\" class=\"dataframe\">\n",
       "  <thead>\n",
       "    <tr style=\"text-align: right;\">\n",
       "      <th></th>\n",
       "      <th>Garage</th>\n",
       "      <th>Garage_Finish_Year</th>\n",
       "    </tr>\n",
       "  </thead>\n",
       "  <tbody>\n",
       "    <tr>\n",
       "      <th>53</th>\n",
       "      <td>NaN</td>\n",
       "      <td>NaN</td>\n",
       "    </tr>\n",
       "    <tr>\n",
       "      <th>71</th>\n",
       "      <td>NaN</td>\n",
       "      <td>NaN</td>\n",
       "    </tr>\n",
       "    <tr>\n",
       "      <th>79</th>\n",
       "      <td>NaN</td>\n",
       "      <td>NaN</td>\n",
       "    </tr>\n",
       "    <tr>\n",
       "      <th>92</th>\n",
       "      <td>NaN</td>\n",
       "      <td>NaN</td>\n",
       "    </tr>\n",
       "    <tr>\n",
       "      <th>96</th>\n",
       "      <td>NaN</td>\n",
       "      <td>NaN</td>\n",
       "    </tr>\n",
       "    <tr>\n",
       "      <th>...</th>\n",
       "      <td>...</td>\n",
       "      <td>...</td>\n",
       "    </tr>\n",
       "    <tr>\n",
       "      <th>1433</th>\n",
       "      <td>NaN</td>\n",
       "      <td>NaN</td>\n",
       "    </tr>\n",
       "    <tr>\n",
       "      <th>1449</th>\n",
       "      <td>NaN</td>\n",
       "      <td>NaN</td>\n",
       "    </tr>\n",
       "    <tr>\n",
       "      <th>1453</th>\n",
       "      <td>NaN</td>\n",
       "      <td>NaN</td>\n",
       "    </tr>\n",
       "    <tr>\n",
       "      <th>1454</th>\n",
       "      <td>NaN</td>\n",
       "      <td>NaN</td>\n",
       "    </tr>\n",
       "    <tr>\n",
       "      <th>1457</th>\n",
       "      <td>NaN</td>\n",
       "      <td>NaN</td>\n",
       "    </tr>\n",
       "  </tbody>\n",
       "</table>\n",
       "<p>78 rows × 2 columns</p>\n",
       "</div>"
      ],
      "text/plain": [
       "     Garage Garage_Finish_Year\n",
       "53      NaN                NaN\n",
       "71      NaN                NaN\n",
       "79      NaN                NaN\n",
       "92      NaN                NaN\n",
       "96      NaN                NaN\n",
       "...     ...                ...\n",
       "1433    NaN                NaN\n",
       "1449    NaN                NaN\n",
       "1453    NaN                NaN\n",
       "1454    NaN                NaN\n",
       "1457    NaN                NaN\n",
       "\n",
       "[78 rows x 2 columns]"
      ]
     },
     "execution_count": 39,
     "metadata": {},
     "output_type": "execute_result"
    }
   ],
   "source": [
    "test[['Garage','Garage_Finish_Year']].loc[test.Garage_Finish_Year.isnull()]"
   ]
  },
  {
   "cell_type": "code",
   "execution_count": 40,
   "id": "1e4ca605",
   "metadata": {},
   "outputs": [
    {
     "data": {
      "text/html": [
       "<div>\n",
       "<style scoped>\n",
       "    .dataframe tbody tr th:only-of-type {\n",
       "        vertical-align: middle;\n",
       "    }\n",
       "\n",
       "    .dataframe tbody tr th {\n",
       "        vertical-align: top;\n",
       "    }\n",
       "\n",
       "    .dataframe thead th {\n",
       "        text-align: right;\n",
       "    }\n",
       "</style>\n",
       "<table border=\"1\" class=\"dataframe\">\n",
       "  <thead>\n",
       "    <tr style=\"text-align: right;\">\n",
       "      <th></th>\n",
       "      <th>Garage_Quality</th>\n",
       "      <th>Garage_Condition</th>\n",
       "    </tr>\n",
       "  </thead>\n",
       "  <tbody>\n",
       "    <tr>\n",
       "      <th>53</th>\n",
       "      <td>NaN</td>\n",
       "      <td>NaN</td>\n",
       "    </tr>\n",
       "    <tr>\n",
       "      <th>71</th>\n",
       "      <td>NaN</td>\n",
       "      <td>NaN</td>\n",
       "    </tr>\n",
       "    <tr>\n",
       "      <th>79</th>\n",
       "      <td>NaN</td>\n",
       "      <td>NaN</td>\n",
       "    </tr>\n",
       "    <tr>\n",
       "      <th>92</th>\n",
       "      <td>NaN</td>\n",
       "      <td>NaN</td>\n",
       "    </tr>\n",
       "    <tr>\n",
       "      <th>96</th>\n",
       "      <td>NaN</td>\n",
       "      <td>NaN</td>\n",
       "    </tr>\n",
       "    <tr>\n",
       "      <th>...</th>\n",
       "      <td>...</td>\n",
       "      <td>...</td>\n",
       "    </tr>\n",
       "    <tr>\n",
       "      <th>1433</th>\n",
       "      <td>NaN</td>\n",
       "      <td>NaN</td>\n",
       "    </tr>\n",
       "    <tr>\n",
       "      <th>1449</th>\n",
       "      <td>NaN</td>\n",
       "      <td>NaN</td>\n",
       "    </tr>\n",
       "    <tr>\n",
       "      <th>1453</th>\n",
       "      <td>NaN</td>\n",
       "      <td>NaN</td>\n",
       "    </tr>\n",
       "    <tr>\n",
       "      <th>1454</th>\n",
       "      <td>NaN</td>\n",
       "      <td>NaN</td>\n",
       "    </tr>\n",
       "    <tr>\n",
       "      <th>1457</th>\n",
       "      <td>NaN</td>\n",
       "      <td>NaN</td>\n",
       "    </tr>\n",
       "  </tbody>\n",
       "</table>\n",
       "<p>78 rows × 2 columns</p>\n",
       "</div>"
      ],
      "text/plain": [
       "     Garage_Quality Garage_Condition\n",
       "53              NaN              NaN\n",
       "71              NaN              NaN\n",
       "79              NaN              NaN\n",
       "92              NaN              NaN\n",
       "96              NaN              NaN\n",
       "...             ...              ...\n",
       "1433            NaN              NaN\n",
       "1449            NaN              NaN\n",
       "1453            NaN              NaN\n",
       "1454            NaN              NaN\n",
       "1457            NaN              NaN\n",
       "\n",
       "[78 rows x 2 columns]"
      ]
     },
     "execution_count": 40,
     "metadata": {},
     "output_type": "execute_result"
    }
   ],
   "source": [
    "test[['Garage_Quality','Garage_Condition']].loc[test.Garage_Condition.isnull()]"
   ]
  },
  {
   "cell_type": "code",
   "execution_count": 41,
   "id": "79cbcfd7",
   "metadata": {},
   "outputs": [],
   "source": [
    "test['Garage'].fillna('0',inplace=True)\n",
    "test['Garage_Quality'].fillna('0',inplace=True)\n",
    "test['Garage_Finish_Year'].fillna('0',inplace=True)\n",
    "test['Garage_Condition'].fillna('0',inplace=True)"
   ]
  },
  {
   "cell_type": "code",
   "execution_count": 42,
   "id": "da619cc2",
   "metadata": {},
   "outputs": [],
   "source": [
    "test['Sale_Type'].fillna('WD',inplace=True)"
   ]
  },
  {
   "cell_type": "markdown",
   "id": "cd871e68",
   "metadata": {},
   "source": [
    "# 2. DATA TRANSFORMATION"
   ]
  },
  {
   "cell_type": "code",
   "execution_count": 50,
   "id": "09b58bae",
   "metadata": {},
   "outputs": [],
   "source": [
    "df1=test.copy()"
   ]
  },
  {
   "cell_type": "code",
   "execution_count": 220,
   "id": "37167844",
   "metadata": {},
   "outputs": [],
   "source": [
    "df=train.copy()"
   ]
  },
  {
   "cell_type": "code",
   "execution_count": 221,
   "id": "60b017ac",
   "metadata": {},
   "outputs": [],
   "source": [
    "#train_v2.shape"
   ]
  },
  {
   "cell_type": "code",
   "execution_count": 45,
   "id": "3bc90523",
   "metadata": {},
   "outputs": [],
   "source": [
    "from sklearn.preprocessing import OrdinalEncoder\n",
    "ord_df=OrdinalEncoder()"
   ]
  },
  {
   "cell_type": "code",
   "execution_count": 112,
   "id": "e3b8991a",
   "metadata": {},
   "outputs": [
    {
     "data": {
      "text/plain": [
       "OrdinalEncoder()"
      ]
     },
     "execution_count": 112,
     "metadata": {},
     "output_type": "execute_result"
    }
   ],
   "source": [
    "ord_df"
   ]
  },
  {
   "cell_type": "code",
   "execution_count": 222,
   "id": "6cb61d29",
   "metadata": {},
   "outputs": [],
   "source": [
    "df_cat=train.select_dtypes(include='object')"
   ]
  },
  {
   "cell_type": "code",
   "execution_count": 46,
   "id": "2f3f0178",
   "metadata": {},
   "outputs": [],
   "source": [
    "df_cat1=test.select_dtypes(include='object')"
   ]
  },
  {
   "cell_type": "code",
   "execution_count": 223,
   "id": "12f3269a",
   "metadata": {},
   "outputs": [],
   "source": [
    "#df_cat1.head()"
   ]
  },
  {
   "cell_type": "code",
   "execution_count": 107,
   "id": "10805b5f",
   "metadata": {},
   "outputs": [
    {
     "data": {
      "text/plain": [
       "False"
      ]
     },
     "execution_count": 107,
     "metadata": {},
     "output_type": "execute_result"
    }
   ],
   "source": [
    "df_cat.isnull().sum().any()"
   ]
  },
  {
   "cell_type": "code",
   "execution_count": 224,
   "id": "fca5562e",
   "metadata": {},
   "outputs": [
    {
     "data": {
      "text/plain": [
       "(1459, 75)"
      ]
     },
     "execution_count": 224,
     "metadata": {},
     "output_type": "execute_result"
    }
   ],
   "source": [
    "df1.shape"
   ]
  },
  {
   "cell_type": "code",
   "execution_count": 109,
   "id": "d6d024e8",
   "metadata": {},
   "outputs": [
    {
     "data": {
      "text/plain": [
       "(1459, 76)"
      ]
     },
     "execution_count": 109,
     "metadata": {},
     "output_type": "execute_result"
    }
   ],
   "source": [
    "df.shape"
   ]
  },
  {
   "cell_type": "code",
   "execution_count": 48,
   "id": "a9e7d221",
   "metadata": {},
   "outputs": [],
   "source": [
    "cat_col1 = []\n",
    "for col in test.columns:\n",
    "    if test[col].dtype =='object':\n",
    "        cat_col1.append(col)"
   ]
  },
  {
   "cell_type": "code",
   "execution_count": 51,
   "id": "e8bfb4cf",
   "metadata": {},
   "outputs": [],
   "source": [
    "ordinal_df1 = ord_df.fit_transform(df1[cat_col1])\n",
    "ordinal_df1 = pd.DataFrame(ordinal_df1, index = df1.index ,columns = cat_col1) "
   ]
  },
  {
   "cell_type": "code",
   "execution_count": 225,
   "id": "5a476d64",
   "metadata": {},
   "outputs": [],
   "source": [
    "cat_col = []\n",
    "for col in train.columns:\n",
    "    if train[col].dtype =='object':\n",
    "        cat_col.append(col)"
   ]
  },
  {
   "cell_type": "code",
   "execution_count": 226,
   "id": "62f34664",
   "metadata": {},
   "outputs": [],
   "source": [
    "ordinal_df = ord_df.fit_transform(df[cat_col])\n",
    "ordinal_df = pd.DataFrame(ordinal_df, index = df.index ,columns = cat_col) "
   ]
  },
  {
   "cell_type": "code",
   "execution_count": 595,
   "id": "1413edf6",
   "metadata": {},
   "outputs": [
    {
     "data": {
      "text/html": [
       "<div>\n",
       "<style scoped>\n",
       "    .dataframe tbody tr th:only-of-type {\n",
       "        vertical-align: middle;\n",
       "    }\n",
       "\n",
       "    .dataframe tbody tr th {\n",
       "        vertical-align: top;\n",
       "    }\n",
       "\n",
       "    .dataframe thead th {\n",
       "        text-align: right;\n",
       "    }\n",
       "</style>\n",
       "<table border=\"1\" class=\"dataframe\">\n",
       "  <thead>\n",
       "    <tr style=\"text-align: right;\">\n",
       "      <th></th>\n",
       "      <th>Zoning_Class</th>\n",
       "      <th>Road_Type</th>\n",
       "      <th>Property_Shape</th>\n",
       "      <th>Land_Outline</th>\n",
       "      <th>Utility_Type</th>\n",
       "      <th>Lot_Configuration</th>\n",
       "      <th>Property_Slope</th>\n",
       "      <th>Neighborhood</th>\n",
       "      <th>Condition1</th>\n",
       "      <th>Condition2</th>\n",
       "      <th>House_Type</th>\n",
       "      <th>House_Design</th>\n",
       "      <th>Roof_Design</th>\n",
       "      <th>Roof_Quality</th>\n",
       "      <th>Exterior1st</th>\n",
       "      <th>Exterior2nd</th>\n",
       "      <th>Brick_Veneer_Type</th>\n",
       "      <th>Exterior_Material</th>\n",
       "      <th>Exterior_Condition</th>\n",
       "      <th>Foundation_Type</th>\n",
       "      <th>Basement_Height</th>\n",
       "      <th>Basement_Condition</th>\n",
       "      <th>Exposure_Level</th>\n",
       "      <th>BsmtFinType1</th>\n",
       "      <th>BsmtFinType2</th>\n",
       "      <th>Heating_Type</th>\n",
       "      <th>Heating_Quality</th>\n",
       "      <th>Air_Conditioning</th>\n",
       "      <th>Electrical_System</th>\n",
       "      <th>Kitchen_Quality</th>\n",
       "      <th>Functional_Rate</th>\n",
       "      <th>Garage</th>\n",
       "      <th>Garage_Finish_Year</th>\n",
       "      <th>Garage_Quality</th>\n",
       "      <th>Garage_Condition</th>\n",
       "      <th>Pavedd_Drive</th>\n",
       "      <th>Sale_Type</th>\n",
       "      <th>Sale_Condition</th>\n",
       "    </tr>\n",
       "  </thead>\n",
       "  <tbody>\n",
       "    <tr>\n",
       "      <th>0</th>\n",
       "      <td>2.0</td>\n",
       "      <td>1.0</td>\n",
       "      <td>3.0</td>\n",
       "      <td>3.0</td>\n",
       "      <td>0.0</td>\n",
       "      <td>4.0</td>\n",
       "      <td>0.0</td>\n",
       "      <td>12.0</td>\n",
       "      <td>1.0</td>\n",
       "      <td>3.0</td>\n",
       "      <td>0.0</td>\n",
       "      <td>2.0</td>\n",
       "      <td>1.0</td>\n",
       "      <td>0.0</td>\n",
       "      <td>10.0</td>\n",
       "      <td>12.0</td>\n",
       "      <td>2.0</td>\n",
       "      <td>3.0</td>\n",
       "      <td>4.0</td>\n",
       "      <td>1.0</td>\n",
       "      <td>3.0</td>\n",
       "      <td>3.0</td>\n",
       "      <td>3.0</td>\n",
       "      <td>4.0</td>\n",
       "      <td>3.0</td>\n",
       "      <td>0.0</td>\n",
       "      <td>4.0</td>\n",
       "      <td>1.0</td>\n",
       "      <td>3.0</td>\n",
       "      <td>3.0</td>\n",
       "      <td>7.0</td>\n",
       "      <td>3.0</td>\n",
       "      <td>3.0</td>\n",
       "      <td>4.0</td>\n",
       "      <td>5.0</td>\n",
       "      <td>2.0</td>\n",
       "      <td>8.0</td>\n",
       "      <td>6.0</td>\n",
       "    </tr>\n",
       "    <tr>\n",
       "      <th>1</th>\n",
       "      <td>3.0</td>\n",
       "      <td>1.0</td>\n",
       "      <td>0.0</td>\n",
       "      <td>3.0</td>\n",
       "      <td>0.0</td>\n",
       "      <td>0.0</td>\n",
       "      <td>0.0</td>\n",
       "      <td>12.0</td>\n",
       "      <td>3.0</td>\n",
       "      <td>3.0</td>\n",
       "      <td>0.0</td>\n",
       "      <td>2.0</td>\n",
       "      <td>3.0</td>\n",
       "      <td>0.0</td>\n",
       "      <td>11.0</td>\n",
       "      <td>13.0</td>\n",
       "      <td>1.0</td>\n",
       "      <td>3.0</td>\n",
       "      <td>4.0</td>\n",
       "      <td>1.0</td>\n",
       "      <td>3.0</td>\n",
       "      <td>3.0</td>\n",
       "      <td>3.0</td>\n",
       "      <td>0.0</td>\n",
       "      <td>5.0</td>\n",
       "      <td>0.0</td>\n",
       "      <td>4.0</td>\n",
       "      <td>1.0</td>\n",
       "      <td>3.0</td>\n",
       "      <td>2.0</td>\n",
       "      <td>7.0</td>\n",
       "      <td>3.0</td>\n",
       "      <td>3.0</td>\n",
       "      <td>4.0</td>\n",
       "      <td>5.0</td>\n",
       "      <td>2.0</td>\n",
       "      <td>8.0</td>\n",
       "      <td>6.0</td>\n",
       "    </tr>\n",
       "    <tr>\n",
       "      <th>2</th>\n",
       "      <td>3.0</td>\n",
       "      <td>1.0</td>\n",
       "      <td>0.0</td>\n",
       "      <td>3.0</td>\n",
       "      <td>0.0</td>\n",
       "      <td>4.0</td>\n",
       "      <td>0.0</td>\n",
       "      <td>8.0</td>\n",
       "      <td>3.0</td>\n",
       "      <td>3.0</td>\n",
       "      <td>0.0</td>\n",
       "      <td>4.0</td>\n",
       "      <td>1.0</td>\n",
       "      <td>0.0</td>\n",
       "      <td>10.0</td>\n",
       "      <td>12.0</td>\n",
       "      <td>2.0</td>\n",
       "      <td>3.0</td>\n",
       "      <td>4.0</td>\n",
       "      <td>2.0</td>\n",
       "      <td>2.0</td>\n",
       "      <td>3.0</td>\n",
       "      <td>3.0</td>\n",
       "      <td>2.0</td>\n",
       "      <td>5.0</td>\n",
       "      <td>0.0</td>\n",
       "      <td>2.0</td>\n",
       "      <td>1.0</td>\n",
       "      <td>3.0</td>\n",
       "      <td>3.0</td>\n",
       "      <td>7.0</td>\n",
       "      <td>3.0</td>\n",
       "      <td>1.0</td>\n",
       "      <td>4.0</td>\n",
       "      <td>5.0</td>\n",
       "      <td>2.0</td>\n",
       "      <td>8.0</td>\n",
       "      <td>6.0</td>\n",
       "    </tr>\n",
       "    <tr>\n",
       "      <th>3</th>\n",
       "      <td>3.0</td>\n",
       "      <td>1.0</td>\n",
       "      <td>0.0</td>\n",
       "      <td>3.0</td>\n",
       "      <td>0.0</td>\n",
       "      <td>4.0</td>\n",
       "      <td>0.0</td>\n",
       "      <td>8.0</td>\n",
       "      <td>3.0</td>\n",
       "      <td>3.0</td>\n",
       "      <td>0.0</td>\n",
       "      <td>4.0</td>\n",
       "      <td>1.0</td>\n",
       "      <td>0.0</td>\n",
       "      <td>10.0</td>\n",
       "      <td>12.0</td>\n",
       "      <td>1.0</td>\n",
       "      <td>3.0</td>\n",
       "      <td>4.0</td>\n",
       "      <td>2.0</td>\n",
       "      <td>3.0</td>\n",
       "      <td>3.0</td>\n",
       "      <td>3.0</td>\n",
       "      <td>2.0</td>\n",
       "      <td>5.0</td>\n",
       "      <td>0.0</td>\n",
       "      <td>0.0</td>\n",
       "      <td>1.0</td>\n",
       "      <td>3.0</td>\n",
       "      <td>2.0</td>\n",
       "      <td>7.0</td>\n",
       "      <td>3.0</td>\n",
       "      <td>1.0</td>\n",
       "      <td>4.0</td>\n",
       "      <td>5.0</td>\n",
       "      <td>2.0</td>\n",
       "      <td>8.0</td>\n",
       "      <td>6.0</td>\n",
       "    </tr>\n",
       "    <tr>\n",
       "      <th>4</th>\n",
       "      <td>3.0</td>\n",
       "      <td>1.0</td>\n",
       "      <td>0.0</td>\n",
       "      <td>1.0</td>\n",
       "      <td>0.0</td>\n",
       "      <td>4.0</td>\n",
       "      <td>0.0</td>\n",
       "      <td>22.0</td>\n",
       "      <td>3.0</td>\n",
       "      <td>3.0</td>\n",
       "      <td>4.0</td>\n",
       "      <td>2.0</td>\n",
       "      <td>1.0</td>\n",
       "      <td>0.0</td>\n",
       "      <td>6.0</td>\n",
       "      <td>6.0</td>\n",
       "      <td>2.0</td>\n",
       "      <td>2.0</td>\n",
       "      <td>4.0</td>\n",
       "      <td>2.0</td>\n",
       "      <td>2.0</td>\n",
       "      <td>3.0</td>\n",
       "      <td>3.0</td>\n",
       "      <td>0.0</td>\n",
       "      <td>5.0</td>\n",
       "      <td>0.0</td>\n",
       "      <td>0.0</td>\n",
       "      <td>1.0</td>\n",
       "      <td>3.0</td>\n",
       "      <td>2.0</td>\n",
       "      <td>7.0</td>\n",
       "      <td>3.0</td>\n",
       "      <td>2.0</td>\n",
       "      <td>4.0</td>\n",
       "      <td>5.0</td>\n",
       "      <td>2.0</td>\n",
       "      <td>8.0</td>\n",
       "      <td>6.0</td>\n",
       "    </tr>\n",
       "  </tbody>\n",
       "</table>\n",
       "</div>"
      ],
      "text/plain": [
       "   Zoning_Class  Road_Type  Property_Shape  Land_Outline  Utility_Type  \\\n",
       "0           2.0        1.0             3.0           3.0           0.0   \n",
       "1           3.0        1.0             0.0           3.0           0.0   \n",
       "2           3.0        1.0             0.0           3.0           0.0   \n",
       "3           3.0        1.0             0.0           3.0           0.0   \n",
       "4           3.0        1.0             0.0           1.0           0.0   \n",
       "\n",
       "   Lot_Configuration  Property_Slope  Neighborhood  Condition1  Condition2  \\\n",
       "0                4.0             0.0          12.0         1.0         3.0   \n",
       "1                0.0             0.0          12.0         3.0         3.0   \n",
       "2                4.0             0.0           8.0         3.0         3.0   \n",
       "3                4.0             0.0           8.0         3.0         3.0   \n",
       "4                4.0             0.0          22.0         3.0         3.0   \n",
       "\n",
       "   House_Type  House_Design  Roof_Design  Roof_Quality  Exterior1st  \\\n",
       "0         0.0           2.0          1.0           0.0         10.0   \n",
       "1         0.0           2.0          3.0           0.0         11.0   \n",
       "2         0.0           4.0          1.0           0.0         10.0   \n",
       "3         0.0           4.0          1.0           0.0         10.0   \n",
       "4         4.0           2.0          1.0           0.0          6.0   \n",
       "\n",
       "   Exterior2nd  Brick_Veneer_Type  Exterior_Material  Exterior_Condition  \\\n",
       "0         12.0                2.0                3.0                 4.0   \n",
       "1         13.0                1.0                3.0                 4.0   \n",
       "2         12.0                2.0                3.0                 4.0   \n",
       "3         12.0                1.0                3.0                 4.0   \n",
       "4          6.0                2.0                2.0                 4.0   \n",
       "\n",
       "   Foundation_Type  Basement_Height  Basement_Condition  Exposure_Level  \\\n",
       "0              1.0              3.0                 3.0             3.0   \n",
       "1              1.0              3.0                 3.0             3.0   \n",
       "2              2.0              2.0                 3.0             3.0   \n",
       "3              2.0              3.0                 3.0             3.0   \n",
       "4              2.0              2.0                 3.0             3.0   \n",
       "\n",
       "   BsmtFinType1  BsmtFinType2  Heating_Type  Heating_Quality  \\\n",
       "0           4.0           3.0           0.0              4.0   \n",
       "1           0.0           5.0           0.0              4.0   \n",
       "2           2.0           5.0           0.0              2.0   \n",
       "3           2.0           5.0           0.0              0.0   \n",
       "4           0.0           5.0           0.0              0.0   \n",
       "\n",
       "   Air_Conditioning  Electrical_System  Kitchen_Quality  Functional_Rate  \\\n",
       "0               1.0                3.0              3.0              7.0   \n",
       "1               1.0                3.0              2.0              7.0   \n",
       "2               1.0                3.0              3.0              7.0   \n",
       "3               1.0                3.0              2.0              7.0   \n",
       "4               1.0                3.0              2.0              7.0   \n",
       "\n",
       "   Garage  Garage_Finish_Year  Garage_Quality  Garage_Condition  Pavedd_Drive  \\\n",
       "0     3.0                 3.0             4.0               5.0           2.0   \n",
       "1     3.0                 3.0             4.0               5.0           2.0   \n",
       "2     3.0                 1.0             4.0               5.0           2.0   \n",
       "3     3.0                 1.0             4.0               5.0           2.0   \n",
       "4     3.0                 2.0             4.0               5.0           2.0   \n",
       "\n",
       "   Sale_Type  Sale_Condition  \n",
       "0        8.0             6.0  \n",
       "1        8.0             6.0  \n",
       "2        8.0             6.0  \n",
       "3        8.0             6.0  \n",
       "4        8.0             6.0  "
      ]
     },
     "execution_count": 595,
     "metadata": {},
     "output_type": "execute_result"
    }
   ],
   "source": [
    "ordinal_df1.head()"
   ]
  },
  {
   "cell_type": "code",
   "execution_count": 227,
   "id": "be5fa48e",
   "metadata": {},
   "outputs": [],
   "source": [
    "#dropping the ordianl categorical columns from our main dataset\n",
    "df=df.drop(cat_col,axis=1)"
   ]
  },
  {
   "cell_type": "code",
   "execution_count": 55,
   "id": "d1a55669",
   "metadata": {},
   "outputs": [],
   "source": [
    "df1=df1.drop(cat_col1,axis=1)"
   ]
  },
  {
   "cell_type": "code",
   "execution_count": 56,
   "id": "e791f6b8",
   "metadata": {},
   "outputs": [
    {
     "data": {
      "text/plain": [
       "(1459, 37)"
      ]
     },
     "execution_count": 56,
     "metadata": {},
     "output_type": "execute_result"
    }
   ],
   "source": [
    "df1.shape"
   ]
  },
  {
   "cell_type": "code",
   "execution_count": 228,
   "id": "a4ba6b92",
   "metadata": {},
   "outputs": [
    {
     "data": {
      "text/html": [
       "<div>\n",
       "<style scoped>\n",
       "    .dataframe tbody tr th:only-of-type {\n",
       "        vertical-align: middle;\n",
       "    }\n",
       "\n",
       "    .dataframe tbody tr th {\n",
       "        vertical-align: top;\n",
       "    }\n",
       "\n",
       "    .dataframe thead th {\n",
       "        text-align: right;\n",
       "    }\n",
       "</style>\n",
       "<table border=\"1\" class=\"dataframe\">\n",
       "  <thead>\n",
       "    <tr style=\"text-align: right;\">\n",
       "      <th></th>\n",
       "      <th>Id</th>\n",
       "      <th>Building_Class</th>\n",
       "      <th>Lot_Extent</th>\n",
       "      <th>Lot_Size</th>\n",
       "      <th>Overall_Material</th>\n",
       "      <th>House_Condition</th>\n",
       "      <th>Construction_Year</th>\n",
       "      <th>Remodel_Year</th>\n",
       "      <th>Brick_Veneer_Area</th>\n",
       "      <th>BsmtFinSF1</th>\n",
       "      <th>BsmtFinSF2</th>\n",
       "      <th>BsmtUnfSF</th>\n",
       "      <th>Total_Basement_Area</th>\n",
       "      <th>First_Floor_Area</th>\n",
       "      <th>Second_Floor_Area</th>\n",
       "      <th>LowQualFinSF</th>\n",
       "      <th>Grade_Living_Area</th>\n",
       "      <th>Underground_Full_Bathroom</th>\n",
       "      <th>Underground_Half_Bathroom</th>\n",
       "      <th>Full_Bathroom_Above_Grade</th>\n",
       "      <th>Half_Bathroom_Above_Grade</th>\n",
       "      <th>Bedroom_Above_Grade</th>\n",
       "      <th>Kitchen_Above_Grade</th>\n",
       "      <th>Rooms_Above_Grade</th>\n",
       "      <th>Fireplaces</th>\n",
       "      <th>Garage_Built_Year</th>\n",
       "      <th>Garage_Size</th>\n",
       "      <th>Garage_Area</th>\n",
       "      <th>W_Deck_Area</th>\n",
       "      <th>Open_Lobby_Area</th>\n",
       "      <th>Enclosed_Lobby_Area</th>\n",
       "      <th>Three_Season_Lobby_Area</th>\n",
       "      <th>Screen_Lobby_Area</th>\n",
       "      <th>Pool_Area</th>\n",
       "      <th>Miscellaneous_Value</th>\n",
       "      <th>Month_Sold</th>\n",
       "      <th>Year_Sold</th>\n",
       "      <th>Sale_Price</th>\n",
       "      <th>Zoning_Class</th>\n",
       "      <th>Road_Type</th>\n",
       "      <th>Property_Shape</th>\n",
       "      <th>Land_Outline</th>\n",
       "      <th>Utility_Type</th>\n",
       "      <th>Lot_Configuration</th>\n",
       "      <th>Property_Slope</th>\n",
       "      <th>Neighborhood</th>\n",
       "      <th>Condition1</th>\n",
       "      <th>Condition2</th>\n",
       "      <th>House_Type</th>\n",
       "      <th>House_Design</th>\n",
       "      <th>Roof_Design</th>\n",
       "      <th>Roof_Quality</th>\n",
       "      <th>Exterior1st</th>\n",
       "      <th>Exterior2nd</th>\n",
       "      <th>Brick_Veneer_Type</th>\n",
       "      <th>Exterior_Material</th>\n",
       "      <th>Exterior_Condition</th>\n",
       "      <th>Foundation_Type</th>\n",
       "      <th>Basement_Height</th>\n",
       "      <th>Basement_Condition</th>\n",
       "      <th>Exposure_Level</th>\n",
       "      <th>BsmtFinType1</th>\n",
       "      <th>BsmtFinType2</th>\n",
       "      <th>Heating_Type</th>\n",
       "      <th>Heating_Quality</th>\n",
       "      <th>Air_Conditioning</th>\n",
       "      <th>Electrical_System</th>\n",
       "      <th>Kitchen_Quality</th>\n",
       "      <th>Functional_Rate</th>\n",
       "      <th>Garage</th>\n",
       "      <th>Garage_Finish_Year</th>\n",
       "      <th>Garage_Quality</th>\n",
       "      <th>Garage_Condition</th>\n",
       "      <th>Pavedd_Drive</th>\n",
       "      <th>Sale_Type</th>\n",
       "      <th>Sale_Condition</th>\n",
       "    </tr>\n",
       "  </thead>\n",
       "  <tbody>\n",
       "    <tr>\n",
       "      <th>0</th>\n",
       "      <td>1</td>\n",
       "      <td>60</td>\n",
       "      <td>65.0</td>\n",
       "      <td>8450</td>\n",
       "      <td>7</td>\n",
       "      <td>5</td>\n",
       "      <td>2003</td>\n",
       "      <td>2003</td>\n",
       "      <td>196.0</td>\n",
       "      <td>706</td>\n",
       "      <td>0</td>\n",
       "      <td>150</td>\n",
       "      <td>856</td>\n",
       "      <td>856</td>\n",
       "      <td>854</td>\n",
       "      <td>0</td>\n",
       "      <td>1710</td>\n",
       "      <td>1</td>\n",
       "      <td>0</td>\n",
       "      <td>2</td>\n",
       "      <td>1</td>\n",
       "      <td>3</td>\n",
       "      <td>1</td>\n",
       "      <td>8</td>\n",
       "      <td>0</td>\n",
       "      <td>2003.0</td>\n",
       "      <td>2</td>\n",
       "      <td>1085.793744</td>\n",
       "      <td>163.788080</td>\n",
       "      <td>69.596115</td>\n",
       "      <td>20.337934</td>\n",
       "      <td>0</td>\n",
       "      <td>0</td>\n",
       "      <td>0</td>\n",
       "      <td>0</td>\n",
       "      <td>2</td>\n",
       "      <td>2008</td>\n",
       "      <td>208500</td>\n",
       "      <td>3.0</td>\n",
       "      <td>1.0</td>\n",
       "      <td>3.0</td>\n",
       "      <td>3.0</td>\n",
       "      <td>0.0</td>\n",
       "      <td>4.0</td>\n",
       "      <td>0.0</td>\n",
       "      <td>5.0</td>\n",
       "      <td>2.0</td>\n",
       "      <td>2.0</td>\n",
       "      <td>0.0</td>\n",
       "      <td>5.0</td>\n",
       "      <td>1.0</td>\n",
       "      <td>4.0</td>\n",
       "      <td>12.0</td>\n",
       "      <td>13.0</td>\n",
       "      <td>1.0</td>\n",
       "      <td>2.0</td>\n",
       "      <td>4.0</td>\n",
       "      <td>2.0</td>\n",
       "      <td>3.0</td>\n",
       "      <td>4.0</td>\n",
       "      <td>3.0</td>\n",
       "      <td>3.0</td>\n",
       "      <td>6.0</td>\n",
       "      <td>1.0</td>\n",
       "      <td>0.0</td>\n",
       "      <td>1.0</td>\n",
       "      <td>4.0</td>\n",
       "      <td>2.0</td>\n",
       "      <td>7.0</td>\n",
       "      <td>3.0</td>\n",
       "      <td>2.0</td>\n",
       "      <td>5.0</td>\n",
       "      <td>5.0</td>\n",
       "      <td>2.0</td>\n",
       "      <td>8.0</td>\n",
       "      <td>4.0</td>\n",
       "    </tr>\n",
       "    <tr>\n",
       "      <th>1</th>\n",
       "      <td>2</td>\n",
       "      <td>20</td>\n",
       "      <td>80.0</td>\n",
       "      <td>9600</td>\n",
       "      <td>6</td>\n",
       "      <td>8</td>\n",
       "      <td>1976</td>\n",
       "      <td>1976</td>\n",
       "      <td>0.0</td>\n",
       "      <td>978</td>\n",
       "      <td>0</td>\n",
       "      <td>284</td>\n",
       "      <td>1262</td>\n",
       "      <td>1262</td>\n",
       "      <td>0</td>\n",
       "      <td>0</td>\n",
       "      <td>1262</td>\n",
       "      <td>0</td>\n",
       "      <td>1</td>\n",
       "      <td>2</td>\n",
       "      <td>0</td>\n",
       "      <td>3</td>\n",
       "      <td>1</td>\n",
       "      <td>6</td>\n",
       "      <td>1</td>\n",
       "      <td>1976.0</td>\n",
       "      <td>2</td>\n",
       "      <td>196.316304</td>\n",
       "      <td>198.900074</td>\n",
       "      <td>74.716033</td>\n",
       "      <td>15.039392</td>\n",
       "      <td>0</td>\n",
       "      <td>0</td>\n",
       "      <td>0</td>\n",
       "      <td>0</td>\n",
       "      <td>5</td>\n",
       "      <td>2007</td>\n",
       "      <td>181500</td>\n",
       "      <td>3.0</td>\n",
       "      <td>1.0</td>\n",
       "      <td>3.0</td>\n",
       "      <td>3.0</td>\n",
       "      <td>0.0</td>\n",
       "      <td>2.0</td>\n",
       "      <td>0.0</td>\n",
       "      <td>24.0</td>\n",
       "      <td>1.0</td>\n",
       "      <td>2.0</td>\n",
       "      <td>0.0</td>\n",
       "      <td>2.0</td>\n",
       "      <td>1.0</td>\n",
       "      <td>4.0</td>\n",
       "      <td>8.0</td>\n",
       "      <td>8.0</td>\n",
       "      <td>3.0</td>\n",
       "      <td>3.0</td>\n",
       "      <td>4.0</td>\n",
       "      <td>1.0</td>\n",
       "      <td>3.0</td>\n",
       "      <td>4.0</td>\n",
       "      <td>1.0</td>\n",
       "      <td>1.0</td>\n",
       "      <td>6.0</td>\n",
       "      <td>1.0</td>\n",
       "      <td>0.0</td>\n",
       "      <td>1.0</td>\n",
       "      <td>4.0</td>\n",
       "      <td>3.0</td>\n",
       "      <td>7.0</td>\n",
       "      <td>3.0</td>\n",
       "      <td>2.0</td>\n",
       "      <td>5.0</td>\n",
       "      <td>5.0</td>\n",
       "      <td>2.0</td>\n",
       "      <td>8.0</td>\n",
       "      <td>4.0</td>\n",
       "    </tr>\n",
       "    <tr>\n",
       "      <th>2</th>\n",
       "      <td>3</td>\n",
       "      <td>60</td>\n",
       "      <td>68.0</td>\n",
       "      <td>11250</td>\n",
       "      <td>7</td>\n",
       "      <td>5</td>\n",
       "      <td>2001</td>\n",
       "      <td>2002</td>\n",
       "      <td>162.0</td>\n",
       "      <td>486</td>\n",
       "      <td>0</td>\n",
       "      <td>434</td>\n",
       "      <td>920</td>\n",
       "      <td>920</td>\n",
       "      <td>866</td>\n",
       "      <td>0</td>\n",
       "      <td>1786</td>\n",
       "      <td>1</td>\n",
       "      <td>0</td>\n",
       "      <td>2</td>\n",
       "      <td>1</td>\n",
       "      <td>3</td>\n",
       "      <td>1</td>\n",
       "      <td>6</td>\n",
       "      <td>1</td>\n",
       "      <td>2001.0</td>\n",
       "      <td>2</td>\n",
       "      <td>218.068403</td>\n",
       "      <td>26.127533</td>\n",
       "      <td>32.085268</td>\n",
       "      <td>-46.232198</td>\n",
       "      <td>0</td>\n",
       "      <td>0</td>\n",
       "      <td>0</td>\n",
       "      <td>0</td>\n",
       "      <td>9</td>\n",
       "      <td>2008</td>\n",
       "      <td>223500</td>\n",
       "      <td>3.0</td>\n",
       "      <td>1.0</td>\n",
       "      <td>0.0</td>\n",
       "      <td>3.0</td>\n",
       "      <td>0.0</td>\n",
       "      <td>4.0</td>\n",
       "      <td>0.0</td>\n",
       "      <td>5.0</td>\n",
       "      <td>2.0</td>\n",
       "      <td>2.0</td>\n",
       "      <td>0.0</td>\n",
       "      <td>5.0</td>\n",
       "      <td>1.0</td>\n",
       "      <td>4.0</td>\n",
       "      <td>12.0</td>\n",
       "      <td>13.0</td>\n",
       "      <td>1.0</td>\n",
       "      <td>2.0</td>\n",
       "      <td>4.0</td>\n",
       "      <td>2.0</td>\n",
       "      <td>3.0</td>\n",
       "      <td>4.0</td>\n",
       "      <td>2.0</td>\n",
       "      <td>3.0</td>\n",
       "      <td>6.0</td>\n",
       "      <td>1.0</td>\n",
       "      <td>0.0</td>\n",
       "      <td>1.0</td>\n",
       "      <td>4.0</td>\n",
       "      <td>2.0</td>\n",
       "      <td>7.0</td>\n",
       "      <td>3.0</td>\n",
       "      <td>2.0</td>\n",
       "      <td>5.0</td>\n",
       "      <td>5.0</td>\n",
       "      <td>2.0</td>\n",
       "      <td>8.0</td>\n",
       "      <td>4.0</td>\n",
       "    </tr>\n",
       "    <tr>\n",
       "      <th>3</th>\n",
       "      <td>4</td>\n",
       "      <td>70</td>\n",
       "      <td>60.0</td>\n",
       "      <td>9550</td>\n",
       "      <td>7</td>\n",
       "      <td>5</td>\n",
       "      <td>1915</td>\n",
       "      <td>1970</td>\n",
       "      <td>0.0</td>\n",
       "      <td>216</td>\n",
       "      <td>0</td>\n",
       "      <td>540</td>\n",
       "      <td>756</td>\n",
       "      <td>961</td>\n",
       "      <td>756</td>\n",
       "      <td>0</td>\n",
       "      <td>1717</td>\n",
       "      <td>1</td>\n",
       "      <td>0</td>\n",
       "      <td>1</td>\n",
       "      <td>0</td>\n",
       "      <td>3</td>\n",
       "      <td>1</td>\n",
       "      <td>7</td>\n",
       "      <td>1</td>\n",
       "      <td>1998.0</td>\n",
       "      <td>3</td>\n",
       "      <td>696.996439</td>\n",
       "      <td>46.948018</td>\n",
       "      <td>40.181415</td>\n",
       "      <td>60.921821</td>\n",
       "      <td>0</td>\n",
       "      <td>0</td>\n",
       "      <td>0</td>\n",
       "      <td>0</td>\n",
       "      <td>2</td>\n",
       "      <td>2006</td>\n",
       "      <td>140000</td>\n",
       "      <td>3.0</td>\n",
       "      <td>1.0</td>\n",
       "      <td>0.0</td>\n",
       "      <td>3.0</td>\n",
       "      <td>0.0</td>\n",
       "      <td>0.0</td>\n",
       "      <td>0.0</td>\n",
       "      <td>6.0</td>\n",
       "      <td>2.0</td>\n",
       "      <td>2.0</td>\n",
       "      <td>0.0</td>\n",
       "      <td>5.0</td>\n",
       "      <td>1.0</td>\n",
       "      <td>4.0</td>\n",
       "      <td>13.0</td>\n",
       "      <td>15.0</td>\n",
       "      <td>3.0</td>\n",
       "      <td>3.0</td>\n",
       "      <td>4.0</td>\n",
       "      <td>0.0</td>\n",
       "      <td>4.0</td>\n",
       "      <td>2.0</td>\n",
       "      <td>3.0</td>\n",
       "      <td>1.0</td>\n",
       "      <td>6.0</td>\n",
       "      <td>1.0</td>\n",
       "      <td>2.0</td>\n",
       "      <td>1.0</td>\n",
       "      <td>4.0</td>\n",
       "      <td>2.0</td>\n",
       "      <td>7.0</td>\n",
       "      <td>7.0</td>\n",
       "      <td>3.0</td>\n",
       "      <td>5.0</td>\n",
       "      <td>5.0</td>\n",
       "      <td>2.0</td>\n",
       "      <td>8.0</td>\n",
       "      <td>0.0</td>\n",
       "    </tr>\n",
       "    <tr>\n",
       "      <th>4</th>\n",
       "      <td>5</td>\n",
       "      <td>60</td>\n",
       "      <td>84.0</td>\n",
       "      <td>14260</td>\n",
       "      <td>8</td>\n",
       "      <td>5</td>\n",
       "      <td>2000</td>\n",
       "      <td>2000</td>\n",
       "      <td>350.0</td>\n",
       "      <td>655</td>\n",
       "      <td>0</td>\n",
       "      <td>490</td>\n",
       "      <td>1145</td>\n",
       "      <td>1145</td>\n",
       "      <td>1053</td>\n",
       "      <td>0</td>\n",
       "      <td>2198</td>\n",
       "      <td>1</td>\n",
       "      <td>0</td>\n",
       "      <td>2</td>\n",
       "      <td>1</td>\n",
       "      <td>4</td>\n",
       "      <td>1</td>\n",
       "      <td>9</td>\n",
       "      <td>1</td>\n",
       "      <td>2000.0</td>\n",
       "      <td>3</td>\n",
       "      <td>568.859882</td>\n",
       "      <td>-10.626105</td>\n",
       "      <td>20.755323</td>\n",
       "      <td>21.788818</td>\n",
       "      <td>0</td>\n",
       "      <td>0</td>\n",
       "      <td>0</td>\n",
       "      <td>0</td>\n",
       "      <td>12</td>\n",
       "      <td>2008</td>\n",
       "      <td>250000</td>\n",
       "      <td>3.0</td>\n",
       "      <td>1.0</td>\n",
       "      <td>0.0</td>\n",
       "      <td>3.0</td>\n",
       "      <td>0.0</td>\n",
       "      <td>2.0</td>\n",
       "      <td>0.0</td>\n",
       "      <td>15.0</td>\n",
       "      <td>2.0</td>\n",
       "      <td>2.0</td>\n",
       "      <td>0.0</td>\n",
       "      <td>5.0</td>\n",
       "      <td>1.0</td>\n",
       "      <td>4.0</td>\n",
       "      <td>12.0</td>\n",
       "      <td>13.0</td>\n",
       "      <td>1.0</td>\n",
       "      <td>2.0</td>\n",
       "      <td>4.0</td>\n",
       "      <td>2.0</td>\n",
       "      <td>3.0</td>\n",
       "      <td>4.0</td>\n",
       "      <td>0.0</td>\n",
       "      <td>3.0</td>\n",
       "      <td>6.0</td>\n",
       "      <td>1.0</td>\n",
       "      <td>0.0</td>\n",
       "      <td>1.0</td>\n",
       "      <td>4.0</td>\n",
       "      <td>2.0</td>\n",
       "      <td>7.0</td>\n",
       "      <td>3.0</td>\n",
       "      <td>2.0</td>\n",
       "      <td>5.0</td>\n",
       "      <td>5.0</td>\n",
       "      <td>2.0</td>\n",
       "      <td>8.0</td>\n",
       "      <td>4.0</td>\n",
       "    </tr>\n",
       "  </tbody>\n",
       "</table>\n",
       "</div>"
      ],
      "text/plain": [
       "   Id  Building_Class  Lot_Extent  Lot_Size  Overall_Material  \\\n",
       "0   1              60        65.0      8450                 7   \n",
       "1   2              20        80.0      9600                 6   \n",
       "2   3              60        68.0     11250                 7   \n",
       "3   4              70        60.0      9550                 7   \n",
       "4   5              60        84.0     14260                 8   \n",
       "\n",
       "   House_Condition  Construction_Year  Remodel_Year  Brick_Veneer_Area  \\\n",
       "0                5               2003          2003              196.0   \n",
       "1                8               1976          1976                0.0   \n",
       "2                5               2001          2002              162.0   \n",
       "3                5               1915          1970                0.0   \n",
       "4                5               2000          2000              350.0   \n",
       "\n",
       "   BsmtFinSF1  BsmtFinSF2  BsmtUnfSF  Total_Basement_Area  First_Floor_Area  \\\n",
       "0         706           0        150                  856               856   \n",
       "1         978           0        284                 1262              1262   \n",
       "2         486           0        434                  920               920   \n",
       "3         216           0        540                  756               961   \n",
       "4         655           0        490                 1145              1145   \n",
       "\n",
       "   Second_Floor_Area  LowQualFinSF  Grade_Living_Area  \\\n",
       "0                854             0               1710   \n",
       "1                  0             0               1262   \n",
       "2                866             0               1786   \n",
       "3                756             0               1717   \n",
       "4               1053             0               2198   \n",
       "\n",
       "   Underground_Full_Bathroom  Underground_Half_Bathroom  \\\n",
       "0                          1                          0   \n",
       "1                          0                          1   \n",
       "2                          1                          0   \n",
       "3                          1                          0   \n",
       "4                          1                          0   \n",
       "\n",
       "   Full_Bathroom_Above_Grade  Half_Bathroom_Above_Grade  Bedroom_Above_Grade  \\\n",
       "0                          2                          1                    3   \n",
       "1                          2                          0                    3   \n",
       "2                          2                          1                    3   \n",
       "3                          1                          0                    3   \n",
       "4                          2                          1                    4   \n",
       "\n",
       "   Kitchen_Above_Grade  Rooms_Above_Grade  Fireplaces  Garage_Built_Year  \\\n",
       "0                    1                  8           0             2003.0   \n",
       "1                    1                  6           1             1976.0   \n",
       "2                    1                  6           1             2001.0   \n",
       "3                    1                  7           1             1998.0   \n",
       "4                    1                  9           1             2000.0   \n",
       "\n",
       "   Garage_Size  Garage_Area  W_Deck_Area  Open_Lobby_Area  \\\n",
       "0            2  1085.793744   163.788080        69.596115   \n",
       "1            2   196.316304   198.900074        74.716033   \n",
       "2            2   218.068403    26.127533        32.085268   \n",
       "3            3   696.996439    46.948018        40.181415   \n",
       "4            3   568.859882   -10.626105        20.755323   \n",
       "\n",
       "   Enclosed_Lobby_Area  Three_Season_Lobby_Area  Screen_Lobby_Area  Pool_Area  \\\n",
       "0            20.337934                        0                  0          0   \n",
       "1            15.039392                        0                  0          0   \n",
       "2           -46.232198                        0                  0          0   \n",
       "3            60.921821                        0                  0          0   \n",
       "4            21.788818                        0                  0          0   \n",
       "\n",
       "   Miscellaneous_Value  Month_Sold  Year_Sold  Sale_Price  Zoning_Class  \\\n",
       "0                    0           2       2008      208500           3.0   \n",
       "1                    0           5       2007      181500           3.0   \n",
       "2                    0           9       2008      223500           3.0   \n",
       "3                    0           2       2006      140000           3.0   \n",
       "4                    0          12       2008      250000           3.0   \n",
       "\n",
       "   Road_Type  Property_Shape  Land_Outline  Utility_Type  Lot_Configuration  \\\n",
       "0        1.0             3.0           3.0           0.0                4.0   \n",
       "1        1.0             3.0           3.0           0.0                2.0   \n",
       "2        1.0             0.0           3.0           0.0                4.0   \n",
       "3        1.0             0.0           3.0           0.0                0.0   \n",
       "4        1.0             0.0           3.0           0.0                2.0   \n",
       "\n",
       "   Property_Slope  Neighborhood  Condition1  Condition2  House_Type  \\\n",
       "0             0.0           5.0         2.0         2.0         0.0   \n",
       "1             0.0          24.0         1.0         2.0         0.0   \n",
       "2             0.0           5.0         2.0         2.0         0.0   \n",
       "3             0.0           6.0         2.0         2.0         0.0   \n",
       "4             0.0          15.0         2.0         2.0         0.0   \n",
       "\n",
       "   House_Design  Roof_Design  Roof_Quality  Exterior1st  Exterior2nd  \\\n",
       "0           5.0          1.0           4.0         12.0         13.0   \n",
       "1           2.0          1.0           4.0          8.0          8.0   \n",
       "2           5.0          1.0           4.0         12.0         13.0   \n",
       "3           5.0          1.0           4.0         13.0         15.0   \n",
       "4           5.0          1.0           4.0         12.0         13.0   \n",
       "\n",
       "   Brick_Veneer_Type  Exterior_Material  Exterior_Condition  Foundation_Type  \\\n",
       "0                1.0                2.0                 4.0              2.0   \n",
       "1                3.0                3.0                 4.0              1.0   \n",
       "2                1.0                2.0                 4.0              2.0   \n",
       "3                3.0                3.0                 4.0              0.0   \n",
       "4                1.0                2.0                 4.0              2.0   \n",
       "\n",
       "   Basement_Height  Basement_Condition  Exposure_Level  BsmtFinType1  \\\n",
       "0              3.0                 4.0             3.0           3.0   \n",
       "1              3.0                 4.0             1.0           1.0   \n",
       "2              3.0                 4.0             2.0           3.0   \n",
       "3              4.0                 2.0             3.0           1.0   \n",
       "4              3.0                 4.0             0.0           3.0   \n",
       "\n",
       "   BsmtFinType2  Heating_Type  Heating_Quality  Air_Conditioning  \\\n",
       "0           6.0           1.0              0.0               1.0   \n",
       "1           6.0           1.0              0.0               1.0   \n",
       "2           6.0           1.0              0.0               1.0   \n",
       "3           6.0           1.0              2.0               1.0   \n",
       "4           6.0           1.0              0.0               1.0   \n",
       "\n",
       "   Electrical_System  Kitchen_Quality  Functional_Rate  Garage  \\\n",
       "0                4.0              2.0              7.0     3.0   \n",
       "1                4.0              3.0              7.0     3.0   \n",
       "2                4.0              2.0              7.0     3.0   \n",
       "3                4.0              2.0              7.0     7.0   \n",
       "4                4.0              2.0              7.0     3.0   \n",
       "\n",
       "   Garage_Finish_Year  Garage_Quality  Garage_Condition  Pavedd_Drive  \\\n",
       "0                 2.0             5.0               5.0           2.0   \n",
       "1                 2.0             5.0               5.0           2.0   \n",
       "2                 2.0             5.0               5.0           2.0   \n",
       "3                 3.0             5.0               5.0           2.0   \n",
       "4                 2.0             5.0               5.0           2.0   \n",
       "\n",
       "   Sale_Type  Sale_Condition  \n",
       "0        8.0             4.0  \n",
       "1        8.0             4.0  \n",
       "2        8.0             4.0  \n",
       "3        8.0             0.0  \n",
       "4        8.0             4.0  "
      ]
     },
     "execution_count": 228,
     "metadata": {},
     "output_type": "execute_result"
    }
   ],
   "source": [
    "#adding the ordinally encoded columns back to the dataframe\n",
    "df=pd.concat([df,ordinal_df], axis=1)\n",
    "df.head()"
   ]
  },
  {
   "cell_type": "code",
   "execution_count": 57,
   "id": "0cb45ed9",
   "metadata": {},
   "outputs": [
    {
     "data": {
      "text/html": [
       "<div>\n",
       "<style scoped>\n",
       "    .dataframe tbody tr th:only-of-type {\n",
       "        vertical-align: middle;\n",
       "    }\n",
       "\n",
       "    .dataframe tbody tr th {\n",
       "        vertical-align: top;\n",
       "    }\n",
       "\n",
       "    .dataframe thead th {\n",
       "        text-align: right;\n",
       "    }\n",
       "</style>\n",
       "<table border=\"1\" class=\"dataframe\">\n",
       "  <thead>\n",
       "    <tr style=\"text-align: right;\">\n",
       "      <th></th>\n",
       "      <th>Id</th>\n",
       "      <th>Building_Class</th>\n",
       "      <th>Lot_Extent</th>\n",
       "      <th>Lot_Size</th>\n",
       "      <th>Overall_Material</th>\n",
       "      <th>House_Condition</th>\n",
       "      <th>Construction_Year</th>\n",
       "      <th>Remodel_Year</th>\n",
       "      <th>Brick_Veneer_Area</th>\n",
       "      <th>BsmtFinSF1</th>\n",
       "      <th>...</th>\n",
       "      <th>Electrical_System</th>\n",
       "      <th>Kitchen_Quality</th>\n",
       "      <th>Functional_Rate</th>\n",
       "      <th>Garage</th>\n",
       "      <th>Garage_Finish_Year</th>\n",
       "      <th>Garage_Quality</th>\n",
       "      <th>Garage_Condition</th>\n",
       "      <th>Pavedd_Drive</th>\n",
       "      <th>Sale_Type</th>\n",
       "      <th>Sale_Condition</th>\n",
       "    </tr>\n",
       "  </thead>\n",
       "  <tbody>\n",
       "    <tr>\n",
       "      <th>0</th>\n",
       "      <td>1461</td>\n",
       "      <td>20</td>\n",
       "      <td>80.0</td>\n",
       "      <td>16104.819760</td>\n",
       "      <td>5</td>\n",
       "      <td>6</td>\n",
       "      <td>1961</td>\n",
       "      <td>1961</td>\n",
       "      <td>0.0</td>\n",
       "      <td>468.0</td>\n",
       "      <td>...</td>\n",
       "      <td>3.0</td>\n",
       "      <td>3.0</td>\n",
       "      <td>7.0</td>\n",
       "      <td>3.0</td>\n",
       "      <td>3.0</td>\n",
       "      <td>4.0</td>\n",
       "      <td>5.0</td>\n",
       "      <td>2.0</td>\n",
       "      <td>8.0</td>\n",
       "      <td>6.0</td>\n",
       "    </tr>\n",
       "    <tr>\n",
       "      <th>1</th>\n",
       "      <td>1462</td>\n",
       "      <td>20</td>\n",
       "      <td>81.0</td>\n",
       "      <td>15639.150810</td>\n",
       "      <td>6</td>\n",
       "      <td>6</td>\n",
       "      <td>1958</td>\n",
       "      <td>1958</td>\n",
       "      <td>108.0</td>\n",
       "      <td>923.0</td>\n",
       "      <td>...</td>\n",
       "      <td>3.0</td>\n",
       "      <td>2.0</td>\n",
       "      <td>7.0</td>\n",
       "      <td>3.0</td>\n",
       "      <td>3.0</td>\n",
       "      <td>4.0</td>\n",
       "      <td>5.0</td>\n",
       "      <td>2.0</td>\n",
       "      <td>8.0</td>\n",
       "      <td>6.0</td>\n",
       "    </tr>\n",
       "    <tr>\n",
       "      <th>2</th>\n",
       "      <td>1463</td>\n",
       "      <td>60</td>\n",
       "      <td>74.0</td>\n",
       "      <td>3849.428920</td>\n",
       "      <td>5</td>\n",
       "      <td>5</td>\n",
       "      <td>1997</td>\n",
       "      <td>1998</td>\n",
       "      <td>0.0</td>\n",
       "      <td>791.0</td>\n",
       "      <td>...</td>\n",
       "      <td>3.0</td>\n",
       "      <td>3.0</td>\n",
       "      <td>7.0</td>\n",
       "      <td>3.0</td>\n",
       "      <td>1.0</td>\n",
       "      <td>4.0</td>\n",
       "      <td>5.0</td>\n",
       "      <td>2.0</td>\n",
       "      <td>8.0</td>\n",
       "      <td>6.0</td>\n",
       "    </tr>\n",
       "    <tr>\n",
       "      <th>3</th>\n",
       "      <td>1464</td>\n",
       "      <td>60</td>\n",
       "      <td>78.0</td>\n",
       "      <td>4955.447942</td>\n",
       "      <td>6</td>\n",
       "      <td>6</td>\n",
       "      <td>1998</td>\n",
       "      <td>1998</td>\n",
       "      <td>20.0</td>\n",
       "      <td>602.0</td>\n",
       "      <td>...</td>\n",
       "      <td>3.0</td>\n",
       "      <td>2.0</td>\n",
       "      <td>7.0</td>\n",
       "      <td>3.0</td>\n",
       "      <td>1.0</td>\n",
       "      <td>4.0</td>\n",
       "      <td>5.0</td>\n",
       "      <td>2.0</td>\n",
       "      <td>8.0</td>\n",
       "      <td>6.0</td>\n",
       "    </tr>\n",
       "    <tr>\n",
       "      <th>4</th>\n",
       "      <td>1465</td>\n",
       "      <td>120</td>\n",
       "      <td>43.0</td>\n",
       "      <td>3046.604942</td>\n",
       "      <td>8</td>\n",
       "      <td>5</td>\n",
       "      <td>1992</td>\n",
       "      <td>1992</td>\n",
       "      <td>0.0</td>\n",
       "      <td>263.0</td>\n",
       "      <td>...</td>\n",
       "      <td>3.0</td>\n",
       "      <td>2.0</td>\n",
       "      <td>7.0</td>\n",
       "      <td>3.0</td>\n",
       "      <td>2.0</td>\n",
       "      <td>4.0</td>\n",
       "      <td>5.0</td>\n",
       "      <td>2.0</td>\n",
       "      <td>8.0</td>\n",
       "      <td>6.0</td>\n",
       "    </tr>\n",
       "  </tbody>\n",
       "</table>\n",
       "<p>5 rows × 75 columns</p>\n",
       "</div>"
      ],
      "text/plain": [
       "     Id  Building_Class  Lot_Extent      Lot_Size  Overall_Material  \\\n",
       "0  1461              20        80.0  16104.819760                 5   \n",
       "1  1462              20        81.0  15639.150810                 6   \n",
       "2  1463              60        74.0   3849.428920                 5   \n",
       "3  1464              60        78.0   4955.447942                 6   \n",
       "4  1465             120        43.0   3046.604942                 8   \n",
       "\n",
       "   House_Condition  Construction_Year  Remodel_Year  Brick_Veneer_Area  \\\n",
       "0                6               1961          1961                0.0   \n",
       "1                6               1958          1958              108.0   \n",
       "2                5               1997          1998                0.0   \n",
       "3                6               1998          1998               20.0   \n",
       "4                5               1992          1992                0.0   \n",
       "\n",
       "   BsmtFinSF1  ...  Electrical_System  Kitchen_Quality  Functional_Rate  \\\n",
       "0       468.0  ...                3.0              3.0              7.0   \n",
       "1       923.0  ...                3.0              2.0              7.0   \n",
       "2       791.0  ...                3.0              3.0              7.0   \n",
       "3       602.0  ...                3.0              2.0              7.0   \n",
       "4       263.0  ...                3.0              2.0              7.0   \n",
       "\n",
       "   Garage  Garage_Finish_Year  Garage_Quality  Garage_Condition  Pavedd_Drive  \\\n",
       "0     3.0                 3.0             4.0               5.0           2.0   \n",
       "1     3.0                 3.0             4.0               5.0           2.0   \n",
       "2     3.0                 1.0             4.0               5.0           2.0   \n",
       "3     3.0                 1.0             4.0               5.0           2.0   \n",
       "4     3.0                 2.0             4.0               5.0           2.0   \n",
       "\n",
       "   Sale_Type  Sale_Condition  \n",
       "0        8.0             6.0  \n",
       "1        8.0             6.0  \n",
       "2        8.0             6.0  \n",
       "3        8.0             6.0  \n",
       "4        8.0             6.0  \n",
       "\n",
       "[5 rows x 75 columns]"
      ]
     },
     "execution_count": 57,
     "metadata": {},
     "output_type": "execute_result"
    }
   ],
   "source": [
    "df1=pd.concat([df1,ordinal_df1], axis=1)\n",
    "df1.head()"
   ]
  },
  {
   "cell_type": "code",
   "execution_count": null,
   "id": "90888583",
   "metadata": {},
   "outputs": [],
   "source": []
  },
  {
   "cell_type": "markdown",
   "id": "eedef3c4",
   "metadata": {},
   "source": [
    "# 3. SKEWNESS"
   ]
  },
  {
   "cell_type": "markdown",
   "id": "cec21b12",
   "metadata": {},
   "source": [
    "# Test data"
   ]
  },
  {
   "cell_type": "code",
   "execution_count": 447,
   "id": "00bdfffd",
   "metadata": {},
   "outputs": [
    {
     "data": {
      "text/plain": [
       "Id                           0.000000\n",
       "Building_Class               0.973321\n",
       "Lot_Extent                   0.720188\n",
       "Lot_Size                     0.056103\n",
       "Overall_Material             0.181196\n",
       "House_Condition              0.449165\n",
       "Construction_Year           -0.587657\n",
       "Remodel_Year                -0.399906\n",
       "Brick_Veneer_Area            1.316871\n",
       "BsmtFinSF1                   1.166076\n",
       "BsmtFinSF2                   0.000000\n",
       "BsmtUnfSF                    0.920231\n",
       "Total_Basement_Area          0.813868\n",
       "First_Floor_Area             1.558195\n",
       "Second_Floor_Area            0.912883\n",
       "LowQualFinSF                 0.000000\n",
       "Grade_Living_Area            1.130402\n",
       "Underground_Full_Bathroom    0.650143\n",
       "Underground_Half_Bathroom    0.000000\n",
       "Full_Bathroom_Above_Grade    0.295839\n",
       "Half_Bathroom_Above_Grade    0.714728\n",
       "Bedroom_Above_Grade          0.436623\n",
       "Kitchen_Above_Grade          0.000000\n",
       "Rooms_Above_Grade            0.842597\n",
       "Fireplaces                   0.819858\n",
       "Garage_Built_Year           -3.952018\n",
       "Garage_Size                 -0.105699\n",
       "Garage_Area                  0.300342\n",
       "W_Deck_Area                  0.000000\n",
       "Open_Lobby_Area              0.244712\n",
       "Enclosed_Lobby_Area          0.000000\n",
       "Three_Season_Lobby_Area      0.000000\n",
       "Screen_Lobby_Area            0.000000\n",
       "Pool_Area                    0.000000\n",
       "Miscellaneous_Value          0.000000\n",
       "Month_Sold                   0.183022\n",
       "Year_Sold                    0.168986\n",
       "Zoning_Class                 0.000000\n",
       "Road_Type                    0.000000\n",
       "Property_Shape              -0.626503\n",
       "Land_Outline                -3.075952\n",
       "Utility_Type                 0.000000\n",
       "Lot_Configuration           -1.262051\n",
       "Property_Slope               0.000000\n",
       "Neighborhood                -0.007337\n",
       "Condition1                   0.000000\n",
       "Condition2                   0.000000\n",
       "House_Type                   2.144973\n",
       "House_Design                 0.194867\n",
       "Roof_Design                  1.641176\n",
       "Roof_Quality                 0.000000\n",
       "Exterior1st                 -0.924073\n",
       "Exterior2nd                 -0.741720\n",
       "Brick_Veneer_Type           -0.065610\n",
       "Exterior_Material           -1.776468\n",
       "Exterior_Condition          -2.424394\n",
       "Foundation_Type              0.293173\n",
       "Basement_Height             -1.253456\n",
       "Basement_Condition          -3.315134\n",
       "Exposure_Level              -1.246251\n",
       "BsmtFinType1                -0.034584\n",
       "BsmtFinType2                -3.301076\n",
       "Heating_Type                 0.000000\n",
       "Heating_Quality              0.491119\n",
       "Air_Conditioning             0.000000\n",
       "Electrical_System            0.000000\n",
       "Kitchen_Quality             -1.476173\n",
       "Functional_Rate             -3.886799\n",
       "Garage                       0.314848\n",
       "Garage_Finish_Year          -0.522742\n",
       "Garage_Quality              -2.600785\n",
       "Garage_Condition            -3.248900\n",
       "Pavedd_Drive                -2.715444\n",
       "Sale_Type                   -3.605506\n",
       "Sale_Condition              -2.615349\n",
       "dtype: float64"
      ]
     },
     "execution_count": 447,
     "metadata": {},
     "output_type": "execute_result"
    }
   ],
   "source": [
    "df1.skew()"
   ]
  },
  {
   "cell_type": "code",
   "execution_count": null,
   "id": "8de84335",
   "metadata": {},
   "outputs": [],
   "source": []
  },
  {
   "cell_type": "code",
   "execution_count": 448,
   "id": "841c500b",
   "metadata": {},
   "outputs": [
    {
     "data": {
      "text/plain": [
       "<AxesSubplot:>"
      ]
     },
     "execution_count": 448,
     "metadata": {},
     "output_type": "execute_result"
    },
    {
     "data": {
      "image/png": "[encoded data removed]",
      "text/plain": [
       "<Figure size 432x288 with 1 Axes>"
      ]
     },
     "metadata": {
      "needs_background": "light"
     },
     "output_type": "display_data"
    }
   ],
   "source": [
    "df1.Sale_Type .hist(bins=50)"
   ]
  },
  {
   "cell_type": "code",
   "execution_count": 64,
   "id": "a85a8951",
   "metadata": {},
   "outputs": [
    {
     "data": {
      "text/plain": [
       "50.0"
      ]
     },
     "execution_count": 64,
     "metadata": {},
     "output_type": "execute_result"
    }
   ],
   "source": [
    "IQR1=df1.Building_Class.quantile(0.75)-df1.Building_Class.quantile(0.25)\n",
    "IQR1"
   ]
  },
  {
   "cell_type": "code",
   "execution_count": 65,
   "id": "9d2fdb60",
   "metadata": {},
   "outputs": [],
   "source": [
    "Q1=df1.Building_Class.quantile(0.25)-(1.5*IQR1)\n",
    "Q3=df1.Building_Class.quantile(0.75)+(1.5*IQR1)"
   ]
  },
  {
   "cell_type": "code",
   "execution_count": 66,
   "id": "54ec22dc",
   "metadata": {},
   "outputs": [
    {
     "name": "stdout",
     "output_type": "stream",
     "text": [
      "-55.0 145.0\n"
     ]
    }
   ],
   "source": [
    "print(Q1,Q3)"
   ]
  },
  {
   "cell_type": "code",
   "execution_count": 67,
   "id": "0291d78c",
   "metadata": {},
   "outputs": [],
   "source": [
    "df1.loc[df1['Building_Class']>145,'Building_Class'] = 145\n",
    "df1.loc[df1['Building_Class']<-55,'Building_Class'] = -55"
   ]
  },
  {
   "cell_type": "code",
   "execution_count": 71,
   "id": "3b7ea1b9",
   "metadata": {},
   "outputs": [
    {
     "data": {
      "text/plain": [
       "162.0"
      ]
     },
     "execution_count": 71,
     "metadata": {},
     "output_type": "execute_result"
    }
   ],
   "source": [
    "IQR2=df1.Brick_Veneer_Area.quantile(0.75)-df1.Brick_Veneer_Area.quantile(0.25)\n",
    "IQR2"
   ]
  },
  {
   "cell_type": "code",
   "execution_count": 72,
   "id": "ccf237ce",
   "metadata": {},
   "outputs": [],
   "source": [
    "Q1=df1.Brick_Veneer_Area.quantile(0.25)-(1.5*IQR2)\n",
    "Q3=df1.Brick_Veneer_Area.quantile(0.75)+(1.5*IQR2)"
   ]
  },
  {
   "cell_type": "code",
   "execution_count": 73,
   "id": "b3dd4e42",
   "metadata": {},
   "outputs": [
    {
     "name": "stdout",
     "output_type": "stream",
     "text": [
      "-243.0 405.0\n"
     ]
    }
   ],
   "source": [
    "print(Q1,Q3)"
   ]
  },
  {
   "cell_type": "code",
   "execution_count": 74,
   "id": "466376d6",
   "metadata": {},
   "outputs": [],
   "source": [
    "df1.loc[df1['Brick_Veneer_Area']>405,'Brick_Veneer_Area'] = 405\n",
    "df1.loc[df1['Brick_Veneer_Area']<-243,'Brick_Veneer_Area'] = -243"
   ]
  },
  {
   "cell_type": "code",
   "execution_count": 77,
   "id": "e1608e93",
   "metadata": {},
   "outputs": [
    {
     "data": {
      "text/plain": [
       "0.0"
      ]
     },
     "execution_count": 77,
     "metadata": {},
     "output_type": "execute_result"
    }
   ],
   "source": [
    "IQR3=df1.BsmtFinSF2.quantile(0.75)-df1.BsmtFinSF2.quantile(0.25)\n",
    "IQR3"
   ]
  },
  {
   "cell_type": "code",
   "execution_count": 79,
   "id": "2294a5c9",
   "metadata": {},
   "outputs": [],
   "source": [
    "Q1=df1.BsmtFinSF2.quantile(0.25)-(1.5*IQR3)\n",
    "Q3=df1.BsmtFinSF2.quantile(0.75)+(1.5*IQR3)"
   ]
  },
  {
   "cell_type": "code",
   "execution_count": 80,
   "id": "01914779",
   "metadata": {},
   "outputs": [
    {
     "name": "stdout",
     "output_type": "stream",
     "text": [
      "0.0 0.0\n"
     ]
    }
   ],
   "source": [
    "print(Q1,Q3)"
   ]
  },
  {
   "cell_type": "code",
   "execution_count": 81,
   "id": "8ec456ca",
   "metadata": {},
   "outputs": [],
   "source": [
    "df1.loc[df1['BsmtFinSF2']>0,'BsmtFinSF2'] = 0\n",
    "df1.loc[df1['BsmtFinSF2']<0,'BsmtFinSF2'] = 0"
   ]
  },
  {
   "cell_type": "code",
   "execution_count": 86,
   "id": "17c763d4",
   "metadata": {},
   "outputs": [
    {
     "data": {
      "text/plain": [
       "0.0"
      ]
     },
     "execution_count": 86,
     "metadata": {},
     "output_type": "execute_result"
    }
   ],
   "source": [
    "IQR4=df1.LowQualFinSF.quantile(0.75)-df1.LowQualFinSF.quantile(0.25)\n",
    "IQR4"
   ]
  },
  {
   "cell_type": "code",
   "execution_count": 87,
   "id": "8e7dfeff",
   "metadata": {},
   "outputs": [],
   "source": [
    "Q1=df1.LowQualFinSF.quantile(0.25)-(1.5*IQR3)\n",
    "Q3=df1.LowQualFinSF.quantile(0.75)+(1.5*IQR3)"
   ]
  },
  {
   "cell_type": "code",
   "execution_count": 88,
   "id": "928e1665",
   "metadata": {},
   "outputs": [
    {
     "name": "stdout",
     "output_type": "stream",
     "text": [
      "0.0 0.0\n"
     ]
    }
   ],
   "source": [
    "print(Q1,Q3)"
   ]
  },
  {
   "cell_type": "code",
   "execution_count": 89,
   "id": "dec974d0",
   "metadata": {},
   "outputs": [],
   "source": [
    "df1.loc[df1['LowQualFinSF']>0,'LowQualFinSF'] = 0\n",
    "df1.loc[df1['LowQualFinSF']<0,'LowQualFinSF'] = 0"
   ]
  },
  {
   "cell_type": "code",
   "execution_count": 92,
   "id": "027b7bf2",
   "metadata": {},
   "outputs": [
    {
     "data": {
      "text/plain": [
       "0.0"
      ]
     },
     "execution_count": 92,
     "metadata": {},
     "output_type": "execute_result"
    }
   ],
   "source": [
    "IQR5=df1.Underground_Half_Bathroom.quantile(0.75)-df1.Underground_Half_Bathroom.quantile(0.25)\n",
    "IQR5"
   ]
  },
  {
   "cell_type": "code",
   "execution_count": 93,
   "id": "bade0a83",
   "metadata": {},
   "outputs": [],
   "source": [
    "Q1=df1.Underground_Half_Bathroom.quantile(0.25)-(1.5*IQR3)\n",
    "Q3=df1.Underground_Half_Bathroom.quantile(0.75)+(1.5*IQR3)"
   ]
  },
  {
   "cell_type": "code",
   "execution_count": 94,
   "id": "d382761f",
   "metadata": {},
   "outputs": [
    {
     "name": "stdout",
     "output_type": "stream",
     "text": [
      "0.0 0.0\n"
     ]
    }
   ],
   "source": [
    "print(Q1,Q3)"
   ]
  },
  {
   "cell_type": "code",
   "execution_count": 95,
   "id": "b1400500",
   "metadata": {},
   "outputs": [],
   "source": [
    "df1.loc[df1['Underground_Half_Bathroom']>0,'Underground_Half_Bathroom'] = 0\n",
    "df1.loc[df1['Underground_Half_Bathroom']<0,'Underground_Half_Bathroom'] = 0"
   ]
  },
  {
   "cell_type": "code",
   "execution_count": 98,
   "id": "eabd76e9",
   "metadata": {},
   "outputs": [
    {
     "data": {
      "text/plain": [
       "0.0"
      ]
     },
     "execution_count": 98,
     "metadata": {},
     "output_type": "execute_result"
    }
   ],
   "source": [
    "IQR6=df1.Kitchen_Above_Grade.quantile(0.75)-df1.Kitchen_Above_Grade.quantile(0.25)\n",
    "IQR6"
   ]
  },
  {
   "cell_type": "code",
   "execution_count": 99,
   "id": "c6ce4a67",
   "metadata": {},
   "outputs": [],
   "source": [
    "df1.loc[df1['Kitchen_Above_Grade']>0,'Kitchen_Above_Grade'] = 0\n",
    "df1.loc[df1['Kitchen_Above_Grade']<0,'Kitchen_Above_Grade'] = 0"
   ]
  },
  {
   "cell_type": "code",
   "execution_count": 106,
   "id": "973edb4b",
   "metadata": {},
   "outputs": [
    {
     "data": {
      "text/plain": [
       "0.0"
      ]
     },
     "execution_count": 106,
     "metadata": {},
     "output_type": "execute_result"
    }
   ],
   "source": [
    "IQR7=df1.W_Deck_Area.quantile(0.75)-df1.W_Deck_Area.quantile(0.25)\n",
    "IQR7"
   ]
  },
  {
   "cell_type": "code",
   "execution_count": 107,
   "id": "83525345",
   "metadata": {},
   "outputs": [],
   "source": [
    "Q1=df1.W_Deck_Area.quantile(0.25)-(1.5*IQR7)\n",
    "Q3=df1.W_Deck_Area.quantile(0.75)+(1.5*IQR7)"
   ]
  },
  {
   "cell_type": "code",
   "execution_count": 108,
   "id": "3ff8704b",
   "metadata": {},
   "outputs": [
    {
     "name": "stdout",
     "output_type": "stream",
     "text": [
      "0.0 0.0\n"
     ]
    }
   ],
   "source": [
    "print(Q1,Q3)"
   ]
  },
  {
   "cell_type": "code",
   "execution_count": 109,
   "id": "4e986c16",
   "metadata": {},
   "outputs": [],
   "source": [
    "df1.loc[df1['W_Deck_Area']>0,'W_Deck_Area'] = 0\n",
    "df1.loc[df1['W_Deck_Area']<0,'W_Deck_Area'] = 0"
   ]
  },
  {
   "cell_type": "code",
   "execution_count": 112,
   "id": "80720f74",
   "metadata": {},
   "outputs": [
    {
     "data": {
      "text/plain": [
       "72.0"
      ]
     },
     "execution_count": 112,
     "metadata": {},
     "output_type": "execute_result"
    }
   ],
   "source": [
    "IQR8=df1.Open_Lobby_Area.quantile(0.75)-df1.Open_Lobby_Area.quantile(0.25)\n",
    "IQR8"
   ]
  },
  {
   "cell_type": "code",
   "execution_count": 132,
   "id": "129a2cc7",
   "metadata": {},
   "outputs": [],
   "source": [
    "Q1=df1.Open_Lobby_Area.quantile(0.25)-(1.5*IQR8)\n",
    "Q3=df1.Open_Lobby_Area.quantile(0.75)+(1.5*IQR8)"
   ]
  },
  {
   "cell_type": "code",
   "execution_count": 133,
   "id": "c4aaec2f",
   "metadata": {},
   "outputs": [
    {
     "name": "stdout",
     "output_type": "stream",
     "text": [
      "-108.0 180.0\n"
     ]
    }
   ],
   "source": [
    "print(Q1,Q3)"
   ]
  },
  {
   "cell_type": "code",
   "execution_count": 134,
   "id": "ce72cb26",
   "metadata": {},
   "outputs": [],
   "source": [
    "df1.loc[df1['Open_Lobby_Area']>180,'Open_Lobby_Area'] = 180\n",
    "df1.loc[df1['Open_Lobby_Area']<-180,'Open_Lobby_Area'] = -180"
   ]
  },
  {
   "cell_type": "code",
   "execution_count": 118,
   "id": "34011ff1",
   "metadata": {},
   "outputs": [
    {
     "data": {
      "text/plain": [
       "0.0"
      ]
     },
     "execution_count": 118,
     "metadata": {},
     "output_type": "execute_result"
    }
   ],
   "source": [
    "IQR9=df1.Enclosed_Lobby_Area.quantile(0.75)-df1.Enclosed_Lobby_Area.quantile(0.25)\n",
    "IQR9"
   ]
  },
  {
   "cell_type": "code",
   "execution_count": 135,
   "id": "6cd60794",
   "metadata": {},
   "outputs": [],
   "source": [
    "Q1=df1.Enclosed_Lobby_Area.quantile(0.25)-(1.5*IQR9)\n",
    "Q3=df1.Enclosed_Lobby_Area.quantile(0.75)+(1.5*IQR9)"
   ]
  },
  {
   "cell_type": "code",
   "execution_count": 136,
   "id": "4c368f47",
   "metadata": {},
   "outputs": [
    {
     "name": "stdout",
     "output_type": "stream",
     "text": [
      "0.0 0.0\n"
     ]
    }
   ],
   "source": [
    "print(Q1,Q3)"
   ]
  },
  {
   "cell_type": "code",
   "execution_count": 137,
   "id": "7776da11",
   "metadata": {},
   "outputs": [],
   "source": [
    "df1.loc[df1['Enclosed_Lobby_Area']>0,'Enclosed_Lobby_Area'] = 0\n",
    "df1.loc[df1['Enclosed_Lobby_Area']<0,'Enclosed_Lobby_Area'] = 0"
   ]
  },
  {
   "cell_type": "code",
   "execution_count": 138,
   "id": "9c5d73d2",
   "metadata": {},
   "outputs": [
    {
     "data": {
      "text/plain": [
       "0.0"
      ]
     },
     "execution_count": 138,
     "metadata": {},
     "output_type": "execute_result"
    }
   ],
   "source": [
    "IQR10=df1.Three_Season_Lobby_Area.quantile(0.75)-df1.Three_Season_Lobby_Area.quantile(0.25)\n",
    "IQR10"
   ]
  },
  {
   "cell_type": "code",
   "execution_count": 139,
   "id": "74ce3baa",
   "metadata": {},
   "outputs": [],
   "source": [
    "Q1=df1.Three_Season_Lobby_Area.quantile(0.25)-(1.5*IQR10)\n",
    "Q3=df1.Three_Season_Lobby_Area.quantile(0.75)+(1.5*IQR10)"
   ]
  },
  {
   "cell_type": "code",
   "execution_count": 140,
   "id": "3a65e237",
   "metadata": {},
   "outputs": [
    {
     "name": "stdout",
     "output_type": "stream",
     "text": [
      "0.0 0.0\n"
     ]
    }
   ],
   "source": [
    "print(Q1,Q3)"
   ]
  },
  {
   "cell_type": "code",
   "execution_count": 141,
   "id": "b68e6709",
   "metadata": {},
   "outputs": [],
   "source": [
    "df1.loc[df1['Three_Season_Lobby_Area']>0,'Three_Season_Lobby_Area'] = 0\n",
    "df1.loc[df1['Three_Season_Lobby_Area']<0,'Three_Season_Lobby_Area'] = 0"
   ]
  },
  {
   "cell_type": "code",
   "execution_count": 142,
   "id": "fb4155c6",
   "metadata": {},
   "outputs": [
    {
     "data": {
      "text/plain": [
       "0.0"
      ]
     },
     "execution_count": 142,
     "metadata": {},
     "output_type": "execute_result"
    }
   ],
   "source": [
    "IQR11=df1.Screen_Lobby_Area.quantile(0.75)-df1.Screen_Lobby_Area.quantile(0.25)\n",
    "IQR11"
   ]
  },
  {
   "cell_type": "code",
   "execution_count": 143,
   "id": "ba3b046c",
   "metadata": {},
   "outputs": [],
   "source": [
    "Q1=df1.Screen_Lobby_Area.quantile(0.25)-(1.5*IQR11)\n",
    "Q3=df1.Screen_Lobby_Area.quantile(0.75)+(1.5*IQR11)"
   ]
  },
  {
   "cell_type": "code",
   "execution_count": 144,
   "id": "5d0b491f",
   "metadata": {},
   "outputs": [
    {
     "name": "stdout",
     "output_type": "stream",
     "text": [
      "0.0 0.0\n"
     ]
    }
   ],
   "source": [
    "print(Q1,Q3)"
   ]
  },
  {
   "cell_type": "code",
   "execution_count": 145,
   "id": "fc432555",
   "metadata": {},
   "outputs": [],
   "source": [
    "df1.loc[df1['Screen_Lobby_Area']>0,'Screen_Lobby_Area'] = 0\n",
    "df1.loc[df1['Screen_Lobby_Area']<0,'Screen_Lobby_Area'] = 0"
   ]
  },
  {
   "cell_type": "code",
   "execution_count": 148,
   "id": "cd34a280",
   "metadata": {},
   "outputs": [
    {
     "data": {
      "text/plain": [
       "0.0"
      ]
     },
     "execution_count": 148,
     "metadata": {},
     "output_type": "execute_result"
    }
   ],
   "source": [
    "IQR12=df1.Pool_Area.quantile(0.75)-df1.Pool_Area.quantile(0.25)\n",
    "IQR12"
   ]
  },
  {
   "cell_type": "code",
   "execution_count": 163,
   "id": "6b7deb9f",
   "metadata": {},
   "outputs": [],
   "source": [
    "Q1=df1.Pool_Area.quantile(0.25)-(1.5*IQR12)\n",
    "Q3=df1.Pool_Area.quantile(0.75)+(1.5*IQR12)"
   ]
  },
  {
   "cell_type": "code",
   "execution_count": 164,
   "id": "21fdb747",
   "metadata": {},
   "outputs": [
    {
     "name": "stdout",
     "output_type": "stream",
     "text": [
      "0.0 0.0\n"
     ]
    }
   ],
   "source": [
    "print(Q1,Q3)"
   ]
  },
  {
   "cell_type": "code",
   "execution_count": 151,
   "id": "7a095395",
   "metadata": {},
   "outputs": [],
   "source": [
    "df1.loc[df1['Pool_Area']>0,'Pool_Area'] = 0\n",
    "df1.loc[df1['Pool_Area']<0,'Pool_Area'] = 0"
   ]
  },
  {
   "cell_type": "code",
   "execution_count": 154,
   "id": "1e0050b7",
   "metadata": {},
   "outputs": [
    {
     "data": {
      "text/plain": [
       "0.0"
      ]
     },
     "execution_count": 154,
     "metadata": {},
     "output_type": "execute_result"
    }
   ],
   "source": [
    "IQR13=df1.Miscellaneous_Value.quantile(0.75)-df1.Miscellaneous_Value.quantile(0.25)\n",
    "IQR13"
   ]
  },
  {
   "cell_type": "code",
   "execution_count": 161,
   "id": "f8600d26",
   "metadata": {},
   "outputs": [],
   "source": [
    "Q1=df1.Miscellaneous_Value.quantile(0.25)-(1.5*IQR13)\n",
    "Q3=df1.Miscellaneous_Value.quantile(0.75)+(1.5*IQR13)"
   ]
  },
  {
   "cell_type": "code",
   "execution_count": 162,
   "id": "cecee17d",
   "metadata": {},
   "outputs": [
    {
     "name": "stdout",
     "output_type": "stream",
     "text": [
      "0.0 0.0\n"
     ]
    }
   ],
   "source": [
    "print(Q1,Q3)"
   ]
  },
  {
   "cell_type": "code",
   "execution_count": 157,
   "id": "d3aa550d",
   "metadata": {},
   "outputs": [],
   "source": [
    "df1.loc[df1['Miscellaneous_Value']>0,'Miscellaneous_Value'] = 0\n",
    "df1.loc[df1['Miscellaneous_Value']<0,'Miscellaneous_Value'] = 0"
   ]
  },
  {
   "cell_type": "code",
   "execution_count": 160,
   "id": "57413b11",
   "metadata": {},
   "outputs": [
    {
     "data": {
      "text/plain": [
       "0.0"
      ]
     },
     "execution_count": 160,
     "metadata": {},
     "output_type": "execute_result"
    }
   ],
   "source": [
    "IQR14=df1.Property_Slope.quantile(0.75)-df1.Property_Slope.quantile(0.25)\n",
    "IQR14"
   ]
  },
  {
   "cell_type": "code",
   "execution_count": 165,
   "id": "c43f7767",
   "metadata": {},
   "outputs": [],
   "source": [
    "Q1=df1.Property_Slope.quantile(0.25)-(1.5*IQR14)\n",
    "Q3=df1.Property_Slope.quantile(0.75)+(1.5*IQR14)"
   ]
  },
  {
   "cell_type": "code",
   "execution_count": 166,
   "id": "0d15535d",
   "metadata": {},
   "outputs": [
    {
     "name": "stdout",
     "output_type": "stream",
     "text": [
      "0.0 0.0\n"
     ]
    }
   ],
   "source": [
    "print(Q1,Q3)"
   ]
  },
  {
   "cell_type": "code",
   "execution_count": 167,
   "id": "2b891dac",
   "metadata": {},
   "outputs": [],
   "source": [
    "df1.loc[df1['Property_Slope']>0,'Property_Slope'] = 0\n",
    "df1.loc[df1['Property_Slope']<0,'Property_Slope'] = 0"
   ]
  },
  {
   "cell_type": "code",
   "execution_count": 170,
   "id": "326e5b67",
   "metadata": {},
   "outputs": [
    {
     "data": {
      "text/plain": [
       "0.0"
      ]
     },
     "execution_count": 170,
     "metadata": {},
     "output_type": "execute_result"
    }
   ],
   "source": [
    "IQR15=df1.Heating_Type.quantile(0.75)-df1.Heating_Type.quantile(0.25)\n",
    "IQR15"
   ]
  },
  {
   "cell_type": "code",
   "execution_count": 404,
   "id": "9064ede2",
   "metadata": {},
   "outputs": [],
   "source": [
    "Q1=df1.Heating_Type.quantile(0.25)-(1.5*IQR15)\n",
    "Q3=df1.Heating_Type.quantile(0.75)+(1.5*IQR15)"
   ]
  },
  {
   "cell_type": "code",
   "execution_count": 405,
   "id": "903bbbb0",
   "metadata": {},
   "outputs": [
    {
     "name": "stdout",
     "output_type": "stream",
     "text": [
      "0.0 0.0\n"
     ]
    }
   ],
   "source": [
    "print(Q1,Q3)"
   ]
  },
  {
   "cell_type": "code",
   "execution_count": 406,
   "id": "55214bc8",
   "metadata": {},
   "outputs": [],
   "source": [
    "df1.loc[df1['Heating_Type']>0,'Heating_Type'] = 0\n",
    "df1.loc[df1['Heating_Type']<0,'Heating_Type'] = 0"
   ]
  },
  {
   "cell_type": "code",
   "execution_count": 407,
   "id": "4b8de061",
   "metadata": {},
   "outputs": [
    {
     "data": {
      "text/plain": [
       "0.0"
      ]
     },
     "execution_count": 407,
     "metadata": {},
     "output_type": "execute_result"
    }
   ],
   "source": [
    "IQR16=df1.Zoning_Class.quantile(0.75)-df1.Zoning_Class.quantile(0.25)\n",
    "IQR16"
   ]
  },
  {
   "cell_type": "code",
   "execution_count": 408,
   "id": "adaba4fd",
   "metadata": {},
   "outputs": [],
   "source": [
    "Q1=df1.Zoning_Class.quantile(0.25)-(1.5*IQR16)\n",
    "Q3=df1.Zoning_Class.quantile(0.75)+(1.5*IQR16)"
   ]
  },
  {
   "cell_type": "code",
   "execution_count": 409,
   "id": "43020e6f",
   "metadata": {},
   "outputs": [
    {
     "name": "stdout",
     "output_type": "stream",
     "text": [
      "3.0 3.0\n"
     ]
    }
   ],
   "source": [
    "print(Q1,Q3)"
   ]
  },
  {
   "cell_type": "code",
   "execution_count": 410,
   "id": "e3f40909",
   "metadata": {},
   "outputs": [],
   "source": [
    "df1.loc[df1['Zoning_Class']>3,'Zoning_Class'] = 3\n",
    "df1.loc[df1['Zoning_Class']<3,'Zoning_Class'] = 3"
   ]
  },
  {
   "cell_type": "code",
   "execution_count": 413,
   "id": "d9e3f22a",
   "metadata": {},
   "outputs": [
    {
     "data": {
      "text/plain": [
       "0.0"
      ]
     },
     "execution_count": 413,
     "metadata": {},
     "output_type": "execute_result"
    }
   ],
   "source": [
    "IQR17=df1.Road_Type.quantile(0.75)-df1.Road_Type.quantile(0.25)\n",
    "IQR17"
   ]
  },
  {
   "cell_type": "code",
   "execution_count": 420,
   "id": "f4ee5d68",
   "metadata": {},
   "outputs": [],
   "source": [
    "Q1=df1.Road_Type.quantile(0.25)-(1.5*IQR17)\n",
    "Q3=df1.Road_Type.quantile(0.75)+(1.5*IQR17)"
   ]
  },
  {
   "cell_type": "code",
   "execution_count": 421,
   "id": "480df9a5",
   "metadata": {},
   "outputs": [
    {
     "name": "stdout",
     "output_type": "stream",
     "text": [
      "1.0 1.0\n"
     ]
    }
   ],
   "source": [
    "print(Q1,Q3)"
   ]
  },
  {
   "cell_type": "code",
   "execution_count": 416,
   "id": "559e31ae",
   "metadata": {},
   "outputs": [],
   "source": [
    "df1.loc[df1['Road_Type']>1,'Road_Type'] = 1\n",
    "df1.loc[df1['Road_Type']<1,'Road_Type'] = 1"
   ]
  },
  {
   "cell_type": "code",
   "execution_count": 419,
   "id": "89c001d8",
   "metadata": {},
   "outputs": [
    {
     "data": {
      "text/plain": [
       "0.0"
      ]
     },
     "execution_count": 419,
     "metadata": {},
     "output_type": "execute_result"
    }
   ],
   "source": [
    "IQR18=df1.Condition1.quantile(0.75)-df1.Condition1.quantile(0.25)\n",
    "IQR18"
   ]
  },
  {
   "cell_type": "code",
   "execution_count": 422,
   "id": "0e0b1d2e",
   "metadata": {},
   "outputs": [],
   "source": [
    "Q1=df1.Condition1.quantile(0.25)-(1.5*IQR18)\n",
    "Q3=df1.Condition1.quantile(0.75)+(1.5*IQR18)"
   ]
  },
  {
   "cell_type": "code",
   "execution_count": 423,
   "id": "e7cf3dc9",
   "metadata": {},
   "outputs": [
    {
     "name": "stdout",
     "output_type": "stream",
     "text": [
      "3.0 3.0\n"
     ]
    }
   ],
   "source": [
    "print(Q1,Q3)"
   ]
  },
  {
   "cell_type": "code",
   "execution_count": 424,
   "id": "62d715c6",
   "metadata": {},
   "outputs": [],
   "source": [
    "df1.loc[df1['Condition1']>3,'Condition1'] = 3\n",
    "df1.loc[df1['Condition1']<3,'Condition1'] = 3"
   ]
  },
  {
   "cell_type": "code",
   "execution_count": 427,
   "id": "229a0e92",
   "metadata": {},
   "outputs": [
    {
     "data": {
      "text/plain": [
       "0.0"
      ]
     },
     "execution_count": 427,
     "metadata": {},
     "output_type": "execute_result"
    }
   ],
   "source": [
    "IQR19=df1.Condition2.quantile(0.75)-df1.Condition2.quantile(0.25)\n",
    "IQR19"
   ]
  },
  {
   "cell_type": "code",
   "execution_count": 428,
   "id": "24765141",
   "metadata": {},
   "outputs": [],
   "source": [
    "Q1=df1.Condition2.quantile(0.25)-(1.5*IQR19)\n",
    "Q3=df1.Condition2.quantile(0.75)+(1.5*IQR19)"
   ]
  },
  {
   "cell_type": "code",
   "execution_count": 429,
   "id": "fc65b1d7",
   "metadata": {},
   "outputs": [
    {
     "name": "stdout",
     "output_type": "stream",
     "text": [
      "3.0 3.0\n"
     ]
    }
   ],
   "source": [
    "print(Q1,Q3)"
   ]
  },
  {
   "cell_type": "code",
   "execution_count": 430,
   "id": "e7b89a6d",
   "metadata": {},
   "outputs": [],
   "source": [
    "df1.loc[df1['Condition2']>3,'Condition2'] = 3\n",
    "df1.loc[df1['Condition2']<3,'Condition2'] = 3"
   ]
  },
  {
   "cell_type": "code",
   "execution_count": 433,
   "id": "a8d1d737",
   "metadata": {},
   "outputs": [
    {
     "data": {
      "text/plain": [
       "0.0"
      ]
     },
     "execution_count": 433,
     "metadata": {},
     "output_type": "execute_result"
    }
   ],
   "source": [
    "IQR20=df1.Roof_Quality.quantile(0.75)-df1.Roof_Quality.quantile(0.25)\n",
    "IQR20"
   ]
  },
  {
   "cell_type": "code",
   "execution_count": 434,
   "id": "7f60cf83",
   "metadata": {},
   "outputs": [],
   "source": [
    "Q1=df1.Roof_Quality.quantile(0.25)-(1.5*IQR20)\n",
    "Q3=df1.Roof_Quality.quantile(0.75)+(1.5*IQR20)"
   ]
  },
  {
   "cell_type": "code",
   "execution_count": 435,
   "id": "be48b9b1",
   "metadata": {},
   "outputs": [
    {
     "name": "stdout",
     "output_type": "stream",
     "text": [
      "0.0 0.0\n"
     ]
    }
   ],
   "source": [
    "print(Q1,Q3)"
   ]
  },
  {
   "cell_type": "code",
   "execution_count": 436,
   "id": "7acfafe6",
   "metadata": {},
   "outputs": [],
   "source": [
    "df1.loc[df1['Roof_Quality']>0,'Roof_Quality'] = 0\n",
    "df1.loc[df1['Roof_Quality']<0,'Roof_Quality'] = 0"
   ]
  },
  {
   "cell_type": "code",
   "execution_count": 439,
   "id": "0cda87c5",
   "metadata": {},
   "outputs": [
    {
     "data": {
      "text/plain": [
       "0.0"
      ]
     },
     "execution_count": 439,
     "metadata": {},
     "output_type": "execute_result"
    }
   ],
   "source": [
    "IQR21=df1.Air_Conditioning.quantile(0.75)-df1.Air_Conditioning.quantile(0.25)\n",
    "IQR21"
   ]
  },
  {
   "cell_type": "code",
   "execution_count": 440,
   "id": "107c3ceb",
   "metadata": {},
   "outputs": [],
   "source": [
    "Q1=df1.Air_Conditioning.quantile(0.25)-(1.5*IQR21)\n",
    "Q3=df1.Air_Conditioning.quantile(0.75)+(1.5*IQR21)"
   ]
  },
  {
   "cell_type": "code",
   "execution_count": 441,
   "id": "f5755091",
   "metadata": {},
   "outputs": [
    {
     "name": "stdout",
     "output_type": "stream",
     "text": [
      "1.0 1.0\n"
     ]
    }
   ],
   "source": [
    "print(Q1,Q3)"
   ]
  },
  {
   "cell_type": "code",
   "execution_count": 442,
   "id": "dc35b46d",
   "metadata": {},
   "outputs": [],
   "source": [
    "df1.loc[df1['Air_Conditioning']>1,'Air_Conditioning'] = 1\n",
    "df1.loc[df1['Air_Conditioning']<1,'Air_Conditioning'] = 1"
   ]
  },
  {
   "cell_type": "code",
   "execution_count": 443,
   "id": "5c746bef",
   "metadata": {},
   "outputs": [
    {
     "data": {
      "text/plain": [
       "0.0"
      ]
     },
     "execution_count": 443,
     "metadata": {},
     "output_type": "execute_result"
    }
   ],
   "source": [
    "IQR22=df1.Electrical_System.quantile(0.75)-df1.Electrical_System.quantile(0.25)\n",
    "IQR22"
   ]
  },
  {
   "cell_type": "code",
   "execution_count": 444,
   "id": "bf10e689",
   "metadata": {},
   "outputs": [],
   "source": [
    "Q1=df1.Electrical_System.quantile(0.25)-(1.5*IQR22)\n",
    "Q3=df1.Electrical_System.quantile(0.75)+(1.5*IQR22)"
   ]
  },
  {
   "cell_type": "code",
   "execution_count": 445,
   "id": "24647e8f",
   "metadata": {},
   "outputs": [
    {
     "name": "stdout",
     "output_type": "stream",
     "text": [
      "3.0 3.0\n"
     ]
    }
   ],
   "source": [
    "print(Q1,Q3)"
   ]
  },
  {
   "cell_type": "code",
   "execution_count": 446,
   "id": "010348c7",
   "metadata": {},
   "outputs": [],
   "source": [
    "df1.loc[df1['Electrical_System']>3,'Electrical_System'] = 3\n",
    "df1.loc[df1['Electrical_System']<3,'Electrical_System'] = 3"
   ]
  },
  {
   "cell_type": "code",
   "execution_count": null,
   "id": "a45a5342",
   "metadata": {},
   "outputs": [],
   "source": []
  },
  {
   "cell_type": "code",
   "execution_count": null,
   "id": "c26b90c8",
   "metadata": {},
   "outputs": [],
   "source": []
  },
  {
   "cell_type": "markdown",
   "id": "858d5da7",
   "metadata": {},
   "source": [
    "# Train data"
   ]
  },
  {
   "cell_type": "code",
   "execution_count": 457,
   "id": "68139b1e",
   "metadata": {},
   "outputs": [
    {
     "data": {
      "text/plain": [
       "Id                           0.000000\n",
       "Building_Class               1.018830\n",
       "Lot_Extent                   0.062719\n",
       "Lot_Size                     0.209959\n",
       "Overall_Material             0.215719\n",
       "House_Condition              0.693682\n",
       "Construction_Year           -0.613700\n",
       "Remodel_Year                -0.505239\n",
       "Brick_Veneer_Area            1.281845\n",
       "BsmtFinSF1                   1.687498\n",
       "BsmtFinSF2                   0.000000\n",
       "BsmtUnfSF                    0.919485\n",
       "Total_Basement_Area          1.524923\n",
       "First_Floor_Area             1.376856\n",
       "Second_Floor_Area            0.811989\n",
       "LowQualFinSF                 0.000000\n",
       "Grade_Living_Area            1.365502\n",
       "Underground_Full_Bathroom    0.597963\n",
       "Underground_Half_Bathroom    0.000000\n",
       "Full_Bathroom_Above_Grade    0.035218\n",
       "Half_Bathroom_Above_Grade    0.677972\n",
       "Bedroom_Above_Grade          0.212058\n",
       "Kitchen_Above_Grade          0.000000\n",
       "Rooms_Above_Grade            0.675547\n",
       "Fireplaces                   0.648580\n",
       "Garage_Built_Year           -3.867927\n",
       "Garage_Size                 -0.344174\n",
       "Garage_Area                  0.028702\n",
       "W_Deck_Area                 -0.046889\n",
       "Open_Lobby_Area             -0.071552\n",
       "Enclosed_Lobby_Area         -0.044955\n",
       "Three_Season_Lobby_Area      0.000000\n",
       "Screen_Lobby_Area            0.000000\n",
       "Pool_Area                    0.000000\n",
       "Miscellaneous_Value          0.000000\n",
       "Month_Sold                   0.211740\n",
       "Year_Sold                    0.096521\n",
       "Sale_Price                   0.802026\n",
       "Zoning_Class                -1.734900\n",
       "Road_Type                    0.000000\n",
       "Property_Shape              -0.609065\n",
       "Land_Outline                -3.161114\n",
       "Utility_Type                 0.000000\n",
       "Lot_Configuration           -1.134578\n",
       "Property_Slope               0.000000\n",
       "Neighborhood                 0.040800\n",
       "Condition1                   0.000000\n",
       "Condition2                   0.000000\n",
       "House_Type                   0.000000\n",
       "House_Design                 0.305735\n",
       "Roof_Design                  1.472729\n",
       "Roof_Quality                 0.000000\n",
       "Exterior1st                 -0.728360\n",
       "Exterior2nd                 -0.695057\n",
       "Brick_Veneer_Type           -0.549773\n",
       "Exterior_Material           -1.832057\n",
       "Exterior_Condition          -2.564061\n",
       "Foundation_Type              0.413799\n",
       "Basement_Height             -1.475945\n",
       "Basement_Condition          -3.073453\n",
       "Exposure_Level              -1.188330\n",
       "BsmtFinType1                -0.058595\n",
       "BsmtFinType2                -3.196762\n",
       "Heating_Type                 0.000000\n",
       "Heating_Quality              0.483621\n",
       "Air_Conditioning             0.000000\n",
       "Electrical_System            0.000000\n",
       "Kitchen_Quality             -1.421956\n",
       "Functional_Rate             -3.785374\n",
       "Garage                       0.321399\n",
       "Garage_Finish_Year          -0.534159\n",
       "Garage_Quality              -3.004364\n",
       "Garage_Condition            -3.206967\n",
       "Pavedd_Drive                -3.307513\n",
       "Sale_Type                    0.000000\n",
       "Sale_Condition               0.000000\n",
       "dtype: float64"
      ]
     },
     "execution_count": 457,
     "metadata": {},
     "output_type": "execute_result"
    }
   ],
   "source": [
    "df.skew()"
   ]
  },
  {
   "cell_type": "code",
   "execution_count": 396,
   "id": "de60e3aa",
   "metadata": {},
   "outputs": [
    {
     "data": {
      "text/plain": [
       "<AxesSubplot:>"
      ]
     },
     "execution_count": 396,
     "metadata": {},
     "output_type": "execute_result"
    },
    {
     "data": {
      "image/png": "[encoded data removed]",
      "text/plain": [
       "<Figure size 432x288 with 1 Axes>"
      ]
     },
     "metadata": {
      "needs_background": "light"
     },
     "output_type": "display_data"
    }
   ],
   "source": [
    "df.Electrical_System .hist(bins=50)"
   ]
  },
  {
   "cell_type": "code",
   "execution_count": 232,
   "id": "58c5c0b9",
   "metadata": {},
   "outputs": [
    {
     "data": {
      "text/plain": [
       "50.0"
      ]
     },
     "execution_count": 232,
     "metadata": {},
     "output_type": "execute_result"
    }
   ],
   "source": [
    "IQR1=df.Building_Class.quantile(0.75)-df.Building_Class.quantile(0.25)\n",
    "IQR1"
   ]
  },
  {
   "cell_type": "code",
   "execution_count": 233,
   "id": "1ed390ca",
   "metadata": {},
   "outputs": [],
   "source": [
    "Q1=df1.Building_Class.quantile(0.25)-(1.5*IQR1)\n",
    "Q3=df1.Building_Class.quantile(0.75)+(1.5*IQR1)"
   ]
  },
  {
   "cell_type": "code",
   "execution_count": 234,
   "id": "3099698b",
   "metadata": {},
   "outputs": [
    {
     "name": "stdout",
     "output_type": "stream",
     "text": [
      "-55.0 145.0\n"
     ]
    }
   ],
   "source": [
    "print(Q1,Q3)"
   ]
  },
  {
   "cell_type": "code",
   "execution_count": 235,
   "id": "ad381bc5",
   "metadata": {},
   "outputs": [],
   "source": [
    "df.loc[df['Building_Class']>145,'Building_Class'] = 145\n",
    "df.loc[df['Building_Class']<-55,'Building_Class'] = -55"
   ]
  },
  {
   "cell_type": "code",
   "execution_count": 240,
   "id": "a9a1cc5d",
   "metadata": {},
   "outputs": [
    {
     "data": {
      "text/plain": [
       "164.5"
      ]
     },
     "execution_count": 240,
     "metadata": {},
     "output_type": "execute_result"
    }
   ],
   "source": [
    "IQR2=df.Brick_Veneer_Area.quantile(0.75)-df.Brick_Veneer_Area.quantile(0.25)\n",
    "IQR2"
   ]
  },
  {
   "cell_type": "code",
   "execution_count": 241,
   "id": "b03466a0",
   "metadata": {},
   "outputs": [],
   "source": [
    "Q1=df.Brick_Veneer_Area.quantile(0.25)-(1.5*IQR2)\n",
    "Q3=df.Brick_Veneer_Area.quantile(0.75)+(1.5*IQR2)"
   ]
  },
  {
   "cell_type": "code",
   "execution_count": 242,
   "id": "08a3523c",
   "metadata": {},
   "outputs": [
    {
     "name": "stdout",
     "output_type": "stream",
     "text": [
      "-246.75 411.25\n"
     ]
    }
   ],
   "source": [
    "print(Q1,Q3)"
   ]
  },
  {
   "cell_type": "code",
   "execution_count": 246,
   "id": "d8bb57d0",
   "metadata": {},
   "outputs": [],
   "source": [
    "df.loc[df['Brick_Veneer_Area']>411.25,'Brick_Veneer_Area'] = 411.25\n",
    "df.loc[df['Brick_Veneer_Area']<-246.75,'Brick_Veneer_Area'] = -246.75"
   ]
  },
  {
   "cell_type": "code",
   "execution_count": 249,
   "id": "ad2cc875",
   "metadata": {},
   "outputs": [
    {
     "data": {
      "text/plain": [
       "19.0"
      ]
     },
     "execution_count": 249,
     "metadata": {},
     "output_type": "execute_result"
    }
   ],
   "source": [
    "IQR3=df.Lot_Extent.quantile(0.75)-df.Lot_Extent.quantile(0.25)\n",
    "IQR3"
   ]
  },
  {
   "cell_type": "code",
   "execution_count": 250,
   "id": "3b8bef44",
   "metadata": {},
   "outputs": [],
   "source": [
    "Q1=df.Lot_Extent.quantile(0.25)-(1.5*IQR3)\n",
    "Q3=df.Lot_Extent.quantile(0.75)+(1.5*IQR3)"
   ]
  },
  {
   "cell_type": "code",
   "execution_count": 251,
   "id": "61ba55c9",
   "metadata": {},
   "outputs": [
    {
     "name": "stdout",
     "output_type": "stream",
     "text": [
      "31.5 107.5\n"
     ]
    }
   ],
   "source": [
    "print(Q1,Q3)"
   ]
  },
  {
   "cell_type": "code",
   "execution_count": 252,
   "id": "74c4ba0a",
   "metadata": {},
   "outputs": [],
   "source": [
    "df.loc[df['Lot_Extent']>107.5,'Lot_Extent'] = 107.5\n",
    "df.loc[df['Lot_Extent']<31.5,'Lot_Extent'] = 31.5"
   ]
  },
  {
   "cell_type": "code",
   "execution_count": 255,
   "id": "19381076",
   "metadata": {},
   "outputs": [
    {
     "data": {
      "text/plain": [
       "4054.0"
      ]
     },
     "execution_count": 255,
     "metadata": {},
     "output_type": "execute_result"
    }
   ],
   "source": [
    "IQR4=df.Lot_Size.quantile(0.75)-df.Lot_Size.quantile(0.25)\n",
    "IQR4"
   ]
  },
  {
   "cell_type": "code",
   "execution_count": 256,
   "id": "29aabc30",
   "metadata": {},
   "outputs": [],
   "source": [
    "Q1=df.Lot_Size.quantile(0.25)-(1.5*IQR4)\n",
    "Q3=df.Lot_Size.quantile(0.75)+(1.5*IQR4)"
   ]
  },
  {
   "cell_type": "code",
   "execution_count": 257,
   "id": "9b2ef8d7",
   "metadata": {},
   "outputs": [
    {
     "name": "stdout",
     "output_type": "stream",
     "text": [
      "1468.0 17684.0\n"
     ]
    }
   ],
   "source": [
    "print(Q1,Q3)"
   ]
  },
  {
   "cell_type": "code",
   "execution_count": 258,
   "id": "a0a1f6c2",
   "metadata": {},
   "outputs": [],
   "source": [
    "df.loc[df['Lot_Size']>17684,'Lot_Size'] = 17684\n",
    "df.loc[df['Lot_Size']<1468,'Lot_Size'] = 1468"
   ]
  },
  {
   "cell_type": "code",
   "execution_count": 261,
   "id": "56a2c000",
   "metadata": {},
   "outputs": [
    {
     "data": {
      "text/plain": [
       "0.0"
      ]
     },
     "execution_count": 261,
     "metadata": {},
     "output_type": "execute_result"
    }
   ],
   "source": [
    "IQR5=df.BsmtFinSF2.quantile(0.75)-df.BsmtFinSF2.quantile(0.25)\n",
    "IQR5"
   ]
  },
  {
   "cell_type": "code",
   "execution_count": 262,
   "id": "5b97ecfb",
   "metadata": {},
   "outputs": [],
   "source": [
    "Q1=df.BsmtFinSF2.quantile(0.25)-(1.5*IQR5)\n",
    "Q3=df.BsmtFinSF2.quantile(0.75)+(1.5*IQR5)"
   ]
  },
  {
   "cell_type": "code",
   "execution_count": 263,
   "id": "e649f753",
   "metadata": {},
   "outputs": [
    {
     "name": "stdout",
     "output_type": "stream",
     "text": [
      "0.0 0.0\n"
     ]
    }
   ],
   "source": [
    "print(Q1,Q3)"
   ]
  },
  {
   "cell_type": "code",
   "execution_count": 264,
   "id": "3c0d8c64",
   "metadata": {},
   "outputs": [],
   "source": [
    "df.loc[df['BsmtFinSF2']>0,'BsmtFinSF2'] = 0\n",
    "df.loc[df['BsmtFinSF2']<0,'BsmtFinSF2'] = 0"
   ]
  },
  {
   "cell_type": "code",
   "execution_count": 267,
   "id": "17d2bd3f",
   "metadata": {},
   "outputs": [
    {
     "data": {
      "text/plain": [
       "0.0"
      ]
     },
     "execution_count": 267,
     "metadata": {},
     "output_type": "execute_result"
    }
   ],
   "source": [
    "IQR6=df.LowQualFinSF.quantile(0.75)-df.LowQualFinSF.quantile(0.25)\n",
    "IQR6"
   ]
  },
  {
   "cell_type": "code",
   "execution_count": 268,
   "id": "4f0ab087",
   "metadata": {},
   "outputs": [],
   "source": [
    "Q1=df.LowQualFinSF.quantile(0.25)-(1.5*IQR6)\n",
    "Q3=df.LowQualFinSF.quantile(0.75)+(1.5*IQR6)"
   ]
  },
  {
   "cell_type": "code",
   "execution_count": 269,
   "id": "7d93dfd6",
   "metadata": {},
   "outputs": [
    {
     "name": "stdout",
     "output_type": "stream",
     "text": [
      "0.0 0.0\n"
     ]
    }
   ],
   "source": [
    "print(Q1,Q3)"
   ]
  },
  {
   "cell_type": "code",
   "execution_count": 270,
   "id": "ffd9bf3b",
   "metadata": {},
   "outputs": [],
   "source": [
    "df.loc[df['LowQualFinSF']>0,'LowQualFinSF'] = 0\n",
    "df.loc[df['LowQualFinSF']<0,'LowQualFinSF'] = 0"
   ]
  },
  {
   "cell_type": "code",
   "execution_count": 273,
   "id": "62e5200f",
   "metadata": {},
   "outputs": [
    {
     "data": {
      "text/plain": [
       "0.0"
      ]
     },
     "execution_count": 273,
     "metadata": {},
     "output_type": "execute_result"
    }
   ],
   "source": [
    "IQR7=df.Underground_Half_Bathroom.quantile(0.75)-df.Underground_Half_Bathroom.quantile(0.25)\n",
    "IQR7"
   ]
  },
  {
   "cell_type": "code",
   "execution_count": 275,
   "id": "d6440eb7",
   "metadata": {},
   "outputs": [],
   "source": [
    "Q1=df.Underground_Half_Bathroom.quantile(0.25)-(1.5*IQR7)\n",
    "Q3=df.Underground_Half_Bathroom.quantile(0.75)+(1.5*IQR7)"
   ]
  },
  {
   "cell_type": "code",
   "execution_count": 276,
   "id": "8c1128d1",
   "metadata": {},
   "outputs": [
    {
     "name": "stdout",
     "output_type": "stream",
     "text": [
      "0.0 0.0\n"
     ]
    }
   ],
   "source": [
    "print(Q1,Q3)"
   ]
  },
  {
   "cell_type": "code",
   "execution_count": 277,
   "id": "3046fdf2",
   "metadata": {},
   "outputs": [],
   "source": [
    "df.loc[df['Underground_Half_Bathroom']>0,'Underground_Half_Bathroom'] = 0\n",
    "df.loc[df['Underground_Half_Bathroom']<0,'Underground_Half_Bathroom'] = 0"
   ]
  },
  {
   "cell_type": "code",
   "execution_count": 280,
   "id": "a339080b",
   "metadata": {},
   "outputs": [
    {
     "data": {
      "text/plain": [
       "0.0"
      ]
     },
     "execution_count": 280,
     "metadata": {},
     "output_type": "execute_result"
    }
   ],
   "source": [
    "IQR8=df.Kitchen_Above_Grade.quantile(0.75)-df.Kitchen_Above_Grade.quantile(0.25)\n",
    "IQR8"
   ]
  },
  {
   "cell_type": "code",
   "execution_count": 281,
   "id": "b0401585",
   "metadata": {},
   "outputs": [],
   "source": [
    "Q1=df.Kitchen_Above_Grade.quantile(0.25)-(1.5*IQR8)\n",
    "Q3=df.Kitchen_Above_Grade.quantile(0.75)+(1.5*IQR8)"
   ]
  },
  {
   "cell_type": "code",
   "execution_count": 282,
   "id": "253f2023",
   "metadata": {},
   "outputs": [
    {
     "name": "stdout",
     "output_type": "stream",
     "text": [
      "1.0 1.0\n"
     ]
    }
   ],
   "source": [
    "print(Q1,Q3)"
   ]
  },
  {
   "cell_type": "code",
   "execution_count": 283,
   "id": "b019c3ae",
   "metadata": {},
   "outputs": [],
   "source": [
    "df.loc[df['Kitchen_Above_Grade']>1,'Kitchen_Above_Grade'] = 1\n",
    "df.loc[df['Kitchen_Above_Grade']<1,'Kitchen_Above_Grade'] = 1"
   ]
  },
  {
   "cell_type": "code",
   "execution_count": 286,
   "id": "c552a53f",
   "metadata": {},
   "outputs": [
    {
     "data": {
      "text/plain": [
       "0.0"
      ]
     },
     "execution_count": 286,
     "metadata": {},
     "output_type": "execute_result"
    }
   ],
   "source": [
    "IQR9=df.Three_Season_Lobby_Area.quantile(0.75)-df.Three_Season_Lobby_Area.quantile(0.25)\n",
    "IQR9"
   ]
  },
  {
   "cell_type": "code",
   "execution_count": 287,
   "id": "53080df1",
   "metadata": {},
   "outputs": [],
   "source": [
    "Q1=df.Three_Season_Lobby_Area.quantile(0.25)-(1.5*IQR9)\n",
    "Q3=df.Three_Season_Lobby_Area.quantile(0.75)+(1.5*IQR9)"
   ]
  },
  {
   "cell_type": "code",
   "execution_count": 288,
   "id": "56d74cdc",
   "metadata": {},
   "outputs": [
    {
     "name": "stdout",
     "output_type": "stream",
     "text": [
      "0.0 0.0\n"
     ]
    }
   ],
   "source": [
    "print(Q1,Q3)"
   ]
  },
  {
   "cell_type": "code",
   "execution_count": 289,
   "id": "21ac0f26",
   "metadata": {},
   "outputs": [],
   "source": [
    "df.loc[df['Three_Season_Lobby_Area']>0,'Three_Season_Lobby_Area'] = 0\n",
    "df.loc[df['Three_Season_Lobby_Area']<0,'Three_Season_Lobby_Area'] = 0"
   ]
  },
  {
   "cell_type": "code",
   "execution_count": 292,
   "id": "a3b85e80",
   "metadata": {},
   "outputs": [
    {
     "data": {
      "text/plain": [
       "0.0"
      ]
     },
     "execution_count": 292,
     "metadata": {},
     "output_type": "execute_result"
    }
   ],
   "source": [
    "IQR10=df.Screen_Lobby_Area.quantile(0.75)-df.Screen_Lobby_Area.quantile(0.25)\n",
    "IQR10"
   ]
  },
  {
   "cell_type": "code",
   "execution_count": 294,
   "id": "8d50de64",
   "metadata": {},
   "outputs": [],
   "source": [
    "df.loc[df['Screen_Lobby_Area']>0,'Screen_Lobby_Area'] = 0\n",
    "df.loc[df['Screen_Lobby_Area']<0,'Screen_Lobby_Area'] = 0"
   ]
  },
  {
   "cell_type": "code",
   "execution_count": 297,
   "id": "d89ceed3",
   "metadata": {},
   "outputs": [
    {
     "data": {
      "text/plain": [
       "0.0"
      ]
     },
     "execution_count": 297,
     "metadata": {},
     "output_type": "execute_result"
    }
   ],
   "source": [
    "IQR11=df.Pool_Area.quantile(0.75)-df.Pool_Area.quantile(0.25)\n",
    "IQR11"
   ]
  },
  {
   "cell_type": "code",
   "execution_count": 298,
   "id": "211c46ab",
   "metadata": {},
   "outputs": [],
   "source": [
    "Q1=df.Pool_Area.quantile(0.25)-(1.5*IQR11)\n",
    "Q3=df.Pool_Area.quantile(0.75)+(1.5*IQR11)"
   ]
  },
  {
   "cell_type": "code",
   "execution_count": 300,
   "id": "27a032b1",
   "metadata": {},
   "outputs": [],
   "source": [
    "df.loc[df['Pool_Area']>0,'Pool_Area'] = 0\n",
    "df.loc[df['Pool_Area']<0,'Pool_Area'] = 0"
   ]
  },
  {
   "cell_type": "code",
   "execution_count": 303,
   "id": "d2f3d8a7",
   "metadata": {},
   "outputs": [
    {
     "data": {
      "text/plain": [
       "0.0"
      ]
     },
     "execution_count": 303,
     "metadata": {},
     "output_type": "execute_result"
    }
   ],
   "source": [
    "IQR12=df.Miscellaneous_Value.quantile(0.75)-df.Miscellaneous_Value.quantile(0.25)\n",
    "IQR12"
   ]
  },
  {
   "cell_type": "code",
   "execution_count": 304,
   "id": "00e330a3",
   "metadata": {},
   "outputs": [],
   "source": [
    "df.loc[df['Miscellaneous_Value']>0,'Miscellaneous_Value'] = 0\n",
    "df.loc[df['Miscellaneous_Value']<0,'Miscellaneous_Value'] = 0"
   ]
  },
  {
   "cell_type": "code",
   "execution_count": 307,
   "id": "28d7a25a",
   "metadata": {},
   "outputs": [
    {
     "data": {
      "text/plain": [
       "0.0"
      ]
     },
     "execution_count": 307,
     "metadata": {},
     "output_type": "execute_result"
    }
   ],
   "source": [
    "IQR13=df.Utility_Type.quantile(0.75)-df.Utility_Type.quantile(0.25)\n",
    "IQR13"
   ]
  },
  {
   "cell_type": "code",
   "execution_count": 308,
   "id": "3c38a9fb",
   "metadata": {},
   "outputs": [],
   "source": [
    "Q1=df.Utility_Type.quantile(0.25)-(1.5*IQR13)\n",
    "Q3=df.Utility_Type.quantile(0.75)+(1.5*IQR13)"
   ]
  },
  {
   "cell_type": "code",
   "execution_count": 309,
   "id": "2981f6eb",
   "metadata": {},
   "outputs": [
    {
     "name": "stdout",
     "output_type": "stream",
     "text": [
      "0.0 0.0\n"
     ]
    }
   ],
   "source": [
    "print(Q1,Q3)"
   ]
  },
  {
   "cell_type": "code",
   "execution_count": 311,
   "id": "f8928ce1",
   "metadata": {},
   "outputs": [],
   "source": [
    "df.loc[df['Utility_Type']>0,'Utility_Type'] = 0\n",
    "df.loc[df['Utility_Type']<0,'Utility_Type'] = 0"
   ]
  },
  {
   "cell_type": "code",
   "execution_count": 314,
   "id": "97504bea",
   "metadata": {},
   "outputs": [
    {
     "data": {
      "text/plain": [
       "0.0"
      ]
     },
     "execution_count": 314,
     "metadata": {},
     "output_type": "execute_result"
    }
   ],
   "source": [
    "IQR14=df.Property_Slope.quantile(0.75)-df.Property_Slope.quantile(0.25)\n",
    "IQR14"
   ]
  },
  {
   "cell_type": "code",
   "execution_count": 315,
   "id": "d4a78947",
   "metadata": {},
   "outputs": [],
   "source": [
    "df.loc[df['Property_Slope']>0,'Property_Slope'] = 0\n",
    "df.loc[df['Property_Slope']<0,'Property_Slope'] = 0"
   ]
  },
  {
   "cell_type": "code",
   "execution_count": 335,
   "id": "ed1514a2",
   "metadata": {},
   "outputs": [
    {
     "data": {
      "text/plain": [
       "0.0"
      ]
     },
     "execution_count": 335,
     "metadata": {},
     "output_type": "execute_result"
    }
   ],
   "source": [
    "IQR15=df.Condition1.quantile(0.75)-df.Condition1.quantile(0.25)\n",
    "IQR15"
   ]
  },
  {
   "cell_type": "code",
   "execution_count": 336,
   "id": "0d83f16d",
   "metadata": {},
   "outputs": [],
   "source": [
    "Q1=df.Condition1.quantile(0.25)-(1.5*IQR15)\n",
    "Q3=df.Condition1.quantile(0.75)+(1.5*IQR15)"
   ]
  },
  {
   "cell_type": "code",
   "execution_count": 337,
   "id": "c2c9d7d7",
   "metadata": {},
   "outputs": [
    {
     "name": "stdout",
     "output_type": "stream",
     "text": [
      "0.0 0.0\n"
     ]
    }
   ],
   "source": [
    "print(Q1,Q3)"
   ]
  },
  {
   "cell_type": "code",
   "execution_count": 338,
   "id": "f475c02c",
   "metadata": {},
   "outputs": [],
   "source": [
    "df.loc[df['Condition1']>0,'Condition1'] = 0\n",
    "df.loc[df['Condition1']<0,'Condition1'] = 0"
   ]
  },
  {
   "cell_type": "code",
   "execution_count": 325,
   "id": "07e28817",
   "metadata": {},
   "outputs": [
    {
     "data": {
      "text/plain": [
       "0.0"
      ]
     },
     "execution_count": 325,
     "metadata": {},
     "output_type": "execute_result"
    }
   ],
   "source": [
    "IQR16=df.Condition2.quantile(0.75)-df.Condition2.quantile(0.25)\n",
    "IQR16"
   ]
  },
  {
   "cell_type": "code",
   "execution_count": 332,
   "id": "8f0fa859",
   "metadata": {},
   "outputs": [],
   "source": [
    "Q1=df.Condition2.quantile(0.25)-(1.5*IQR16)\n",
    "Q3=df.Condition2.quantile(0.75)+(1.5*IQR16)"
   ]
  },
  {
   "cell_type": "code",
   "execution_count": 333,
   "id": "134c52f5",
   "metadata": {},
   "outputs": [
    {
     "name": "stdout",
     "output_type": "stream",
     "text": [
      "2.0 2.0\n"
     ]
    }
   ],
   "source": [
    "print(Q1,Q3)"
   ]
  },
  {
   "cell_type": "code",
   "execution_count": 334,
   "id": "e0ba8f70",
   "metadata": {},
   "outputs": [],
   "source": [
    "df.loc[df['Condition2']>2,'Condition2'] = 2\n",
    "df.loc[df['Condition2']<2,'Condition2'] = 2"
   ]
  },
  {
   "cell_type": "code",
   "execution_count": 342,
   "id": "dc80f664",
   "metadata": {},
   "outputs": [
    {
     "data": {
      "text/plain": [
       "0.0"
      ]
     },
     "execution_count": 342,
     "metadata": {},
     "output_type": "execute_result"
    }
   ],
   "source": [
    "IQR17=df.House_Type.quantile(0.75)-df.House_Type.quantile(0.25)\n",
    "IQR17"
   ]
  },
  {
   "cell_type": "code",
   "execution_count": 343,
   "id": "b9fe854c",
   "metadata": {},
   "outputs": [],
   "source": [
    "Q1=df.House_Type.quantile(0.25)-(1.5*IQR17)\n",
    "Q3=df.House_Type.quantile(0.75)+(1.5*IQR17)"
   ]
  },
  {
   "cell_type": "code",
   "execution_count": 344,
   "id": "f4b3d9cf",
   "metadata": {},
   "outputs": [
    {
     "name": "stdout",
     "output_type": "stream",
     "text": [
      "0.0 0.0\n"
     ]
    }
   ],
   "source": [
    "print(Q1,Q3)"
   ]
  },
  {
   "cell_type": "code",
   "execution_count": 347,
   "id": "30a4c6d4",
   "metadata": {},
   "outputs": [],
   "source": [
    "df.loc[df['House_Type']>0,'House_Type'] = 0\n",
    "df.loc[df['House_Type']<0,'House_Type'] = 0"
   ]
  },
  {
   "cell_type": "code",
   "execution_count": 350,
   "id": "c8f88359",
   "metadata": {},
   "outputs": [
    {
     "data": {
      "text/plain": [
       "0.0"
      ]
     },
     "execution_count": 350,
     "metadata": {},
     "output_type": "execute_result"
    }
   ],
   "source": [
    "IQR18=df.Roof_Quality.quantile(0.75)-df.Roof_Quality.quantile(0.25)\n",
    "IQR18"
   ]
  },
  {
   "cell_type": "code",
   "execution_count": 351,
   "id": "c2187374",
   "metadata": {},
   "outputs": [],
   "source": [
    "Q1=df.Roof_Quality.quantile(0.25)-(1.5*IQR18)\n",
    "Q3=df.Roof_Quality.quantile(0.75)+(1.5*IQR18)"
   ]
  },
  {
   "cell_type": "code",
   "execution_count": 352,
   "id": "d7de882c",
   "metadata": {},
   "outputs": [
    {
     "name": "stdout",
     "output_type": "stream",
     "text": [
      "4.0 4.0\n"
     ]
    }
   ],
   "source": [
    "print(Q1,Q3)"
   ]
  },
  {
   "cell_type": "code",
   "execution_count": 353,
   "id": "3b8edfdb",
   "metadata": {},
   "outputs": [],
   "source": [
    "df.loc[df['Roof_Quality']>4,'Roof_Quality'] = 4\n",
    "df.loc[df['Roof_Quality']<4,'Roof_Quality'] = 4"
   ]
  },
  {
   "cell_type": "code",
   "execution_count": 356,
   "id": "ffd844e4",
   "metadata": {},
   "outputs": [
    {
     "data": {
      "text/plain": [
       "0.0"
      ]
     },
     "execution_count": 356,
     "metadata": {},
     "output_type": "execute_result"
    }
   ],
   "source": [
    "IQR19=df.Road_Type.quantile(0.75)-df.Road_Type.quantile(0.25)\n",
    "IQR19"
   ]
  },
  {
   "cell_type": "code",
   "execution_count": 357,
   "id": "330e729d",
   "metadata": {},
   "outputs": [],
   "source": [
    "Q1=df.Road_Type.quantile(0.25)-(1.5*IQR19)\n",
    "Q3=df.Road_Type.quantile(0.75)+(1.5*IQR19)"
   ]
  },
  {
   "cell_type": "code",
   "execution_count": 358,
   "id": "f77ef9a4",
   "metadata": {},
   "outputs": [
    {
     "name": "stdout",
     "output_type": "stream",
     "text": [
      "1.0 1.0\n"
     ]
    }
   ],
   "source": [
    "print(Q1,Q3)"
   ]
  },
  {
   "cell_type": "code",
   "execution_count": 359,
   "id": "3065665d",
   "metadata": {},
   "outputs": [],
   "source": [
    "df.loc[df['Road_Type']>1,'Road_Type'] = 1\n",
    "df.loc[df['Road_Type']<1,'Road_Type'] = 1"
   ]
  },
  {
   "cell_type": "code",
   "execution_count": 363,
   "id": "b1e887e8",
   "metadata": {},
   "outputs": [
    {
     "data": {
      "text/plain": [
       "0.0"
      ]
     },
     "execution_count": 363,
     "metadata": {},
     "output_type": "execute_result"
    }
   ],
   "source": [
    "IQR20=df.Heating_Type.quantile(0.75)-df.Heating_Type.quantile(0.25)\n",
    "IQR20"
   ]
  },
  {
   "cell_type": "code",
   "execution_count": 366,
   "id": "7e366acc",
   "metadata": {},
   "outputs": [],
   "source": [
    "Q1=df.Heating_Type.quantile(0.25)-(1.5*IQR20)\n",
    "Q3=df.Heating_Type.quantile(0.75)+(1.5*IQR20)"
   ]
  },
  {
   "cell_type": "code",
   "execution_count": 367,
   "id": "34137148",
   "metadata": {},
   "outputs": [
    {
     "name": "stdout",
     "output_type": "stream",
     "text": [
      "1.0 1.0\n"
     ]
    }
   ],
   "source": [
    "print(Q1,Q3)"
   ]
  },
  {
   "cell_type": "code",
   "execution_count": 368,
   "id": "c66da33b",
   "metadata": {},
   "outputs": [],
   "source": [
    "df.loc[df['Heating_Type']>1,'Heating_Type'] = 1\n",
    "df.loc[df['Heating_Type']<1,'Heating_Type'] = 1"
   ]
  },
  {
   "cell_type": "code",
   "execution_count": 371,
   "id": "bdc3bfba",
   "metadata": {},
   "outputs": [
    {
     "data": {
      "text/plain": [
       "84050.0"
      ]
     },
     "execution_count": 371,
     "metadata": {},
     "output_type": "execute_result"
    }
   ],
   "source": [
    "IQR21=df.Sale_Price.quantile(0.75)-df.Sale_Price.quantile(0.25)\n",
    "IQR21"
   ]
  },
  {
   "cell_type": "code",
   "execution_count": 372,
   "id": "33f9d24e",
   "metadata": {},
   "outputs": [],
   "source": [
    "Q1=df.Sale_Price.quantile(0.25)-(1.5*IQR21)\n",
    "Q3=df.Sale_Price.quantile(0.75)+(1.5*IQR21)"
   ]
  },
  {
   "cell_type": "code",
   "execution_count": 373,
   "id": "8c46fa20",
   "metadata": {},
   "outputs": [
    {
     "name": "stdout",
     "output_type": "stream",
     "text": [
      "3875.0 340075.0\n"
     ]
    }
   ],
   "source": [
    "print(Q1,Q3)"
   ]
  },
  {
   "cell_type": "code",
   "execution_count": 374,
   "id": "04143d1a",
   "metadata": {},
   "outputs": [],
   "source": [
    "df.loc[df['Sale_Price']>340075,'Sale_Price'] = 340075\n",
    "df.loc[df['Sale_Price']<3875,'Sale_Price'] = 3875"
   ]
  },
  {
   "cell_type": "code",
   "execution_count": 378,
   "id": "18ce0895",
   "metadata": {},
   "outputs": [
    {
     "data": {
      "text/plain": [
       "0.0"
      ]
     },
     "execution_count": 378,
     "metadata": {},
     "output_type": "execute_result"
    }
   ],
   "source": [
    "IQR22=df.Sale_Condition.quantile(0.75)-df.Sale_Condition.quantile(0.25)\n",
    "IQR22"
   ]
  },
  {
   "cell_type": "code",
   "execution_count": 379,
   "id": "c2876e2e",
   "metadata": {},
   "outputs": [],
   "source": [
    "Q1=df.Sale_Condition.quantile(0.25)-(1.5*IQR22)\n",
    "Q3=df.Sale_Condition.quantile(0.75)+(1.5*IQR22)"
   ]
  },
  {
   "cell_type": "code",
   "execution_count": 380,
   "id": "8e3e7fba",
   "metadata": {},
   "outputs": [
    {
     "name": "stdout",
     "output_type": "stream",
     "text": [
      "4.0 4.0\n"
     ]
    }
   ],
   "source": [
    "print(Q1,Q3)"
   ]
  },
  {
   "cell_type": "code",
   "execution_count": 381,
   "id": "9eaaf424",
   "metadata": {},
   "outputs": [],
   "source": [
    "df.loc[df['Sale_Condition']>4,'Sale_Condition'] = 4\n",
    "df.loc[df['Sale_Condition']<4,'Sale_Condition'] = 4"
   ]
  },
  {
   "cell_type": "code",
   "execution_count": 385,
   "id": "9581eb6a",
   "metadata": {},
   "outputs": [
    {
     "data": {
      "text/plain": [
       "0.0"
      ]
     },
     "execution_count": 385,
     "metadata": {},
     "output_type": "execute_result"
    }
   ],
   "source": [
    "IQR23=df.Sale_Type.quantile(0.75)-df.Sale_Type.quantile(0.25)\n",
    "IQR23"
   ]
  },
  {
   "cell_type": "code",
   "execution_count": 386,
   "id": "4a55b557",
   "metadata": {},
   "outputs": [],
   "source": [
    "Q1=df.Sale_Type.quantile(0.25)-(1.5*IQR23)\n",
    "Q3=df.Sale_Type.quantile(0.75)+(1.5*IQR23)"
   ]
  },
  {
   "cell_type": "code",
   "execution_count": 387,
   "id": "0af636ea",
   "metadata": {},
   "outputs": [
    {
     "name": "stdout",
     "output_type": "stream",
     "text": [
      "8.0 8.0\n"
     ]
    }
   ],
   "source": [
    "print(Q1,Q3)"
   ]
  },
  {
   "cell_type": "code",
   "execution_count": 388,
   "id": "5bd68430",
   "metadata": {},
   "outputs": [],
   "source": [
    "df.loc[df['Sale_Type']>8,'Sale_Type'] = 8\n",
    "df.loc[df['Sale_Type']<8,'Sale_Type'] = 8"
   ]
  },
  {
   "cell_type": "code",
   "execution_count": 391,
   "id": "881a34e5",
   "metadata": {},
   "outputs": [
    {
     "data": {
      "text/plain": [
       "0.0"
      ]
     },
     "execution_count": 391,
     "metadata": {},
     "output_type": "execute_result"
    }
   ],
   "source": [
    "IQR24=df.Air_Conditioning.quantile(0.75)-df.Air_Conditioning.quantile(0.25)\n",
    "IQR24"
   ]
  },
  {
   "cell_type": "code",
   "execution_count": 392,
   "id": "eb94d8a8",
   "metadata": {},
   "outputs": [],
   "source": [
    "Q1=df.Air_Conditioning.quantile(0.25)-(1.5*IQR24)\n",
    "Q3=df.Air_Conditioning.quantile(0.75)+(1.5*IQR24)"
   ]
  },
  {
   "cell_type": "code",
   "execution_count": 393,
   "id": "19ae399a",
   "metadata": {},
   "outputs": [
    {
     "name": "stdout",
     "output_type": "stream",
     "text": [
      "1.0 1.0\n"
     ]
    }
   ],
   "source": [
    "print(Q1,Q3)"
   ]
  },
  {
   "cell_type": "code",
   "execution_count": 394,
   "id": "a0601d8d",
   "metadata": {},
   "outputs": [],
   "source": [
    "df.loc[df['Air_Conditioning']>1,'Air_Conditioning'] = 1\n",
    "df.loc[df['Air_Conditioning']<1,'Air_Conditioning'] = 1"
   ]
  },
  {
   "cell_type": "code",
   "execution_count": 397,
   "id": "8e655341",
   "metadata": {},
   "outputs": [
    {
     "data": {
      "text/plain": [
       "0.0"
      ]
     },
     "execution_count": 397,
     "metadata": {},
     "output_type": "execute_result"
    }
   ],
   "source": [
    "IQR25=df.Electrical_System.quantile(0.75)-df.Electrical_System.quantile(0.25)\n",
    "IQR25"
   ]
  },
  {
   "cell_type": "code",
   "execution_count": 398,
   "id": "da603471",
   "metadata": {},
   "outputs": [],
   "source": [
    "Q1=df.Electrical_System.quantile(0.25)-(1.5*IQR25)\n",
    "Q3=df.Electrical_System.quantile(0.75)+(1.5*IQR25)"
   ]
  },
  {
   "cell_type": "code",
   "execution_count": 399,
   "id": "66773067",
   "metadata": {},
   "outputs": [
    {
     "name": "stdout",
     "output_type": "stream",
     "text": [
      "4.0 4.0\n"
     ]
    }
   ],
   "source": [
    "print(Q1,Q3)"
   ]
  },
  {
   "cell_type": "code",
   "execution_count": 400,
   "id": "fe0b4042",
   "metadata": {},
   "outputs": [],
   "source": [
    "df.loc[df['Electrical_System']>4,'Electrical_System'] = 4\n",
    "df.loc[df['Electrical_System']<4,'Electrical_System'] = 4"
   ]
  },
  {
   "cell_type": "code",
   "execution_count": 449,
   "id": "42d00af2",
   "metadata": {},
   "outputs": [
    {
     "data": {
      "text/plain": [
       "0.0"
      ]
     },
     "execution_count": 449,
     "metadata": {},
     "output_type": "execute_result"
    }
   ],
   "source": [
    "IQR26=df.Sale_Type.quantile(0.75)-df.Sale_Type.quantile(0.25)\n",
    "IQR26"
   ]
  },
  {
   "cell_type": "code",
   "execution_count": 450,
   "id": "b27a05f4",
   "metadata": {},
   "outputs": [],
   "source": [
    "Q1=df.Sale_Type.quantile(0.25)-(1.5*IQR26)\n",
    "Q3=df.Sale_Type.quantile(0.75)+(1.5*IQR26)"
   ]
  },
  {
   "cell_type": "code",
   "execution_count": 451,
   "id": "ed7fc55f",
   "metadata": {},
   "outputs": [
    {
     "name": "stdout",
     "output_type": "stream",
     "text": [
      "8.0 8.0\n"
     ]
    }
   ],
   "source": [
    "print(Q1,Q3)"
   ]
  },
  {
   "cell_type": "code",
   "execution_count": 452,
   "id": "1aa4b084",
   "metadata": {},
   "outputs": [],
   "source": [
    "df.loc[df['Sale_Type']>8,'Sale_Type'] = 8\n",
    "df.loc[df['Sale_Type']<8,'Sale_Type'] = 8"
   ]
  },
  {
   "cell_type": "code",
   "execution_count": 453,
   "id": "daab4fca",
   "metadata": {},
   "outputs": [
    {
     "data": {
      "text/plain": [
       "0.0"
      ]
     },
     "execution_count": 453,
     "metadata": {},
     "output_type": "execute_result"
    }
   ],
   "source": [
    "IQR27=df.Sale_Condition.quantile(0.75)-df.Sale_Condition.quantile(0.25)\n",
    "IQR27"
   ]
  },
  {
   "cell_type": "code",
   "execution_count": 454,
   "id": "0c38d6e1",
   "metadata": {},
   "outputs": [],
   "source": [
    "Q1=df.Sale_Condition.quantile(0.25)-(1.5*IQR27)\n",
    "Q3=df.Sale_Condition.quantile(0.75)+(1.5*IQR27)"
   ]
  },
  {
   "cell_type": "code",
   "execution_count": 455,
   "id": "8439787d",
   "metadata": {},
   "outputs": [
    {
     "name": "stdout",
     "output_type": "stream",
     "text": [
      "4.0 4.0\n"
     ]
    }
   ],
   "source": [
    "print(Q1,Q3)"
   ]
  },
  {
   "cell_type": "code",
   "execution_count": 456,
   "id": "7cb4b46a",
   "metadata": {},
   "outputs": [],
   "source": [
    "df.loc[df['Sale_Condition']>4,'Sale_Condition'] = 4\n",
    "df.loc[df['Sale_Condition']<4,'Sale_Condition'] = 4"
   ]
  },
  {
   "cell_type": "code",
   "execution_count": null,
   "id": "107e1b1f",
   "metadata": {},
   "outputs": [],
   "source": []
  },
  {
   "cell_type": "markdown",
   "id": "6b103f92",
   "metadata": {},
   "source": [
    "# Splitting Target"
   ]
  },
  {
   "cell_type": "code",
   "execution_count": 458,
   "id": "fa547074",
   "metadata": {},
   "outputs": [],
   "source": [
    "dependent=df.drop('Sale_Price',axis=1)\n",
    "target=df.Sale_Price"
   ]
  },
  {
   "cell_type": "code",
   "execution_count": null,
   "id": "54f79303",
   "metadata": {},
   "outputs": [],
   "source": []
  },
  {
   "cell_type": "code",
   "execution_count": 459,
   "id": "3297aae4",
   "metadata": {},
   "outputs": [
    {
     "data": {
      "text/plain": [
       "(1459,)"
      ]
     },
     "execution_count": 459,
     "metadata": {},
     "output_type": "execute_result"
    }
   ],
   "source": [
    "target.shape"
   ]
  },
  {
   "cell_type": "code",
   "execution_count": 460,
   "id": "d5bb05cd",
   "metadata": {},
   "outputs": [
    {
     "data": {
      "text/plain": [
       "(1459, 75)"
      ]
     },
     "execution_count": 460,
     "metadata": {},
     "output_type": "execute_result"
    }
   ],
   "source": [
    "dependent.shape"
   ]
  },
  {
   "cell_type": "code",
   "execution_count": 128,
   "id": "5da78a60",
   "metadata": {},
   "outputs": [],
   "source": [
    "#applying log transformation to target value\n",
    "#target = target.apply(np.log)"
   ]
  },
  {
   "cell_type": "markdown",
   "id": "55154ea6",
   "metadata": {},
   "source": [
    "# Checking Correlation"
   ]
  },
  {
   "cell_type": "code",
   "execution_count": 125,
   "id": "ea847483",
   "metadata": {},
   "outputs": [
    {
     "data": {
      "image/png": "[encoded data removed]",
      "text/plain": [
       "<Figure size 1440x1440 with 81 Axes>"
      ]
     },
     "metadata": {
      "needs_background": "light"
     },
     "output_type": "display_data"
    }
   ],
   "source": [
    "dependent.hist(bins=50,figsize=(20,20))\n",
    "plt.show()"
   ]
  },
  {
   "cell_type": "code",
   "execution_count": 461,
   "id": "e68c0068",
   "metadata": {},
   "outputs": [
    {
     "data": {
      "text/plain": [
       "Overall_Material             0.816845\n",
       "Grade_Living_Area            0.699938\n",
       "Garage_Size                  0.672266\n",
       "Total_Basement_Area          0.609167\n",
       "First_Floor_Area             0.598570\n",
       "Full_Bathroom_Above_Grade    0.583923\n",
       "Construction_Year            0.568891\n",
       "Remodel_Year                 0.551971\n",
       "Rooms_Above_Grade            0.529680\n",
       "Fireplaces                   0.486578\n",
       "Brick_Veneer_Area            0.453974\n",
       "Lot_Size                     0.435887\n",
       "Lot_Extent                   0.376440\n",
       "Foundation_Type              0.373032\n",
       "BsmtFinSF1                   0.370443\n",
       "Second_Floor_Area            0.316946\n",
       "Garage_Condition             0.309966\n",
       "Garage_Quality               0.296240\n",
       "Half_Bathroom_Above_Grade    0.295653\n",
       "Garage_Built_Year            0.293310\n",
       "Pavedd_Drive                 0.258106\n",
       "Underground_Full_Bathroom    0.240105\n",
       "BsmtUnfSF                    0.225265\n",
       "Neighborhood                 0.211273\n",
       "Roof_Design                  0.199751\n",
       "House_Design                 0.196498\n",
       "Bedroom_Above_Grade          0.181337\n",
       "Basement_Condition           0.162005\n",
       "BsmtFinType2                 0.145405\n",
       "Exterior_Condition           0.132447\n",
       "Exterior2nd                  0.123268\n",
       "Functional_Rate              0.122542\n",
       "Exterior1st                  0.119203\n",
       "Month_Sold                   0.068042\n",
       "W_Deck_Area                  0.043514\n",
       "Land_Outline                 0.019055\n",
       "Enclosed_Lobby_Area          0.015532\n",
       "Garage_Area                 -0.000746\n",
       "BsmtFinType1                -0.010081\n",
       "Open_Lobby_Area             -0.014407\n",
       "Id                          -0.026944\n",
       "Year_Sold                   -0.031318\n",
       "Building_Class              -0.061768\n",
       "Lot_Configuration           -0.064470\n",
       "House_Condition             -0.075019\n",
       "Brick_Veneer_Type           -0.095371\n",
       "Zoning_Class                -0.196869\n",
       "Garage                      -0.207720\n",
       "Property_Shape              -0.270997\n",
       "Exposure_Level              -0.293036\n",
       "Garage_Finish_Year          -0.300349\n",
       "Basement_Height             -0.421887\n",
       "Heating_Quality             -0.428221\n",
       "Kitchen_Quality             -0.577312\n",
       "Exterior_Material           -0.625170\n",
       "BsmtFinSF2                        NaN\n",
       "LowQualFinSF                      NaN\n",
       "Underground_Half_Bathroom         NaN\n",
       "Kitchen_Above_Grade               NaN\n",
       "Three_Season_Lobby_Area           NaN\n",
       "Screen_Lobby_Area                 NaN\n",
       "Pool_Area                         NaN\n",
       "Miscellaneous_Value               NaN\n",
       "Road_Type                         NaN\n",
       "Utility_Type                      NaN\n",
       "Property_Slope                    NaN\n",
       "Condition1                        NaN\n",
       "Condition2                        NaN\n",
       "House_Type                        NaN\n",
       "Roof_Quality                      NaN\n",
       "Heating_Type                      NaN\n",
       "Air_Conditioning                  NaN\n",
       "Electrical_System                 NaN\n",
       "Sale_Type                         NaN\n",
       "Sale_Condition                    NaN\n",
       "dtype: float64"
      ]
     },
     "execution_count": 461,
     "metadata": {},
     "output_type": "execute_result"
    }
   ],
   "source": [
    "corr_dep=dependent.corrwith(target,axis=0).sort_values(ascending=False)\n",
    "corr_dep"
   ]
  },
  {
   "cell_type": "code",
   "execution_count": 462,
   "id": "ab85e6ba",
   "metadata": {},
   "outputs": [],
   "source": [
    "#remove numerical variables that have marginal correlation with sales price (between 0.1 and -0.1)\n",
    "df_train_org=df.copy()"
   ]
  },
  {
   "cell_type": "code",
   "execution_count": 580,
   "id": "64153e3a",
   "metadata": {},
   "outputs": [],
   "source": [
    "df_test_org=df1.copy()"
   ]
  },
  {
   "cell_type": "code",
   "execution_count": 463,
   "id": "22d12c20",
   "metadata": {},
   "outputs": [
    {
     "data": {
      "text/plain": [
       "(1459, 76)"
      ]
     },
     "execution_count": 463,
     "metadata": {},
     "output_type": "execute_result"
    }
   ],
   "source": [
    "df_train_org.shape"
   ]
  },
  {
   "cell_type": "code",
   "execution_count": 465,
   "id": "4ea3a260",
   "metadata": {},
   "outputs": [],
   "source": [
    "col_features=['Overall_Material','Grade_Living_Area','Garage_Size','Total_Basement_Area','First_Floor_Area','Full_Bathroom_Above_Grade',\n",
    "             'Construction_Year','Remodel_Year','Rooms_Above_Grade','Fireplaces','Brick_Veneer_Area','Lot_Size','BsmtUnfSF','Neighborhood',\n",
    "             'Lot_Extent','Foundation_Type','BsmtFinSF1','Second_Floor_Area','Garage_Condition','Garage_Quality','Roof_Design','House_Design',\n",
    "             'Half_Bathroom_Above_Grade','Garage_Built_Year','Pavedd_Drive','Bedroom_Above_Grade','Basement_Condition','BsmtFinType2','Exterior_Condition',\n",
    "             'Exterior2nd','Functional_Rate','Exterior1st','Month_Sold','W_Deck_Area','Land_Outline','Enclosed_Lobby_Area','Sale_Price']"
   ]
  },
  {
   "cell_type": "code",
   "execution_count": 466,
   "id": "4d52377f",
   "metadata": {},
   "outputs": [],
   "source": [
    "df_train_org=df_train_org[col_features]"
   ]
  },
  {
   "cell_type": "code",
   "execution_count": 467,
   "id": "915301c5",
   "metadata": {},
   "outputs": [
    {
     "data": {
      "text/plain": [
       "(1459, 37)"
      ]
     },
     "execution_count": 467,
     "metadata": {},
     "output_type": "execute_result"
    }
   ],
   "source": [
    "df_train_org.shape"
   ]
  },
  {
   "cell_type": "code",
   "execution_count": 468,
   "id": "e7aa738f",
   "metadata": {},
   "outputs": [
    {
     "data": {
      "text/plain": [
       "Sale_Condition               0.058622\n",
       "Foundation_Type              0.042844\n",
       "Garage_Condition             0.038098\n",
       "Fireplaces                   0.037237\n",
       "Month_Sold                   0.032820\n",
       "Total_Basement_Area          0.029534\n",
       "BsmtUnfSF                    0.028249\n",
       "Pavedd_Drive                 0.027800\n",
       "Underground_Full_Bathroom    0.026999\n",
       "Land_Outline                 0.026546\n",
       "Exterior_Material            0.026450\n",
       "Construction_Year            0.026345\n",
       "Full_Bathroom_Above_Grade    0.026276\n",
       "Bedroom_Above_Grade          0.025719\n",
       "Sale_Type                    0.025469\n",
       "Open_Lobby_Area              0.024059\n",
       "Garage_Area                  0.022949\n",
       "Garage_Finish_Year           0.022427\n",
       "BsmtFinType2                 0.022328\n",
       "Basement_Height              0.021908\n",
       "Roof_Design                  0.020189\n",
       "Garage_Quality               0.019834\n",
       "Exterior_Condition           0.018850\n",
       "Remodel_Year                 0.018073\n",
       "Building_Class               0.016297\n",
       "Year_Sold                    0.016255\n",
       "Garage_Built_Year            0.015810\n",
       "Kitchen_Quality              0.015600\n",
       "Garage_Size                  0.012728\n",
       "Brick_Veneer_Type            0.011429\n",
       "Rooms_Above_Grade            0.010580\n",
       "Functional_Rate              0.010220\n",
       "House_Type                   0.008937\n",
       "House_Condition              0.008570\n",
       "House_Design                 0.008499\n",
       "First_Floor_Area             0.007950\n",
       "BsmtFinSF1                   0.007308\n",
       "Half_Bathroom_Above_Grade    0.003924\n",
       "Neighborhood                 0.001881\n",
       "Basement_Condition           0.001821\n",
       "Lot_Extent                   0.000702\n",
       "Grade_Living_Area            0.000026\n",
       "Exterior2nd                 -0.001196\n",
       "Overall_Material            -0.002118\n",
       "Second_Floor_Area           -0.005103\n",
       "Property_Shape              -0.009571\n",
       "Garage                      -0.012717\n",
       "Lot_Size                    -0.013945\n",
       "Exterior1st                 -0.015816\n",
       "BsmtFinType1                -0.022563\n",
       "Lot_Configuration           -0.025654\n",
       "Id                          -0.026944\n",
       "Brick_Veneer_Area           -0.027677\n",
       "Exposure_Level              -0.031152\n",
       "Heating_Quality             -0.038539\n",
       "BsmtFinSF2                        NaN\n",
       "LowQualFinSF                      NaN\n",
       "Underground_Half_Bathroom         NaN\n",
       "Kitchen_Above_Grade               NaN\n",
       "W_Deck_Area                       NaN\n",
       "Enclosed_Lobby_Area               NaN\n",
       "Three_Season_Lobby_Area           NaN\n",
       "Screen_Lobby_Area                 NaN\n",
       "Pool_Area                         NaN\n",
       "Miscellaneous_Value               NaN\n",
       "Zoning_Class                      NaN\n",
       "Road_Type                         NaN\n",
       "Utility_Type                      NaN\n",
       "Property_Slope                    NaN\n",
       "Condition1                        NaN\n",
       "Condition2                        NaN\n",
       "Roof_Quality                      NaN\n",
       "Heating_Type                      NaN\n",
       "Air_Conditioning                  NaN\n",
       "Electrical_System                 NaN\n",
       "dtype: float64"
      ]
     },
     "execution_count": 468,
     "metadata": {},
     "output_type": "execute_result"
    }
   ],
   "source": [
    "corr_dep_test=df1.corrwith(target,axis=0).sort_values(ascending=False)\n",
    "corr_dep_test"
   ]
  },
  {
   "cell_type": "code",
   "execution_count": 581,
   "id": "ffdc7a9c",
   "metadata": {},
   "outputs": [],
   "source": [
    "col_features1=['Id','Overall_Material','Grade_Living_Area','Garage_Size','Total_Basement_Area','First_Floor_Area','Full_Bathroom_Above_Grade',\n",
    "             'Construction_Year','Remodel_Year','Rooms_Above_Grade','Fireplaces','Brick_Veneer_Area','Lot_Size','BsmtUnfSF','Neighborhood',\n",
    "             'Lot_Extent','Foundation_Type','BsmtFinSF1','Second_Floor_Area','Garage_Condition','Garage_Quality','Roof_Design','House_Design',\n",
    "             'Half_Bathroom_Above_Grade','Garage_Built_Year','Pavedd_Drive','Bedroom_Above_Grade','Basement_Condition','BsmtFinType2','Exterior_Condition',\n",
    "             'Exterior2nd','Functional_Rate','Exterior1st','Month_Sold','W_Deck_Area','Land_Outline','Enclosed_Lobby_Area']"
   ]
  },
  {
   "cell_type": "code",
   "execution_count": 582,
   "id": "a0e89576",
   "metadata": {},
   "outputs": [],
   "source": [
    "df_test_org=df_test_org[col_features1]"
   ]
  },
  {
   "cell_type": "code",
   "execution_count": 583,
   "id": "d27c1e66",
   "metadata": {},
   "outputs": [
    {
     "data": {
      "text/plain": [
       "(1459, 37)"
      ]
     },
     "execution_count": 583,
     "metadata": {},
     "output_type": "execute_result"
    }
   ],
   "source": [
    "df_test_org.shape"
   ]
  },
  {
   "cell_type": "code",
   "execution_count": 474,
   "id": "eeb102eb",
   "metadata": {},
   "outputs": [],
   "source": [
    "train_data=df_train_org.copy()"
   ]
  },
  {
   "cell_type": "code",
   "execution_count": 584,
   "id": "bae67d32",
   "metadata": {},
   "outputs": [],
   "source": [
    "test_data=df_test_org.copy()"
   ]
  },
  {
   "cell_type": "markdown",
   "id": "8e5e1251",
   "metadata": {},
   "source": [
    "#  Final train and test dataset"
   ]
  },
  {
   "cell_type": "code",
   "execution_count": 476,
   "id": "71349949",
   "metadata": {},
   "outputs": [
    {
     "data": {
      "text/html": [
       "<div>\n",
       "<style scoped>\n",
       "    .dataframe tbody tr th:only-of-type {\n",
       "        vertical-align: middle;\n",
       "    }\n",
       "\n",
       "    .dataframe tbody tr th {\n",
       "        vertical-align: top;\n",
       "    }\n",
       "\n",
       "    .dataframe thead th {\n",
       "        text-align: right;\n",
       "    }\n",
       "</style>\n",
       "<table border=\"1\" class=\"dataframe\">\n",
       "  <thead>\n",
       "    <tr style=\"text-align: right;\">\n",
       "      <th></th>\n",
       "      <th>Overall_Material</th>\n",
       "      <th>Grade_Living_Area</th>\n",
       "      <th>Garage_Size</th>\n",
       "      <th>Total_Basement_Area</th>\n",
       "      <th>First_Floor_Area</th>\n",
       "      <th>Full_Bathroom_Above_Grade</th>\n",
       "      <th>Construction_Year</th>\n",
       "      <th>Remodel_Year</th>\n",
       "      <th>Rooms_Above_Grade</th>\n",
       "      <th>Fireplaces</th>\n",
       "      <th>Brick_Veneer_Area</th>\n",
       "      <th>Lot_Size</th>\n",
       "      <th>BsmtUnfSF</th>\n",
       "      <th>Neighborhood</th>\n",
       "      <th>Lot_Extent</th>\n",
       "      <th>Foundation_Type</th>\n",
       "      <th>BsmtFinSF1</th>\n",
       "      <th>Second_Floor_Area</th>\n",
       "      <th>Garage_Condition</th>\n",
       "      <th>Garage_Quality</th>\n",
       "      <th>Roof_Design</th>\n",
       "      <th>House_Design</th>\n",
       "      <th>Half_Bathroom_Above_Grade</th>\n",
       "      <th>Garage_Built_Year</th>\n",
       "      <th>Pavedd_Drive</th>\n",
       "      <th>Bedroom_Above_Grade</th>\n",
       "      <th>Basement_Condition</th>\n",
       "      <th>BsmtFinType2</th>\n",
       "      <th>Exterior_Condition</th>\n",
       "      <th>Exterior2nd</th>\n",
       "      <th>Functional_Rate</th>\n",
       "      <th>Exterior1st</th>\n",
       "      <th>Month_Sold</th>\n",
       "      <th>W_Deck_Area</th>\n",
       "      <th>Land_Outline</th>\n",
       "      <th>Enclosed_Lobby_Area</th>\n",
       "      <th>Sale_Price</th>\n",
       "    </tr>\n",
       "  </thead>\n",
       "  <tbody>\n",
       "    <tr>\n",
       "      <th>0</th>\n",
       "      <td>7</td>\n",
       "      <td>1710</td>\n",
       "      <td>2</td>\n",
       "      <td>856</td>\n",
       "      <td>856</td>\n",
       "      <td>2</td>\n",
       "      <td>2003</td>\n",
       "      <td>2003</td>\n",
       "      <td>8</td>\n",
       "      <td>0</td>\n",
       "      <td>196.0</td>\n",
       "      <td>8450</td>\n",
       "      <td>150</td>\n",
       "      <td>5.0</td>\n",
       "      <td>65.0</td>\n",
       "      <td>2.0</td>\n",
       "      <td>706</td>\n",
       "      <td>854</td>\n",
       "      <td>5.0</td>\n",
       "      <td>5.0</td>\n",
       "      <td>1.0</td>\n",
       "      <td>5.0</td>\n",
       "      <td>1</td>\n",
       "      <td>2003.0</td>\n",
       "      <td>2.0</td>\n",
       "      <td>3</td>\n",
       "      <td>4.0</td>\n",
       "      <td>6.0</td>\n",
       "      <td>4.0</td>\n",
       "      <td>13.0</td>\n",
       "      <td>7.0</td>\n",
       "      <td>12.0</td>\n",
       "      <td>2</td>\n",
       "      <td>163.788080</td>\n",
       "      <td>3.0</td>\n",
       "      <td>20.337934</td>\n",
       "      <td>208500</td>\n",
       "    </tr>\n",
       "    <tr>\n",
       "      <th>1</th>\n",
       "      <td>6</td>\n",
       "      <td>1262</td>\n",
       "      <td>2</td>\n",
       "      <td>1262</td>\n",
       "      <td>1262</td>\n",
       "      <td>2</td>\n",
       "      <td>1976</td>\n",
       "      <td>1976</td>\n",
       "      <td>6</td>\n",
       "      <td>1</td>\n",
       "      <td>0.0</td>\n",
       "      <td>9600</td>\n",
       "      <td>284</td>\n",
       "      <td>24.0</td>\n",
       "      <td>80.0</td>\n",
       "      <td>1.0</td>\n",
       "      <td>978</td>\n",
       "      <td>0</td>\n",
       "      <td>5.0</td>\n",
       "      <td>5.0</td>\n",
       "      <td>1.0</td>\n",
       "      <td>2.0</td>\n",
       "      <td>0</td>\n",
       "      <td>1976.0</td>\n",
       "      <td>2.0</td>\n",
       "      <td>3</td>\n",
       "      <td>4.0</td>\n",
       "      <td>6.0</td>\n",
       "      <td>4.0</td>\n",
       "      <td>8.0</td>\n",
       "      <td>7.0</td>\n",
       "      <td>8.0</td>\n",
       "      <td>5</td>\n",
       "      <td>198.900074</td>\n",
       "      <td>3.0</td>\n",
       "      <td>15.039392</td>\n",
       "      <td>181500</td>\n",
       "    </tr>\n",
       "  </tbody>\n",
       "</table>\n",
       "</div>"
      ],
      "text/plain": [
       "   Overall_Material  Grade_Living_Area  Garage_Size  Total_Basement_Area  \\\n",
       "0                 7               1710            2                  856   \n",
       "1                 6               1262            2                 1262   \n",
       "\n",
       "   First_Floor_Area  Full_Bathroom_Above_Grade  Construction_Year  \\\n",
       "0               856                          2               2003   \n",
       "1              1262                          2               1976   \n",
       "\n",
       "   Remodel_Year  Rooms_Above_Grade  Fireplaces  Brick_Veneer_Area  Lot_Size  \\\n",
       "0          2003                  8           0              196.0      8450   \n",
       "1          1976                  6           1                0.0      9600   \n",
       "\n",
       "   BsmtUnfSF  Neighborhood  Lot_Extent  Foundation_Type  BsmtFinSF1  \\\n",
       "0        150           5.0        65.0              2.0         706   \n",
       "1        284          24.0        80.0              1.0         978   \n",
       "\n",
       "   Second_Floor_Area  Garage_Condition  Garage_Quality  Roof_Design  \\\n",
       "0                854               5.0             5.0          1.0   \n",
       "1                  0               5.0             5.0          1.0   \n",
       "\n",
       "   House_Design  Half_Bathroom_Above_Grade  Garage_Built_Year  Pavedd_Drive  \\\n",
       "0           5.0                          1             2003.0           2.0   \n",
       "1           2.0                          0             1976.0           2.0   \n",
       "\n",
       "   Bedroom_Above_Grade  Basement_Condition  BsmtFinType2  Exterior_Condition  \\\n",
       "0                    3                 4.0           6.0                 4.0   \n",
       "1                    3                 4.0           6.0                 4.0   \n",
       "\n",
       "   Exterior2nd  Functional_Rate  Exterior1st  Month_Sold  W_Deck_Area  \\\n",
       "0         13.0              7.0         12.0           2   163.788080   \n",
       "1          8.0              7.0          8.0           5   198.900074   \n",
       "\n",
       "   Land_Outline  Enclosed_Lobby_Area  Sale_Price  \n",
       "0           3.0            20.337934      208500  \n",
       "1           3.0            15.039392      181500  "
      ]
     },
     "execution_count": 476,
     "metadata": {},
     "output_type": "execute_result"
    }
   ],
   "source": [
    "#train dataset\n",
    "train_data.head(2)"
   ]
  },
  {
   "cell_type": "code",
   "execution_count": 477,
   "id": "4e06ea0f",
   "metadata": {},
   "outputs": [
    {
     "data": {
      "text/plain": [
       "(1459, 37)"
      ]
     },
     "execution_count": 477,
     "metadata": {},
     "output_type": "execute_result"
    }
   ],
   "source": [
    "train_data.shape"
   ]
  },
  {
   "cell_type": "code",
   "execution_count": 478,
   "id": "cceff08f",
   "metadata": {},
   "outputs": [
    {
     "data": {
      "text/html": [
       "<div>\n",
       "<style scoped>\n",
       "    .dataframe tbody tr th:only-of-type {\n",
       "        vertical-align: middle;\n",
       "    }\n",
       "\n",
       "    .dataframe tbody tr th {\n",
       "        vertical-align: top;\n",
       "    }\n",
       "\n",
       "    .dataframe thead th {\n",
       "        text-align: right;\n",
       "    }\n",
       "</style>\n",
       "<table border=\"1\" class=\"dataframe\">\n",
       "  <thead>\n",
       "    <tr style=\"text-align: right;\">\n",
       "      <th></th>\n",
       "      <th>Overall_Material</th>\n",
       "      <th>Grade_Living_Area</th>\n",
       "      <th>Garage_Size</th>\n",
       "      <th>Total_Basement_Area</th>\n",
       "      <th>First_Floor_Area</th>\n",
       "      <th>Full_Bathroom_Above_Grade</th>\n",
       "      <th>Construction_Year</th>\n",
       "      <th>Remodel_Year</th>\n",
       "      <th>Rooms_Above_Grade</th>\n",
       "      <th>Fireplaces</th>\n",
       "      <th>Brick_Veneer_Area</th>\n",
       "      <th>Lot_Size</th>\n",
       "      <th>BsmtUnfSF</th>\n",
       "      <th>Neighborhood</th>\n",
       "      <th>Lot_Extent</th>\n",
       "      <th>Foundation_Type</th>\n",
       "      <th>BsmtFinSF1</th>\n",
       "      <th>Second_Floor_Area</th>\n",
       "      <th>Garage_Condition</th>\n",
       "      <th>Garage_Quality</th>\n",
       "      <th>Roof_Design</th>\n",
       "      <th>House_Design</th>\n",
       "      <th>Half_Bathroom_Above_Grade</th>\n",
       "      <th>Garage_Built_Year</th>\n",
       "      <th>Pavedd_Drive</th>\n",
       "      <th>Bedroom_Above_Grade</th>\n",
       "      <th>Basement_Condition</th>\n",
       "      <th>BsmtFinType2</th>\n",
       "      <th>Exterior_Condition</th>\n",
       "      <th>Exterior2nd</th>\n",
       "      <th>Functional_Rate</th>\n",
       "      <th>Exterior1st</th>\n",
       "      <th>Month_Sold</th>\n",
       "      <th>W_Deck_Area</th>\n",
       "      <th>Land_Outline</th>\n",
       "      <th>Enclosed_Lobby_Area</th>\n",
       "    </tr>\n",
       "  </thead>\n",
       "  <tbody>\n",
       "    <tr>\n",
       "      <th>0</th>\n",
       "      <td>5</td>\n",
       "      <td>896</td>\n",
       "      <td>1.0</td>\n",
       "      <td>882.0</td>\n",
       "      <td>896</td>\n",
       "      <td>1</td>\n",
       "      <td>1961</td>\n",
       "      <td>1961</td>\n",
       "      <td>5</td>\n",
       "      <td>0</td>\n",
       "      <td>0.0</td>\n",
       "      <td>16104.81976</td>\n",
       "      <td>270.0</td>\n",
       "      <td>12.0</td>\n",
       "      <td>80.0</td>\n",
       "      <td>1.0</td>\n",
       "      <td>468.0</td>\n",
       "      <td>0</td>\n",
       "      <td>5.0</td>\n",
       "      <td>4.0</td>\n",
       "      <td>1.0</td>\n",
       "      <td>2.0</td>\n",
       "      <td>0</td>\n",
       "      <td>1961.0</td>\n",
       "      <td>2.0</td>\n",
       "      <td>2</td>\n",
       "      <td>3.0</td>\n",
       "      <td>3.0</td>\n",
       "      <td>4.0</td>\n",
       "      <td>12.0</td>\n",
       "      <td>7.0</td>\n",
       "      <td>10.0</td>\n",
       "      <td>6</td>\n",
       "      <td>0</td>\n",
       "      <td>3.0</td>\n",
       "      <td>0</td>\n",
       "    </tr>\n",
       "    <tr>\n",
       "      <th>1</th>\n",
       "      <td>6</td>\n",
       "      <td>1329</td>\n",
       "      <td>1.0</td>\n",
       "      <td>1329.0</td>\n",
       "      <td>1329</td>\n",
       "      <td>1</td>\n",
       "      <td>1958</td>\n",
       "      <td>1958</td>\n",
       "      <td>6</td>\n",
       "      <td>0</td>\n",
       "      <td>108.0</td>\n",
       "      <td>15639.15081</td>\n",
       "      <td>406.0</td>\n",
       "      <td>12.0</td>\n",
       "      <td>81.0</td>\n",
       "      <td>1.0</td>\n",
       "      <td>923.0</td>\n",
       "      <td>0</td>\n",
       "      <td>5.0</td>\n",
       "      <td>4.0</td>\n",
       "      <td>3.0</td>\n",
       "      <td>2.0</td>\n",
       "      <td>1</td>\n",
       "      <td>1958.0</td>\n",
       "      <td>2.0</td>\n",
       "      <td>3</td>\n",
       "      <td>3.0</td>\n",
       "      <td>5.0</td>\n",
       "      <td>4.0</td>\n",
       "      <td>13.0</td>\n",
       "      <td>7.0</td>\n",
       "      <td>11.0</td>\n",
       "      <td>6</td>\n",
       "      <td>0</td>\n",
       "      <td>3.0</td>\n",
       "      <td>0</td>\n",
       "    </tr>\n",
       "  </tbody>\n",
       "</table>\n",
       "</div>"
      ],
      "text/plain": [
       "   Overall_Material  Grade_Living_Area  Garage_Size  Total_Basement_Area  \\\n",
       "0                 5                896          1.0                882.0   \n",
       "1                 6               1329          1.0               1329.0   \n",
       "\n",
       "   First_Floor_Area  Full_Bathroom_Above_Grade  Construction_Year  \\\n",
       "0               896                          1               1961   \n",
       "1              1329                          1               1958   \n",
       "\n",
       "   Remodel_Year  Rooms_Above_Grade  Fireplaces  Brick_Veneer_Area  \\\n",
       "0          1961                  5           0                0.0   \n",
       "1          1958                  6           0              108.0   \n",
       "\n",
       "      Lot_Size  BsmtUnfSF  Neighborhood  Lot_Extent  Foundation_Type  \\\n",
       "0  16104.81976      270.0          12.0        80.0              1.0   \n",
       "1  15639.15081      406.0          12.0        81.0              1.0   \n",
       "\n",
       "   BsmtFinSF1  Second_Floor_Area  Garage_Condition  Garage_Quality  \\\n",
       "0       468.0                  0               5.0             4.0   \n",
       "1       923.0                  0               5.0             4.0   \n",
       "\n",
       "   Roof_Design  House_Design  Half_Bathroom_Above_Grade  Garage_Built_Year  \\\n",
       "0          1.0           2.0                          0             1961.0   \n",
       "1          3.0           2.0                          1             1958.0   \n",
       "\n",
       "   Pavedd_Drive  Bedroom_Above_Grade  Basement_Condition  BsmtFinType2  \\\n",
       "0           2.0                    2                 3.0           3.0   \n",
       "1           2.0                    3                 3.0           5.0   \n",
       "\n",
       "   Exterior_Condition  Exterior2nd  Functional_Rate  Exterior1st  Month_Sold  \\\n",
       "0                 4.0         12.0              7.0         10.0           6   \n",
       "1                 4.0         13.0              7.0         11.0           6   \n",
       "\n",
       "   W_Deck_Area  Land_Outline  Enclosed_Lobby_Area  \n",
       "0            0           3.0                    0  \n",
       "1            0           3.0                    0  "
      ]
     },
     "execution_count": 478,
     "metadata": {},
     "output_type": "execute_result"
    }
   ],
   "source": [
    "#test dataset\n",
    "test_data.head(2)"
   ]
  },
  {
   "cell_type": "code",
   "execution_count": 479,
   "id": "1de2efee",
   "metadata": {},
   "outputs": [
    {
     "data": {
      "text/plain": [
       "(1459, 36)"
      ]
     },
     "execution_count": 479,
     "metadata": {},
     "output_type": "execute_result"
    }
   ],
   "source": [
    "test_data.shape"
   ]
  },
  {
   "cell_type": "markdown",
   "id": "ffe4e6c8",
   "metadata": {},
   "source": [
    "# 5. Modelling on training dataset"
   ]
  },
  {
   "cell_type": "code",
   "execution_count": 480,
   "id": "bd9a1c08",
   "metadata": {},
   "outputs": [],
   "source": [
    "df_x=train_data.drop('Sale_Price',axis=1)\n",
    "df_y=train_data['Sale_Price']"
   ]
  },
  {
   "cell_type": "code",
   "execution_count": 481,
   "id": "5c5d6e48",
   "metadata": {},
   "outputs": [
    {
     "data": {
      "text/plain": [
       "(1459, 36)"
      ]
     },
     "execution_count": 481,
     "metadata": {},
     "output_type": "execute_result"
    }
   ],
   "source": [
    "df_x.shape"
   ]
  },
  {
   "cell_type": "code",
   "execution_count": 482,
   "id": "f8a4ea61",
   "metadata": {},
   "outputs": [
    {
     "data": {
      "text/plain": [
       "(1459,)"
      ]
     },
     "execution_count": 482,
     "metadata": {},
     "output_type": "execute_result"
    }
   ],
   "source": [
    "df_y.shape"
   ]
  },
  {
   "cell_type": "markdown",
   "id": "5716c843",
   "metadata": {},
   "source": [
    "# Scalling data"
   ]
  },
  {
   "cell_type": "code",
   "execution_count": 483,
   "id": "d830fa9a",
   "metadata": {},
   "outputs": [],
   "source": [
    "df_scaled = train_data.copy()\n",
    "col_names = col_features\n",
    "features = df_scaled[col_names]"
   ]
  },
  {
   "cell_type": "markdown",
   "id": "8e28f6a7",
   "metadata": {},
   "source": [
    "# a) Standard scaler"
   ]
  },
  {
   "cell_type": "code",
   "execution_count": 485,
   "id": "3147ea1d",
   "metadata": {},
   "outputs": [],
   "source": [
    "from sklearn.preprocessing import StandardScaler\n",
    "scaler=StandardScaler()"
   ]
  },
  {
   "cell_type": "code",
   "execution_count": 596,
   "id": "039efacb",
   "metadata": {},
   "outputs": [
    {
     "data": {
      "text/html": [
       "<div>\n",
       "<style scoped>\n",
       "    .dataframe tbody tr th:only-of-type {\n",
       "        vertical-align: middle;\n",
       "    }\n",
       "\n",
       "    .dataframe tbody tr th {\n",
       "        vertical-align: top;\n",
       "    }\n",
       "\n",
       "    .dataframe thead th {\n",
       "        text-align: right;\n",
       "    }\n",
       "</style>\n",
       "<table border=\"1\" class=\"dataframe\">\n",
       "  <thead>\n",
       "    <tr style=\"text-align: right;\">\n",
       "      <th></th>\n",
       "      <th>Overall_Material</th>\n",
       "      <th>Grade_Living_Area</th>\n",
       "      <th>Garage_Size</th>\n",
       "      <th>Total_Basement_Area</th>\n",
       "      <th>First_Floor_Area</th>\n",
       "      <th>Full_Bathroom_Above_Grade</th>\n",
       "      <th>Construction_Year</th>\n",
       "      <th>Remodel_Year</th>\n",
       "      <th>Rooms_Above_Grade</th>\n",
       "      <th>Fireplaces</th>\n",
       "      <th>Brick_Veneer_Area</th>\n",
       "      <th>Lot_Size</th>\n",
       "      <th>BsmtUnfSF</th>\n",
       "      <th>Neighborhood</th>\n",
       "      <th>Lot_Extent</th>\n",
       "      <th>Foundation_Type</th>\n",
       "      <th>BsmtFinSF1</th>\n",
       "      <th>Second_Floor_Area</th>\n",
       "      <th>Garage_Condition</th>\n",
       "      <th>Garage_Quality</th>\n",
       "      <th>Roof_Design</th>\n",
       "      <th>House_Design</th>\n",
       "      <th>Half_Bathroom_Above_Grade</th>\n",
       "      <th>Garage_Built_Year</th>\n",
       "      <th>Pavedd_Drive</th>\n",
       "      <th>Bedroom_Above_Grade</th>\n",
       "      <th>Basement_Condition</th>\n",
       "      <th>BsmtFinType2</th>\n",
       "      <th>Exterior_Condition</th>\n",
       "      <th>Exterior2nd</th>\n",
       "      <th>Functional_Rate</th>\n",
       "      <th>Exterior1st</th>\n",
       "      <th>Month_Sold</th>\n",
       "      <th>W_Deck_Area</th>\n",
       "      <th>Land_Outline</th>\n",
       "      <th>Enclosed_Lobby_Area</th>\n",
       "      <th>Sale_Price</th>\n",
       "    </tr>\n",
       "  </thead>\n",
       "  <tbody>\n",
       "    <tr>\n",
       "      <th>0</th>\n",
       "      <td>0.5</td>\n",
       "      <td>0.379337</td>\n",
       "      <td>0.0</td>\n",
       "      <td>-0.268390</td>\n",
       "      <td>-0.451423</td>\n",
       "      <td>0.0</td>\n",
       "      <td>0.652174</td>\n",
       "      <td>0.243243</td>\n",
       "      <td>1.0</td>\n",
       "      <td>-1.0</td>\n",
       "      <td>1.191489</td>\n",
       "      <td>-0.253330</td>\n",
       "      <td>-0.562874</td>\n",
       "      <td>-0.7</td>\n",
       "      <td>-0.265570</td>\n",
       "      <td>1.0</td>\n",
       "      <td>0.453652</td>\n",
       "      <td>1.173077</td>\n",
       "      <td>0.0</td>\n",
       "      <td>0.0</td>\n",
       "      <td>0.0</td>\n",
       "      <td>1.0</td>\n",
       "      <td>1.0</td>\n",
       "      <td>0.604651</td>\n",
       "      <td>0.0</td>\n",
       "      <td>0.0</td>\n",
       "      <td>0.0</td>\n",
       "      <td>0.0</td>\n",
       "      <td>0.0</td>\n",
       "      <td>0.0</td>\n",
       "      <td>0.0</td>\n",
       "      <td>0.00</td>\n",
       "      <td>-1.333333</td>\n",
       "      <td>0.415892</td>\n",
       "      <td>0.0</td>\n",
       "      <td>-0.056464</td>\n",
       "      <td>0.541344</td>\n",
       "    </tr>\n",
       "    <tr>\n",
       "      <th>1</th>\n",
       "      <td>0.0</td>\n",
       "      <td>-0.311488</td>\n",
       "      <td>0.0</td>\n",
       "      <td>0.538767</td>\n",
       "      <td>0.345437</td>\n",
       "      <td>0.0</td>\n",
       "      <td>0.065217</td>\n",
       "      <td>-0.486486</td>\n",
       "      <td>0.0</td>\n",
       "      <td>0.0</td>\n",
       "      <td>0.000000</td>\n",
       "      <td>0.030340</td>\n",
       "      <td>-0.333618</td>\n",
       "      <td>1.2</td>\n",
       "      <td>0.523904</td>\n",
       "      <td>0.0</td>\n",
       "      <td>0.835674</td>\n",
       "      <td>0.000000</td>\n",
       "      <td>0.0</td>\n",
       "      <td>0.0</td>\n",
       "      <td>0.0</td>\n",
       "      <td>0.0</td>\n",
       "      <td>0.0</td>\n",
       "      <td>-0.023256</td>\n",
       "      <td>0.0</td>\n",
       "      <td>0.0</td>\n",
       "      <td>0.0</td>\n",
       "      <td>0.0</td>\n",
       "      <td>0.0</td>\n",
       "      <td>-1.0</td>\n",
       "      <td>0.0</td>\n",
       "      <td>-1.00</td>\n",
       "      <td>-0.333333</td>\n",
       "      <td>0.621610</td>\n",
       "      <td>0.0</td>\n",
       "      <td>-0.120267</td>\n",
       "      <td>0.220107</td>\n",
       "    </tr>\n",
       "    <tr>\n",
       "      <th>2</th>\n",
       "      <td>0.5</td>\n",
       "      <td>0.496530</td>\n",
       "      <td>0.0</td>\n",
       "      <td>-0.141153</td>\n",
       "      <td>-0.325810</td>\n",
       "      <td>0.0</td>\n",
       "      <td>0.608696</td>\n",
       "      <td>0.216216</td>\n",
       "      <td>0.0</td>\n",
       "      <td>0.0</td>\n",
       "      <td>0.984802</td>\n",
       "      <td>0.437346</td>\n",
       "      <td>-0.076989</td>\n",
       "      <td>-0.7</td>\n",
       "      <td>-0.107675</td>\n",
       "      <td>1.0</td>\n",
       "      <td>0.144663</td>\n",
       "      <td>1.189560</td>\n",
       "      <td>0.0</td>\n",
       "      <td>0.0</td>\n",
       "      <td>0.0</td>\n",
       "      <td>1.0</td>\n",
       "      <td>1.0</td>\n",
       "      <td>0.558140</td>\n",
       "      <td>0.0</td>\n",
       "      <td>0.0</td>\n",
       "      <td>0.0</td>\n",
       "      <td>0.0</td>\n",
       "      <td>0.0</td>\n",
       "      <td>0.0</td>\n",
       "      <td>0.0</td>\n",
       "      <td>0.00</td>\n",
       "      <td>1.000000</td>\n",
       "      <td>-0.390650</td>\n",
       "      <td>0.0</td>\n",
       "      <td>-0.858080</td>\n",
       "      <td>0.719810</td>\n",
       "    </tr>\n",
       "    <tr>\n",
       "      <th>3</th>\n",
       "      <td>0.5</td>\n",
       "      <td>0.390131</td>\n",
       "      <td>1.0</td>\n",
       "      <td>-0.467197</td>\n",
       "      <td>-0.245339</td>\n",
       "      <td>-1.0</td>\n",
       "      <td>-1.260870</td>\n",
       "      <td>-0.648649</td>\n",
       "      <td>0.5</td>\n",
       "      <td>0.0</td>\n",
       "      <td>0.000000</td>\n",
       "      <td>0.018007</td>\n",
       "      <td>0.104363</td>\n",
       "      <td>-0.6</td>\n",
       "      <td>-0.528728</td>\n",
       "      <td>-1.0</td>\n",
       "      <td>-0.234551</td>\n",
       "      <td>1.038462</td>\n",
       "      <td>0.0</td>\n",
       "      <td>0.0</td>\n",
       "      <td>0.0</td>\n",
       "      <td>1.0</td>\n",
       "      <td>0.0</td>\n",
       "      <td>0.488372</td>\n",
       "      <td>0.0</td>\n",
       "      <td>0.0</td>\n",
       "      <td>-2.0</td>\n",
       "      <td>0.0</td>\n",
       "      <td>0.0</td>\n",
       "      <td>0.4</td>\n",
       "      <td>0.0</td>\n",
       "      <td>0.25</td>\n",
       "      <td>-1.333333</td>\n",
       "      <td>-0.268664</td>\n",
       "      <td>0.0</td>\n",
       "      <td>0.432235</td>\n",
       "      <td>-0.273647</td>\n",
       "    </tr>\n",
       "    <tr>\n",
       "      <th>4</th>\n",
       "      <td>1.0</td>\n",
       "      <td>1.131843</td>\n",
       "      <td>1.0</td>\n",
       "      <td>0.306163</td>\n",
       "      <td>0.115800</td>\n",
       "      <td>0.0</td>\n",
       "      <td>0.586957</td>\n",
       "      <td>0.162162</td>\n",
       "      <td>1.5</td>\n",
       "      <td>0.0</td>\n",
       "      <td>2.127660</td>\n",
       "      <td>1.179822</td>\n",
       "      <td>0.018820</td>\n",
       "      <td>0.3</td>\n",
       "      <td>0.734430</td>\n",
       "      <td>1.0</td>\n",
       "      <td>0.382022</td>\n",
       "      <td>1.446429</td>\n",
       "      <td>0.0</td>\n",
       "      <td>0.0</td>\n",
       "      <td>0.0</td>\n",
       "      <td>1.0</td>\n",
       "      <td>1.0</td>\n",
       "      <td>0.534884</td>\n",
       "      <td>0.0</td>\n",
       "      <td>1.0</td>\n",
       "      <td>0.0</td>\n",
       "      <td>0.0</td>\n",
       "      <td>0.0</td>\n",
       "      <td>0.0</td>\n",
       "      <td>0.0</td>\n",
       "      <td>0.00</td>\n",
       "      <td>2.000000</td>\n",
       "      <td>-0.605986</td>\n",
       "      <td>0.0</td>\n",
       "      <td>-0.038993</td>\n",
       "      <td>1.035098</td>\n",
       "    </tr>\n",
       "  </tbody>\n",
       "</table>\n",
       "</div>"
      ],
      "text/plain": [
       "   Overall_Material  Grade_Living_Area  Garage_Size  Total_Basement_Area  \\\n",
       "0               0.5           0.379337          0.0            -0.268390   \n",
       "1               0.0          -0.311488          0.0             0.538767   \n",
       "2               0.5           0.496530          0.0            -0.141153   \n",
       "3               0.5           0.390131          1.0            -0.467197   \n",
       "4               1.0           1.131843          1.0             0.306163   \n",
       "\n",
       "   First_Floor_Area  Full_Bathroom_Above_Grade  Construction_Year  \\\n",
       "0         -0.451423                        0.0           0.652174   \n",
       "1          0.345437                        0.0           0.065217   \n",
       "2         -0.325810                        0.0           0.608696   \n",
       "3         -0.245339                       -1.0          -1.260870   \n",
       "4          0.115800                        0.0           0.586957   \n",
       "\n",
       "   Remodel_Year  Rooms_Above_Grade  Fireplaces  Brick_Veneer_Area  Lot_Size  \\\n",
       "0      0.243243                1.0        -1.0           1.191489 -0.253330   \n",
       "1     -0.486486                0.0         0.0           0.000000  0.030340   \n",
       "2      0.216216                0.0         0.0           0.984802  0.437346   \n",
       "3     -0.648649                0.5         0.0           0.000000  0.018007   \n",
       "4      0.162162                1.5         0.0           2.127660  1.179822   \n",
       "\n",
       "   BsmtUnfSF  Neighborhood  Lot_Extent  Foundation_Type  BsmtFinSF1  \\\n",
       "0  -0.562874          -0.7   -0.265570              1.0    0.453652   \n",
       "1  -0.333618           1.2    0.523904              0.0    0.835674   \n",
       "2  -0.076989          -0.7   -0.107675              1.0    0.144663   \n",
       "3   0.104363          -0.6   -0.528728             -1.0   -0.234551   \n",
       "4   0.018820           0.3    0.734430              1.0    0.382022   \n",
       "\n",
       "   Second_Floor_Area  Garage_Condition  Garage_Quality  Roof_Design  \\\n",
       "0           1.173077               0.0             0.0          0.0   \n",
       "1           0.000000               0.0             0.0          0.0   \n",
       "2           1.189560               0.0             0.0          0.0   \n",
       "3           1.038462               0.0             0.0          0.0   \n",
       "4           1.446429               0.0             0.0          0.0   \n",
       "\n",
       "   House_Design  Half_Bathroom_Above_Grade  Garage_Built_Year  Pavedd_Drive  \\\n",
       "0           1.0                        1.0           0.604651           0.0   \n",
       "1           0.0                        0.0          -0.023256           0.0   \n",
       "2           1.0                        1.0           0.558140           0.0   \n",
       "3           1.0                        0.0           0.488372           0.0   \n",
       "4           1.0                        1.0           0.534884           0.0   \n",
       "\n",
       "   Bedroom_Above_Grade  Basement_Condition  BsmtFinType2  Exterior_Condition  \\\n",
       "0                  0.0                 0.0           0.0                 0.0   \n",
       "1                  0.0                 0.0           0.0                 0.0   \n",
       "2                  0.0                 0.0           0.0                 0.0   \n",
       "3                  0.0                -2.0           0.0                 0.0   \n",
       "4                  1.0                 0.0           0.0                 0.0   \n",
       "\n",
       "   Exterior2nd  Functional_Rate  Exterior1st  Month_Sold  W_Deck_Area  \\\n",
       "0          0.0              0.0         0.00   -1.333333     0.415892   \n",
       "1         -1.0              0.0        -1.00   -0.333333     0.621610   \n",
       "2          0.0              0.0         0.00    1.000000    -0.390650   \n",
       "3          0.4              0.0         0.25   -1.333333    -0.268664   \n",
       "4          0.0              0.0         0.00    2.000000    -0.605986   \n",
       "\n",
       "   Land_Outline  Enclosed_Lobby_Area  Sale_Price  \n",
       "0           0.0            -0.056464    0.541344  \n",
       "1           0.0            -0.120267    0.220107  \n",
       "2           0.0            -0.858080    0.719810  \n",
       "3           0.0             0.432235   -0.273647  \n",
       "4           0.0            -0.038993    1.035098  "
      ]
     },
     "execution_count": 596,
     "metadata": {},
     "output_type": "execute_result"
    }
   ],
   "source": [
    "df_scaled[col_names] = scaler.fit_transform(features.values)\n",
    "df_scaled.head()"
   ]
  },
  {
   "cell_type": "code",
   "execution_count": 487,
   "id": "fa5ebca5",
   "metadata": {},
   "outputs": [
    {
     "data": {
      "text/html": [
       "<div>\n",
       "<style scoped>\n",
       "    .dataframe tbody tr th:only-of-type {\n",
       "        vertical-align: middle;\n",
       "    }\n",
       "\n",
       "    .dataframe tbody tr th {\n",
       "        vertical-align: top;\n",
       "    }\n",
       "\n",
       "    .dataframe thead th {\n",
       "        text-align: right;\n",
       "    }\n",
       "</style>\n",
       "<table border=\"1\" class=\"dataframe\">\n",
       "  <thead>\n",
       "    <tr style=\"text-align: right;\">\n",
       "      <th></th>\n",
       "      <th>Overall_Material</th>\n",
       "      <th>Grade_Living_Area</th>\n",
       "      <th>Garage_Size</th>\n",
       "      <th>Total_Basement_Area</th>\n",
       "      <th>First_Floor_Area</th>\n",
       "      <th>Full_Bathroom_Above_Grade</th>\n",
       "      <th>Construction_Year</th>\n",
       "      <th>Remodel_Year</th>\n",
       "      <th>Rooms_Above_Grade</th>\n",
       "      <th>Fireplaces</th>\n",
       "      <th>Brick_Veneer_Area</th>\n",
       "      <th>Lot_Size</th>\n",
       "      <th>BsmtUnfSF</th>\n",
       "      <th>Neighborhood</th>\n",
       "      <th>Lot_Extent</th>\n",
       "      <th>Foundation_Type</th>\n",
       "      <th>BsmtFinSF1</th>\n",
       "      <th>Second_Floor_Area</th>\n",
       "      <th>Garage_Condition</th>\n",
       "      <th>Garage_Quality</th>\n",
       "      <th>Roof_Design</th>\n",
       "      <th>House_Design</th>\n",
       "      <th>Half_Bathroom_Above_Grade</th>\n",
       "      <th>Garage_Built_Year</th>\n",
       "      <th>Pavedd_Drive</th>\n",
       "      <th>Bedroom_Above_Grade</th>\n",
       "      <th>Basement_Condition</th>\n",
       "      <th>BsmtFinType2</th>\n",
       "      <th>Exterior_Condition</th>\n",
       "      <th>Exterior2nd</th>\n",
       "      <th>Functional_Rate</th>\n",
       "      <th>Exterior1st</th>\n",
       "      <th>Month_Sold</th>\n",
       "      <th>W_Deck_Area</th>\n",
       "      <th>Land_Outline</th>\n",
       "      <th>Enclosed_Lobby_Area</th>\n",
       "      <th>Sale_Price</th>\n",
       "    </tr>\n",
       "  </thead>\n",
       "  <tbody>\n",
       "    <tr>\n",
       "      <th>count</th>\n",
       "      <td>1.459000e+03</td>\n",
       "      <td>1.459000e+03</td>\n",
       "      <td>1.459000e+03</td>\n",
       "      <td>1.459000e+03</td>\n",
       "      <td>1.459000e+03</td>\n",
       "      <td>1.459000e+03</td>\n",
       "      <td>1.459000e+03</td>\n",
       "      <td>1.459000e+03</td>\n",
       "      <td>1.459000e+03</td>\n",
       "      <td>1.459000e+03</td>\n",
       "      <td>1.459000e+03</td>\n",
       "      <td>1.459000e+03</td>\n",
       "      <td>1.459000e+03</td>\n",
       "      <td>1.459000e+03</td>\n",
       "      <td>1.459000e+03</td>\n",
       "      <td>1.459000e+03</td>\n",
       "      <td>1.459000e+03</td>\n",
       "      <td>1.459000e+03</td>\n",
       "      <td>1.459000e+03</td>\n",
       "      <td>1.459000e+03</td>\n",
       "      <td>1.459000e+03</td>\n",
       "      <td>1.459000e+03</td>\n",
       "      <td>1.459000e+03</td>\n",
       "      <td>1.459000e+03</td>\n",
       "      <td>1.459000e+03</td>\n",
       "      <td>1.459000e+03</td>\n",
       "      <td>1.459000e+03</td>\n",
       "      <td>1.459000e+03</td>\n",
       "      <td>1.459000e+03</td>\n",
       "      <td>1.459000e+03</td>\n",
       "      <td>1.459000e+03</td>\n",
       "      <td>1.459000e+03</td>\n",
       "      <td>1.459000e+03</td>\n",
       "      <td>1.459000e+03</td>\n",
       "      <td>1.459000e+03</td>\n",
       "      <td>1.459000e+03</td>\n",
       "      <td>1.459000e+03</td>\n",
       "    </tr>\n",
       "    <tr>\n",
       "      <th>mean</th>\n",
       "      <td>1.597991e-16</td>\n",
       "      <td>4.109119e-17</td>\n",
       "      <td>-9.587944e-17</td>\n",
       "      <td>-1.024283e-16</td>\n",
       "      <td>-4.580907e-17</td>\n",
       "      <td>1.362097e-16</td>\n",
       "      <td>-2.107217e-15</td>\n",
       "      <td>-5.137464e-15</td>\n",
       "      <td>1.009017e-16</td>\n",
       "      <td>3.865615e-17</td>\n",
       "      <td>2.792679e-16</td>\n",
       "      <td>2.190531e-16</td>\n",
       "      <td>4.109119e-17</td>\n",
       "      <td>-5.725182e-17</td>\n",
       "      <td>1.430582e-16</td>\n",
       "      <td>8.157362e-17</td>\n",
       "      <td>-8.826996e-17</td>\n",
       "      <td>1.293611e-17</td>\n",
       "      <td>5.813642e-17</td>\n",
       "      <td>-5.354791e-16</td>\n",
       "      <td>-2.619183e-16</td>\n",
       "      <td>-4.778753e-17</td>\n",
       "      <td>2.544610e-16</td>\n",
       "      <td>-1.626336e-16</td>\n",
       "      <td>3.677661e-16</td>\n",
       "      <td>1.674085e-17</td>\n",
       "      <td>3.641136e-17</td>\n",
       "      <td>-4.392952e-16</td>\n",
       "      <td>-5.381424e-16</td>\n",
       "      <td>2.976828e-16</td>\n",
       "      <td>-3.819959e-16</td>\n",
       "      <td>1.973899e-16</td>\n",
       "      <td>4.885286e-17</td>\n",
       "      <td>1.378838e-16</td>\n",
       "      <td>-2.981394e-16</td>\n",
       "      <td>3.714377e-17</td>\n",
       "      <td>-6.391963e-18</td>\n",
       "    </tr>\n",
       "    <tr>\n",
       "      <th>std</th>\n",
       "      <td>1.000343e+00</td>\n",
       "      <td>1.000343e+00</td>\n",
       "      <td>1.000343e+00</td>\n",
       "      <td>1.000343e+00</td>\n",
       "      <td>1.000343e+00</td>\n",
       "      <td>1.000343e+00</td>\n",
       "      <td>1.000343e+00</td>\n",
       "      <td>1.000343e+00</td>\n",
       "      <td>1.000343e+00</td>\n",
       "      <td>1.000343e+00</td>\n",
       "      <td>1.000343e+00</td>\n",
       "      <td>1.000343e+00</td>\n",
       "      <td>1.000343e+00</td>\n",
       "      <td>1.000343e+00</td>\n",
       "      <td>1.000343e+00</td>\n",
       "      <td>1.000343e+00</td>\n",
       "      <td>1.000343e+00</td>\n",
       "      <td>1.000343e+00</td>\n",
       "      <td>1.000343e+00</td>\n",
       "      <td>1.000343e+00</td>\n",
       "      <td>1.000343e+00</td>\n",
       "      <td>1.000343e+00</td>\n",
       "      <td>1.000343e+00</td>\n",
       "      <td>1.000343e+00</td>\n",
       "      <td>1.000343e+00</td>\n",
       "      <td>1.000343e+00</td>\n",
       "      <td>1.000343e+00</td>\n",
       "      <td>1.000343e+00</td>\n",
       "      <td>1.000343e+00</td>\n",
       "      <td>1.000343e+00</td>\n",
       "      <td>1.000343e+00</td>\n",
       "      <td>1.000343e+00</td>\n",
       "      <td>1.000343e+00</td>\n",
       "      <td>1.000343e+00</td>\n",
       "      <td>1.000343e+00</td>\n",
       "      <td>1.000343e+00</td>\n",
       "      <td>1.000343e+00</td>\n",
       "    </tr>\n",
       "    <tr>\n",
       "      <th>min</th>\n",
       "      <td>-3.688494e+00</td>\n",
       "      <td>-2.248876e+00</td>\n",
       "      <td>-2.366188e+00</td>\n",
       "      <td>-2.410200e+00</td>\n",
       "      <td>-2.143315e+00</td>\n",
       "      <td>-2.842578e+00</td>\n",
       "      <td>-3.286888e+00</td>\n",
       "      <td>-1.689986e+00</td>\n",
       "      <td>-2.779832e+00</td>\n",
       "      <td>-9.518476e-01</td>\n",
       "      <td>-6.725449e-01</td>\n",
       "      <td>-2.275001e+00</td>\n",
       "      <td>-1.284824e+00</td>\n",
       "      <td>-2.038363e+00</td>\n",
       "      <td>-2.191598e+00</td>\n",
       "      <td>-1.860828e+00</td>\n",
       "      <td>-9.723436e-01</td>\n",
       "      <td>-7.956081e-01</td>\n",
       "      <td>-3.757707e+00</td>\n",
       "      <td>-3.640349e+00</td>\n",
       "      <td>-1.689432e+00</td>\n",
       "      <td>-1.590210e+00</td>\n",
       "      <td>-7.609118e-01</td>\n",
       "      <td>-4.118831e+00</td>\n",
       "      <td>-3.737715e+00</td>\n",
       "      <td>-3.513668e+00</td>\n",
       "      <td>-4.201624e+00</td>\n",
       "      <td>-4.291663e+00</td>\n",
       "      <td>-5.101820e+00</td>\n",
       "      <td>-2.922702e+00</td>\n",
       "      <td>-4.947191e+00</td>\n",
       "      <td>-3.012011e+00</td>\n",
       "      <td>-1.968528e+00</td>\n",
       "      <td>-3.455825e+00</td>\n",
       "      <td>-3.924647e+00</td>\n",
       "      <td>-3.087885e+00</td>\n",
       "      <td>-2.119684e+00</td>\n",
       "    </tr>\n",
       "    <tr>\n",
       "      <th>25%</th>\n",
       "      <td>-7.955963e-01</td>\n",
       "      <td>-7.358483e-01</td>\n",
       "      <td>-1.027581e+00</td>\n",
       "      <td>-5.967827e-01</td>\n",
       "      <td>-7.257559e-01</td>\n",
       "      <td>-1.026763e+00</td>\n",
       "      <td>-5.718774e-01</td>\n",
       "      <td>-8.662968e-01</td>\n",
       "      <td>-9.340607e-01</td>\n",
       "      <td>-9.518476e-01</td>\n",
       "      <td>-6.725449e-01</td>\n",
       "      <td>-5.836981e-01</td>\n",
       "      <td>-7.788508e-01</td>\n",
       "      <td>-8.740565e-01</td>\n",
       "      <td>-5.379785e-01</td>\n",
       "      <td>-5.403279e-01</td>\n",
       "      <td>-9.723436e-01</td>\n",
       "      <td>-7.956081e-01</td>\n",
       "      <td>3.021971e-01</td>\n",
       "      <td>3.215107e-01</td>\n",
       "      <td>-4.917249e-01</td>\n",
       "      <td>-5.436983e-01</td>\n",
       "      <td>-7.609118e-01</td>\n",
       "      <td>1.968882e-01</td>\n",
       "      <td>2.898524e-01</td>\n",
       "      <td>-1.061998e+00</td>\n",
       "      <td>3.216517e-01</td>\n",
       "      <td>3.390800e-01</td>\n",
       "      <td>3.643488e-01</td>\n",
       "      <td>-6.620144e-01</td>\n",
       "      <td>2.605663e-01</td>\n",
       "      <td>-5.090784e-01</td>\n",
       "      <td>-4.890265e-01</td>\n",
       "      <td>-6.681926e-01</td>\n",
       "      <td>3.147854e-01</td>\n",
       "      <td>-6.748061e-01</td>\n",
       "      <td>-7.053564e-01</td>\n",
       "    </tr>\n",
       "    <tr>\n",
       "      <th>50%</th>\n",
       "      <td>-7.237200e-02</td>\n",
       "      <td>-9.828312e-02</td>\n",
       "      <td>3.110267e-01</td>\n",
       "      <td>-1.511220e-01</td>\n",
       "      <td>-1.980514e-01</td>\n",
       "      <td>7.890517e-01</td>\n",
       "      <td>5.721044e-02</td>\n",
       "      <td>4.419156e-01</td>\n",
       "      <td>-3.188036e-01</td>\n",
       "      <td>5.998235e-01</td>\n",
       "      <td>-6.725449e-01</td>\n",
       "      <td>-4.746532e-02</td>\n",
       "      <td>-2.004334e-01</td>\n",
       "      <td>-4.240890e-02</td>\n",
       "      <td>4.489825e-02</td>\n",
       "      <td>-5.403279e-01</td>\n",
       "      <td>-1.324052e-01</td>\n",
       "      <td>-7.956081e-01</td>\n",
       "      <td>3.021971e-01</td>\n",
       "      <td>3.215107e-01</td>\n",
       "      <td>-4.917249e-01</td>\n",
       "      <td>-5.436983e-01</td>\n",
       "      <td>-7.609118e-01</td>\n",
       "      <td>2.387670e-01</td>\n",
       "      <td>2.898524e-01</td>\n",
       "      <td>1.638367e-01</td>\n",
       "      <td>3.216517e-01</td>\n",
       "      <td>3.390800e-01</td>\n",
       "      <td>3.643488e-01</td>\n",
       "      <td>7.509157e-01</td>\n",
       "      <td>2.605663e-01</td>\n",
       "      <td>7.423881e-01</td>\n",
       "      <td>-1.191511e-01</td>\n",
       "      <td>-1.699664e-03</td>\n",
       "      <td>3.147854e-01</td>\n",
       "      <td>7.283669e-03</td>\n",
       "      <td>-2.135782e-01</td>\n",
       "    </tr>\n",
       "    <tr>\n",
       "      <th>75%</th>\n",
       "      <td>6.508523e-01</td>\n",
       "      <td>4.983637e-01</td>\n",
       "      <td>3.110267e-01</td>\n",
       "      <td>5.498534e-01</td>\n",
       "      <td>5.922119e-01</td>\n",
       "      <td>7.890517e-01</td>\n",
       "      <td>9.511774e-01</td>\n",
       "      <td>9.264387e-01</td>\n",
       "      <td>2.964536e-01</td>\n",
       "      <td>5.998235e-01</td>\n",
       "      <td>5.556462e-01</td>\n",
       "      <td>5.438370e-01</td>\n",
       "      <td>5.443779e-01</td>\n",
       "      <td>7.892387e-01</td>\n",
       "      <td>5.644346e-01</td>\n",
       "      <td>7.801720e-01</td>\n",
       "      <td>5.891084e-01</td>\n",
       "      <td>8.724569e-01</td>\n",
       "      <td>3.021971e-01</td>\n",
       "      <td>3.215107e-01</td>\n",
       "      <td>-4.917249e-01</td>\n",
       "      <td>1.026069e+00</td>\n",
       "      <td>1.228641e+00</td>\n",
       "      <td>2.916665e-01</td>\n",
       "      <td>2.898524e-01</td>\n",
       "      <td>1.638367e-01</td>\n",
       "      <td>3.216517e-01</td>\n",
       "      <td>3.390800e-01</td>\n",
       "      <td>3.643488e-01</td>\n",
       "      <td>7.509157e-01</td>\n",
       "      <td>2.605663e-01</td>\n",
       "      <td>7.423881e-01</td>\n",
       "      <td>6.205997e-01</td>\n",
       "      <td>6.999406e-01</td>\n",
       "      <td>3.147854e-01</td>\n",
       "      <td>6.792056e-01</td>\n",
       "      <td>5.452929e-01</td>\n",
       "    </tr>\n",
       "    <tr>\n",
       "      <th>max</th>\n",
       "      <td>2.820525e+00</td>\n",
       "      <td>7.853202e+00</td>\n",
       "      <td>2.988242e+00</td>\n",
       "      <td>1.151812e+01</td>\n",
       "      <td>9.129901e+00</td>\n",
       "      <td>2.604866e+00</td>\n",
       "      <td>1.282276e+00</td>\n",
       "      <td>1.217153e+00</td>\n",
       "      <td>4.603253e+00</td>\n",
       "      <td>3.703166e+00</td>\n",
       "      <td>2.397933e+00</td>\n",
       "      <td>2.235140e+00</td>\n",
       "      <td>4.003562e+00</td>\n",
       "      <td>1.953545e+00</td>\n",
       "      <td>2.218054e+00</td>\n",
       "      <td>4.741672e+00</td>\n",
       "      <td>1.140523e+01</td>\n",
       "      <td>3.935922e+00</td>\n",
       "      <td>3.021971e-01</td>\n",
       "      <td>3.215107e-01</td>\n",
       "      <td>4.299104e+00</td>\n",
       "      <td>2.072581e+00</td>\n",
       "      <td>3.218193e+00</td>\n",
       "      <td>3.115038e-01</td>\n",
       "      <td>2.898524e-01</td>\n",
       "      <td>6.293011e+00</td>\n",
       "      <td>3.216517e-01</td>\n",
       "      <td>3.390800e-01</td>\n",
       "      <td>3.643488e-01</td>\n",
       "      <td>1.316088e+00</td>\n",
       "      <td>2.605663e-01</td>\n",
       "      <td>1.368121e+00</td>\n",
       "      <td>2.100101e+00</td>\n",
       "      <td>3.841828e+00</td>\n",
       "      <td>3.147854e-01</td>\n",
       "      <td>3.280195e+00</td>\n",
       "      <td>2.421267e+00</td>\n",
       "    </tr>\n",
       "  </tbody>\n",
       "</table>\n",
       "</div>"
      ],
      "text/plain": [
       "       Overall_Material  Grade_Living_Area   Garage_Size  Total_Basement_Area  \\\n",
       "count      1.459000e+03       1.459000e+03  1.459000e+03         1.459000e+03   \n",
       "mean       1.597991e-16       4.109119e-17 -9.587944e-17        -1.024283e-16   \n",
       "std        1.000343e+00       1.000343e+00  1.000343e+00         1.000343e+00   \n",
       "min       -3.688494e+00      -2.248876e+00 -2.366188e+00        -2.410200e+00   \n",
       "25%       -7.955963e-01      -7.358483e-01 -1.027581e+00        -5.967827e-01   \n",
       "50%       -7.237200e-02      -9.828312e-02  3.110267e-01        -1.511220e-01   \n",
       "75%        6.508523e-01       4.983637e-01  3.110267e-01         5.498534e-01   \n",
       "max        2.820525e+00       7.853202e+00  2.988242e+00         1.151812e+01   \n",
       "\n",
       "       First_Floor_Area  Full_Bathroom_Above_Grade  Construction_Year  \\\n",
       "count      1.459000e+03               1.459000e+03       1.459000e+03   \n",
       "mean      -4.580907e-17               1.362097e-16      -2.107217e-15   \n",
       "std        1.000343e+00               1.000343e+00       1.000343e+00   \n",
       "min       -2.143315e+00              -2.842578e+00      -3.286888e+00   \n",
       "25%       -7.257559e-01              -1.026763e+00      -5.718774e-01   \n",
       "50%       -1.980514e-01               7.890517e-01       5.721044e-02   \n",
       "75%        5.922119e-01               7.890517e-01       9.511774e-01   \n",
       "max        9.129901e+00               2.604866e+00       1.282276e+00   \n",
       "\n",
       "       Remodel_Year  Rooms_Above_Grade    Fireplaces  Brick_Veneer_Area  \\\n",
       "count  1.459000e+03       1.459000e+03  1.459000e+03       1.459000e+03   \n",
       "mean  -5.137464e-15       1.009017e-16  3.865615e-17       2.792679e-16   \n",
       "std    1.000343e+00       1.000343e+00  1.000343e+00       1.000343e+00   \n",
       "min   -1.689986e+00      -2.779832e+00 -9.518476e-01      -6.725449e-01   \n",
       "25%   -8.662968e-01      -9.340607e-01 -9.518476e-01      -6.725449e-01   \n",
       "50%    4.419156e-01      -3.188036e-01  5.998235e-01      -6.725449e-01   \n",
       "75%    9.264387e-01       2.964536e-01  5.998235e-01       5.556462e-01   \n",
       "max    1.217153e+00       4.603253e+00  3.703166e+00       2.397933e+00   \n",
       "\n",
       "           Lot_Size     BsmtUnfSF  Neighborhood    Lot_Extent  \\\n",
       "count  1.459000e+03  1.459000e+03  1.459000e+03  1.459000e+03   \n",
       "mean   2.190531e-16  4.109119e-17 -5.725182e-17  1.430582e-16   \n",
       "std    1.000343e+00  1.000343e+00  1.000343e+00  1.000343e+00   \n",
       "min   -2.275001e+00 -1.284824e+00 -2.038363e+00 -2.191598e+00   \n",
       "25%   -5.836981e-01 -7.788508e-01 -8.740565e-01 -5.379785e-01   \n",
       "50%   -4.746532e-02 -2.004334e-01 -4.240890e-02  4.489825e-02   \n",
       "75%    5.438370e-01  5.443779e-01  7.892387e-01  5.644346e-01   \n",
       "max    2.235140e+00  4.003562e+00  1.953545e+00  2.218054e+00   \n",
       "\n",
       "       Foundation_Type    BsmtFinSF1  Second_Floor_Area  Garage_Condition  \\\n",
       "count     1.459000e+03  1.459000e+03       1.459000e+03      1.459000e+03   \n",
       "mean      8.157362e-17 -8.826996e-17       1.293611e-17      5.813642e-17   \n",
       "std       1.000343e+00  1.000343e+00       1.000343e+00      1.000343e+00   \n",
       "min      -1.860828e+00 -9.723436e-01      -7.956081e-01     -3.757707e+00   \n",
       "25%      -5.403279e-01 -9.723436e-01      -7.956081e-01      3.021971e-01   \n",
       "50%      -5.403279e-01 -1.324052e-01      -7.956081e-01      3.021971e-01   \n",
       "75%       7.801720e-01  5.891084e-01       8.724569e-01      3.021971e-01   \n",
       "max       4.741672e+00  1.140523e+01       3.935922e+00      3.021971e-01   \n",
       "\n",
       "       Garage_Quality   Roof_Design  House_Design  Half_Bathroom_Above_Grade  \\\n",
       "count    1.459000e+03  1.459000e+03  1.459000e+03               1.459000e+03   \n",
       "mean    -5.354791e-16 -2.619183e-16 -4.778753e-17               2.544610e-16   \n",
       "std      1.000343e+00  1.000343e+00  1.000343e+00               1.000343e+00   \n",
       "min     -3.640349e+00 -1.689432e+00 -1.590210e+00              -7.609118e-01   \n",
       "25%      3.215107e-01 -4.917249e-01 -5.436983e-01              -7.609118e-01   \n",
       "50%      3.215107e-01 -4.917249e-01 -5.436983e-01              -7.609118e-01   \n",
       "75%      3.215107e-01 -4.917249e-01  1.026069e+00               1.228641e+00   \n",
       "max      3.215107e-01  4.299104e+00  2.072581e+00               3.218193e+00   \n",
       "\n",
       "       Garage_Built_Year  Pavedd_Drive  Bedroom_Above_Grade  \\\n",
       "count       1.459000e+03  1.459000e+03         1.459000e+03   \n",
       "mean       -1.626336e-16  3.677661e-16         1.674085e-17   \n",
       "std         1.000343e+00  1.000343e+00         1.000343e+00   \n",
       "min        -4.118831e+00 -3.737715e+00        -3.513668e+00   \n",
       "25%         1.968882e-01  2.898524e-01        -1.061998e+00   \n",
       "50%         2.387670e-01  2.898524e-01         1.638367e-01   \n",
       "75%         2.916665e-01  2.898524e-01         1.638367e-01   \n",
       "max         3.115038e-01  2.898524e-01         6.293011e+00   \n",
       "\n",
       "       Basement_Condition  BsmtFinType2  Exterior_Condition   Exterior2nd  \\\n",
       "count        1.459000e+03  1.459000e+03        1.459000e+03  1.459000e+03   \n",
       "mean         3.641136e-17 -4.392952e-16       -5.381424e-16  2.976828e-16   \n",
       "std          1.000343e+00  1.000343e+00        1.000343e+00  1.000343e+00   \n",
       "min         -4.201624e+00 -4.291663e+00       -5.101820e+00 -2.922702e+00   \n",
       "25%          3.216517e-01  3.390800e-01        3.643488e-01 -6.620144e-01   \n",
       "50%          3.216517e-01  3.390800e-01        3.643488e-01  7.509157e-01   \n",
       "75%          3.216517e-01  3.390800e-01        3.643488e-01  7.509157e-01   \n",
       "max          3.216517e-01  3.390800e-01        3.643488e-01  1.316088e+00   \n",
       "\n",
       "       Functional_Rate   Exterior1st    Month_Sold   W_Deck_Area  \\\n",
       "count     1.459000e+03  1.459000e+03  1.459000e+03  1.459000e+03   \n",
       "mean     -3.819959e-16  1.973899e-16  4.885286e-17  1.378838e-16   \n",
       "std       1.000343e+00  1.000343e+00  1.000343e+00  1.000343e+00   \n",
       "min      -4.947191e+00 -3.012011e+00 -1.968528e+00 -3.455825e+00   \n",
       "25%       2.605663e-01 -5.090784e-01 -4.890265e-01 -6.681926e-01   \n",
       "50%       2.605663e-01  7.423881e-01 -1.191511e-01 -1.699664e-03   \n",
       "75%       2.605663e-01  7.423881e-01  6.205997e-01  6.999406e-01   \n",
       "max       2.605663e-01  1.368121e+00  2.100101e+00  3.841828e+00   \n",
       "\n",
       "       Land_Outline  Enclosed_Lobby_Area    Sale_Price  \n",
       "count  1.459000e+03         1.459000e+03  1.459000e+03  \n",
       "mean  -2.981394e-16         3.714377e-17 -6.391963e-18  \n",
       "std    1.000343e+00         1.000343e+00  1.000343e+00  \n",
       "min   -3.924647e+00        -3.087885e+00 -2.119684e+00  \n",
       "25%    3.147854e-01        -6.748061e-01 -7.053564e-01  \n",
       "50%    3.147854e-01         7.283669e-03 -2.135782e-01  \n",
       "75%    3.147854e-01         6.792056e-01  5.452929e-01  \n",
       "max    3.147854e-01         3.280195e+00  2.421267e+00  "
      ]
     },
     "execution_count": 487,
     "metadata": {},
     "output_type": "execute_result"
    }
   ],
   "source": [
    "df_scaled.describe()"
   ]
  },
  {
   "cell_type": "markdown",
   "id": "a3a6cfdd",
   "metadata": {},
   "source": [
    "# b) Robust Scaler"
   ]
  },
  {
   "cell_type": "code",
   "execution_count": 488,
   "id": "f20bde7b",
   "metadata": {},
   "outputs": [],
   "source": [
    "from sklearn.preprocessing import RobustScaler\n",
    "scaler = RobustScaler()"
   ]
  },
  {
   "cell_type": "code",
   "execution_count": 597,
   "id": "dde57bda",
   "metadata": {},
   "outputs": [
    {
     "data": {
      "text/html": [
       "<div>\n",
       "<style scoped>\n",
       "    .dataframe tbody tr th:only-of-type {\n",
       "        vertical-align: middle;\n",
       "    }\n",
       "\n",
       "    .dataframe tbody tr th {\n",
       "        vertical-align: top;\n",
       "    }\n",
       "\n",
       "    .dataframe thead th {\n",
       "        text-align: right;\n",
       "    }\n",
       "</style>\n",
       "<table border=\"1\" class=\"dataframe\">\n",
       "  <thead>\n",
       "    <tr style=\"text-align: right;\">\n",
       "      <th></th>\n",
       "      <th>Overall_Material</th>\n",
       "      <th>Grade_Living_Area</th>\n",
       "      <th>Garage_Size</th>\n",
       "      <th>Total_Basement_Area</th>\n",
       "      <th>First_Floor_Area</th>\n",
       "      <th>Full_Bathroom_Above_Grade</th>\n",
       "      <th>Construction_Year</th>\n",
       "      <th>Remodel_Year</th>\n",
       "      <th>Rooms_Above_Grade</th>\n",
       "      <th>Fireplaces</th>\n",
       "      <th>Brick_Veneer_Area</th>\n",
       "      <th>Lot_Size</th>\n",
       "      <th>BsmtUnfSF</th>\n",
       "      <th>Neighborhood</th>\n",
       "      <th>Lot_Extent</th>\n",
       "      <th>Foundation_Type</th>\n",
       "      <th>BsmtFinSF1</th>\n",
       "      <th>Second_Floor_Area</th>\n",
       "      <th>Garage_Condition</th>\n",
       "      <th>Garage_Quality</th>\n",
       "      <th>Roof_Design</th>\n",
       "      <th>House_Design</th>\n",
       "      <th>Half_Bathroom_Above_Grade</th>\n",
       "      <th>Garage_Built_Year</th>\n",
       "      <th>Pavedd_Drive</th>\n",
       "      <th>Bedroom_Above_Grade</th>\n",
       "      <th>Basement_Condition</th>\n",
       "      <th>BsmtFinType2</th>\n",
       "      <th>Exterior_Condition</th>\n",
       "      <th>Exterior2nd</th>\n",
       "      <th>Functional_Rate</th>\n",
       "      <th>Exterior1st</th>\n",
       "      <th>Month_Sold</th>\n",
       "      <th>W_Deck_Area</th>\n",
       "      <th>Land_Outline</th>\n",
       "      <th>Enclosed_Lobby_Area</th>\n",
       "      <th>Sale_Price</th>\n",
       "    </tr>\n",
       "  </thead>\n",
       "  <tbody>\n",
       "    <tr>\n",
       "      <th>0</th>\n",
       "      <td>0.5</td>\n",
       "      <td>0.379337</td>\n",
       "      <td>0.0</td>\n",
       "      <td>-0.268390</td>\n",
       "      <td>-0.451423</td>\n",
       "      <td>0.0</td>\n",
       "      <td>0.652174</td>\n",
       "      <td>0.243243</td>\n",
       "      <td>1.0</td>\n",
       "      <td>-1.0</td>\n",
       "      <td>1.191489</td>\n",
       "      <td>-0.253330</td>\n",
       "      <td>-0.562874</td>\n",
       "      <td>-0.7</td>\n",
       "      <td>-0.265570</td>\n",
       "      <td>1.0</td>\n",
       "      <td>0.453652</td>\n",
       "      <td>1.173077</td>\n",
       "      <td>0.0</td>\n",
       "      <td>0.0</td>\n",
       "      <td>0.0</td>\n",
       "      <td>1.0</td>\n",
       "      <td>1.0</td>\n",
       "      <td>0.604651</td>\n",
       "      <td>0.0</td>\n",
       "      <td>0.0</td>\n",
       "      <td>0.0</td>\n",
       "      <td>0.0</td>\n",
       "      <td>0.0</td>\n",
       "      <td>0.0</td>\n",
       "      <td>0.0</td>\n",
       "      <td>0.00</td>\n",
       "      <td>-1.333333</td>\n",
       "      <td>0.415892</td>\n",
       "      <td>0.0</td>\n",
       "      <td>-0.056464</td>\n",
       "      <td>0.541344</td>\n",
       "    </tr>\n",
       "    <tr>\n",
       "      <th>1</th>\n",
       "      <td>0.0</td>\n",
       "      <td>-0.311488</td>\n",
       "      <td>0.0</td>\n",
       "      <td>0.538767</td>\n",
       "      <td>0.345437</td>\n",
       "      <td>0.0</td>\n",
       "      <td>0.065217</td>\n",
       "      <td>-0.486486</td>\n",
       "      <td>0.0</td>\n",
       "      <td>0.0</td>\n",
       "      <td>0.000000</td>\n",
       "      <td>0.030340</td>\n",
       "      <td>-0.333618</td>\n",
       "      <td>1.2</td>\n",
       "      <td>0.523904</td>\n",
       "      <td>0.0</td>\n",
       "      <td>0.835674</td>\n",
       "      <td>0.000000</td>\n",
       "      <td>0.0</td>\n",
       "      <td>0.0</td>\n",
       "      <td>0.0</td>\n",
       "      <td>0.0</td>\n",
       "      <td>0.0</td>\n",
       "      <td>-0.023256</td>\n",
       "      <td>0.0</td>\n",
       "      <td>0.0</td>\n",
       "      <td>0.0</td>\n",
       "      <td>0.0</td>\n",
       "      <td>0.0</td>\n",
       "      <td>-1.0</td>\n",
       "      <td>0.0</td>\n",
       "      <td>-1.00</td>\n",
       "      <td>-0.333333</td>\n",
       "      <td>0.621610</td>\n",
       "      <td>0.0</td>\n",
       "      <td>-0.120267</td>\n",
       "      <td>0.220107</td>\n",
       "    </tr>\n",
       "    <tr>\n",
       "      <th>2</th>\n",
       "      <td>0.5</td>\n",
       "      <td>0.496530</td>\n",
       "      <td>0.0</td>\n",
       "      <td>-0.141153</td>\n",
       "      <td>-0.325810</td>\n",
       "      <td>0.0</td>\n",
       "      <td>0.608696</td>\n",
       "      <td>0.216216</td>\n",
       "      <td>0.0</td>\n",
       "      <td>0.0</td>\n",
       "      <td>0.984802</td>\n",
       "      <td>0.437346</td>\n",
       "      <td>-0.076989</td>\n",
       "      <td>-0.7</td>\n",
       "      <td>-0.107675</td>\n",
       "      <td>1.0</td>\n",
       "      <td>0.144663</td>\n",
       "      <td>1.189560</td>\n",
       "      <td>0.0</td>\n",
       "      <td>0.0</td>\n",
       "      <td>0.0</td>\n",
       "      <td>1.0</td>\n",
       "      <td>1.0</td>\n",
       "      <td>0.558140</td>\n",
       "      <td>0.0</td>\n",
       "      <td>0.0</td>\n",
       "      <td>0.0</td>\n",
       "      <td>0.0</td>\n",
       "      <td>0.0</td>\n",
       "      <td>0.0</td>\n",
       "      <td>0.0</td>\n",
       "      <td>0.00</td>\n",
       "      <td>1.000000</td>\n",
       "      <td>-0.390650</td>\n",
       "      <td>0.0</td>\n",
       "      <td>-0.858080</td>\n",
       "      <td>0.719810</td>\n",
       "    </tr>\n",
       "    <tr>\n",
       "      <th>3</th>\n",
       "      <td>0.5</td>\n",
       "      <td>0.390131</td>\n",
       "      <td>1.0</td>\n",
       "      <td>-0.467197</td>\n",
       "      <td>-0.245339</td>\n",
       "      <td>-1.0</td>\n",
       "      <td>-1.260870</td>\n",
       "      <td>-0.648649</td>\n",
       "      <td>0.5</td>\n",
       "      <td>0.0</td>\n",
       "      <td>0.000000</td>\n",
       "      <td>0.018007</td>\n",
       "      <td>0.104363</td>\n",
       "      <td>-0.6</td>\n",
       "      <td>-0.528728</td>\n",
       "      <td>-1.0</td>\n",
       "      <td>-0.234551</td>\n",
       "      <td>1.038462</td>\n",
       "      <td>0.0</td>\n",
       "      <td>0.0</td>\n",
       "      <td>0.0</td>\n",
       "      <td>1.0</td>\n",
       "      <td>0.0</td>\n",
       "      <td>0.488372</td>\n",
       "      <td>0.0</td>\n",
       "      <td>0.0</td>\n",
       "      <td>-2.0</td>\n",
       "      <td>0.0</td>\n",
       "      <td>0.0</td>\n",
       "      <td>0.4</td>\n",
       "      <td>0.0</td>\n",
       "      <td>0.25</td>\n",
       "      <td>-1.333333</td>\n",
       "      <td>-0.268664</td>\n",
       "      <td>0.0</td>\n",
       "      <td>0.432235</td>\n",
       "      <td>-0.273647</td>\n",
       "    </tr>\n",
       "    <tr>\n",
       "      <th>4</th>\n",
       "      <td>1.0</td>\n",
       "      <td>1.131843</td>\n",
       "      <td>1.0</td>\n",
       "      <td>0.306163</td>\n",
       "      <td>0.115800</td>\n",
       "      <td>0.0</td>\n",
       "      <td>0.586957</td>\n",
       "      <td>0.162162</td>\n",
       "      <td>1.5</td>\n",
       "      <td>0.0</td>\n",
       "      <td>2.127660</td>\n",
       "      <td>1.179822</td>\n",
       "      <td>0.018820</td>\n",
       "      <td>0.3</td>\n",
       "      <td>0.734430</td>\n",
       "      <td>1.0</td>\n",
       "      <td>0.382022</td>\n",
       "      <td>1.446429</td>\n",
       "      <td>0.0</td>\n",
       "      <td>0.0</td>\n",
       "      <td>0.0</td>\n",
       "      <td>1.0</td>\n",
       "      <td>1.0</td>\n",
       "      <td>0.534884</td>\n",
       "      <td>0.0</td>\n",
       "      <td>1.0</td>\n",
       "      <td>0.0</td>\n",
       "      <td>0.0</td>\n",
       "      <td>0.0</td>\n",
       "      <td>0.0</td>\n",
       "      <td>0.0</td>\n",
       "      <td>0.00</td>\n",
       "      <td>2.000000</td>\n",
       "      <td>-0.605986</td>\n",
       "      <td>0.0</td>\n",
       "      <td>-0.038993</td>\n",
       "      <td>1.035098</td>\n",
       "    </tr>\n",
       "  </tbody>\n",
       "</table>\n",
       "</div>"
      ],
      "text/plain": [
       "   Overall_Material  Grade_Living_Area  Garage_Size  Total_Basement_Area  \\\n",
       "0               0.5           0.379337          0.0            -0.268390   \n",
       "1               0.0          -0.311488          0.0             0.538767   \n",
       "2               0.5           0.496530          0.0            -0.141153   \n",
       "3               0.5           0.390131          1.0            -0.467197   \n",
       "4               1.0           1.131843          1.0             0.306163   \n",
       "\n",
       "   First_Floor_Area  Full_Bathroom_Above_Grade  Construction_Year  \\\n",
       "0         -0.451423                        0.0           0.652174   \n",
       "1          0.345437                        0.0           0.065217   \n",
       "2         -0.325810                        0.0           0.608696   \n",
       "3         -0.245339                       -1.0          -1.260870   \n",
       "4          0.115800                        0.0           0.586957   \n",
       "\n",
       "   Remodel_Year  Rooms_Above_Grade  Fireplaces  Brick_Veneer_Area  Lot_Size  \\\n",
       "0      0.243243                1.0        -1.0           1.191489 -0.253330   \n",
       "1     -0.486486                0.0         0.0           0.000000  0.030340   \n",
       "2      0.216216                0.0         0.0           0.984802  0.437346   \n",
       "3     -0.648649                0.5         0.0           0.000000  0.018007   \n",
       "4      0.162162                1.5         0.0           2.127660  1.179822   \n",
       "\n",
       "   BsmtUnfSF  Neighborhood  Lot_Extent  Foundation_Type  BsmtFinSF1  \\\n",
       "0  -0.562874          -0.7   -0.265570              1.0    0.453652   \n",
       "1  -0.333618           1.2    0.523904              0.0    0.835674   \n",
       "2  -0.076989          -0.7   -0.107675              1.0    0.144663   \n",
       "3   0.104363          -0.6   -0.528728             -1.0   -0.234551   \n",
       "4   0.018820           0.3    0.734430              1.0    0.382022   \n",
       "\n",
       "   Second_Floor_Area  Garage_Condition  Garage_Quality  Roof_Design  \\\n",
       "0           1.173077               0.0             0.0          0.0   \n",
       "1           0.000000               0.0             0.0          0.0   \n",
       "2           1.189560               0.0             0.0          0.0   \n",
       "3           1.038462               0.0             0.0          0.0   \n",
       "4           1.446429               0.0             0.0          0.0   \n",
       "\n",
       "   House_Design  Half_Bathroom_Above_Grade  Garage_Built_Year  Pavedd_Drive  \\\n",
       "0           1.0                        1.0           0.604651           0.0   \n",
       "1           0.0                        0.0          -0.023256           0.0   \n",
       "2           1.0                        1.0           0.558140           0.0   \n",
       "3           1.0                        0.0           0.488372           0.0   \n",
       "4           1.0                        1.0           0.534884           0.0   \n",
       "\n",
       "   Bedroom_Above_Grade  Basement_Condition  BsmtFinType2  Exterior_Condition  \\\n",
       "0                  0.0                 0.0           0.0                 0.0   \n",
       "1                  0.0                 0.0           0.0                 0.0   \n",
       "2                  0.0                 0.0           0.0                 0.0   \n",
       "3                  0.0                -2.0           0.0                 0.0   \n",
       "4                  1.0                 0.0           0.0                 0.0   \n",
       "\n",
       "   Exterior2nd  Functional_Rate  Exterior1st  Month_Sold  W_Deck_Area  \\\n",
       "0          0.0              0.0         0.00   -1.333333     0.415892   \n",
       "1         -1.0              0.0        -1.00   -0.333333     0.621610   \n",
       "2          0.0              0.0         0.00    1.000000    -0.390650   \n",
       "3          0.4              0.0         0.25   -1.333333    -0.268664   \n",
       "4          0.0              0.0         0.00    2.000000    -0.605986   \n",
       "\n",
       "   Land_Outline  Enclosed_Lobby_Area  Sale_Price  \n",
       "0           0.0            -0.056464    0.541344  \n",
       "1           0.0            -0.120267    0.220107  \n",
       "2           0.0            -0.858080    0.719810  \n",
       "3           0.0             0.432235   -0.273647  \n",
       "4           0.0            -0.038993    1.035098  "
      ]
     },
     "execution_count": 597,
     "metadata": {},
     "output_type": "execute_result"
    }
   ],
   "source": [
    "df_scaled[col_names] = scaler.fit_transform(features.values)\n",
    "df_scaled.head()"
   ]
  },
  {
   "cell_type": "code",
   "execution_count": 490,
   "id": "bad6d993",
   "metadata": {},
   "outputs": [
    {
     "data": {
      "text/html": [
       "<div>\n",
       "<style scoped>\n",
       "    .dataframe tbody tr th:only-of-type {\n",
       "        vertical-align: middle;\n",
       "    }\n",
       "\n",
       "    .dataframe tbody tr th {\n",
       "        vertical-align: top;\n",
       "    }\n",
       "\n",
       "    .dataframe thead th {\n",
       "        text-align: right;\n",
       "    }\n",
       "</style>\n",
       "<table border=\"1\" class=\"dataframe\">\n",
       "  <thead>\n",
       "    <tr style=\"text-align: right;\">\n",
       "      <th></th>\n",
       "      <th>Overall_Material</th>\n",
       "      <th>Grade_Living_Area</th>\n",
       "      <th>Garage_Size</th>\n",
       "      <th>Total_Basement_Area</th>\n",
       "      <th>First_Floor_Area</th>\n",
       "      <th>Full_Bathroom_Above_Grade</th>\n",
       "      <th>Construction_Year</th>\n",
       "      <th>Remodel_Year</th>\n",
       "      <th>Rooms_Above_Grade</th>\n",
       "      <th>Fireplaces</th>\n",
       "      <th>Brick_Veneer_Area</th>\n",
       "      <th>Lot_Size</th>\n",
       "      <th>BsmtUnfSF</th>\n",
       "      <th>Neighborhood</th>\n",
       "      <th>Lot_Extent</th>\n",
       "      <th>Foundation_Type</th>\n",
       "      <th>BsmtFinSF1</th>\n",
       "      <th>Second_Floor_Area</th>\n",
       "      <th>Garage_Condition</th>\n",
       "      <th>Garage_Quality</th>\n",
       "      <th>Roof_Design</th>\n",
       "      <th>House_Design</th>\n",
       "      <th>Half_Bathroom_Above_Grade</th>\n",
       "      <th>Garage_Built_Year</th>\n",
       "      <th>Pavedd_Drive</th>\n",
       "      <th>Bedroom_Above_Grade</th>\n",
       "      <th>Basement_Condition</th>\n",
       "      <th>BsmtFinType2</th>\n",
       "      <th>Exterior_Condition</th>\n",
       "      <th>Exterior2nd</th>\n",
       "      <th>Functional_Rate</th>\n",
       "      <th>Exterior1st</th>\n",
       "      <th>Month_Sold</th>\n",
       "      <th>W_Deck_Area</th>\n",
       "      <th>Land_Outline</th>\n",
       "      <th>Enclosed_Lobby_Area</th>\n",
       "      <th>Sale_Price</th>\n",
       "    </tr>\n",
       "  </thead>\n",
       "  <tbody>\n",
       "    <tr>\n",
       "      <th>count</th>\n",
       "      <td>1459.000000</td>\n",
       "      <td>1459.000000</td>\n",
       "      <td>1459.000000</td>\n",
       "      <td>1459.000000</td>\n",
       "      <td>1459.000000</td>\n",
       "      <td>1459.000000</td>\n",
       "      <td>1459.000000</td>\n",
       "      <td>1459.000000</td>\n",
       "      <td>1459.000000</td>\n",
       "      <td>1459.000000</td>\n",
       "      <td>1459.000000</td>\n",
       "      <td>1459.000000</td>\n",
       "      <td>1459.000000</td>\n",
       "      <td>1459.000000</td>\n",
       "      <td>1459.000000</td>\n",
       "      <td>1459.000000</td>\n",
       "      <td>1459.000000</td>\n",
       "      <td>1459.000000</td>\n",
       "      <td>1459.000000</td>\n",
       "      <td>1459.000000</td>\n",
       "      <td>1459.000000</td>\n",
       "      <td>1459.000000</td>\n",
       "      <td>1459.000000</td>\n",
       "      <td>1459.000000</td>\n",
       "      <td>1459.000000</td>\n",
       "      <td>1459.000000</td>\n",
       "      <td>1459.000000</td>\n",
       "      <td>1459.000000</td>\n",
       "      <td>1459.000000</td>\n",
       "      <td>1459.000000</td>\n",
       "      <td>1459.00000</td>\n",
       "      <td>1459.000000</td>\n",
       "      <td>1459.000000</td>\n",
       "      <td>1459.000000</td>\n",
       "      <td>1459.000000</td>\n",
       "      <td>1459.000000</td>\n",
       "      <td>1459.000000</td>\n",
       "    </tr>\n",
       "    <tr>\n",
       "      <th>mean</th>\n",
       "      <td>0.050034</td>\n",
       "      <td>0.079632</td>\n",
       "      <td>-0.232351</td>\n",
       "      <td>0.131796</td>\n",
       "      <td>0.150270</td>\n",
       "      <td>-0.434544</td>\n",
       "      <td>-0.037563</td>\n",
       "      <td>-0.246504</td>\n",
       "      <td>0.259082</td>\n",
       "      <td>-0.386566</td>\n",
       "      <td>0.547590</td>\n",
       "      <td>0.042097</td>\n",
       "      <td>0.151473</td>\n",
       "      <td>0.025497</td>\n",
       "      <td>-0.040727</td>\n",
       "      <td>0.409184</td>\n",
       "      <td>0.084796</td>\n",
       "      <td>0.476965</td>\n",
       "      <td>-0.372173</td>\n",
       "      <td>-0.405757</td>\n",
       "      <td>0.410555</td>\n",
       "      <td>0.346356</td>\n",
       "      <td>0.382454</td>\n",
       "      <td>-2.519215</td>\n",
       "      <td>-0.143934</td>\n",
       "      <td>-0.133653</td>\n",
       "      <td>-0.284441</td>\n",
       "      <td>-0.439342</td>\n",
       "      <td>-0.266621</td>\n",
       "      <td>-0.531460</td>\n",
       "      <td>-0.35024</td>\n",
       "      <td>-0.593215</td>\n",
       "      <td>0.107379</td>\n",
       "      <td>0.001242</td>\n",
       "      <td>-0.222755</td>\n",
       "      <td>-0.005379</td>\n",
       "      <td>0.170774</td>\n",
       "    </tr>\n",
       "    <tr>\n",
       "      <th>std</th>\n",
       "      <td>0.691585</td>\n",
       "      <td>0.810511</td>\n",
       "      <td>0.747301</td>\n",
       "      <td>0.872415</td>\n",
       "      <td>0.759004</td>\n",
       "      <td>0.550906</td>\n",
       "      <td>0.656800</td>\n",
       "      <td>0.557998</td>\n",
       "      <td>0.812947</td>\n",
       "      <td>0.644687</td>\n",
       "      <td>0.814485</td>\n",
       "      <td>0.887194</td>\n",
       "      <td>0.755986</td>\n",
       "      <td>0.601422</td>\n",
       "      <td>0.907412</td>\n",
       "      <td>0.757549</td>\n",
       "      <td>0.640649</td>\n",
       "      <td>0.599703</td>\n",
       "      <td>1.231979</td>\n",
       "      <td>1.262466</td>\n",
       "      <td>0.835215</td>\n",
       "      <td>0.637256</td>\n",
       "      <td>0.502798</td>\n",
       "      <td>10.554555</td>\n",
       "      <td>0.496748</td>\n",
       "      <td>0.816050</td>\n",
       "      <td>0.884618</td>\n",
       "      <td>1.296133</td>\n",
       "      <td>0.732025</td>\n",
       "      <td>0.707992</td>\n",
       "      <td>1.34461</td>\n",
       "      <td>0.799336</td>\n",
       "      <td>0.901513</td>\n",
       "      <td>0.731174</td>\n",
       "      <td>0.707885</td>\n",
       "      <td>0.738799</td>\n",
       "      <td>0.799859</td>\n",
       "    </tr>\n",
       "    <tr>\n",
       "      <th>min</th>\n",
       "      <td>-2.500000</td>\n",
       "      <td>-1.742483</td>\n",
       "      <td>-2.000000</td>\n",
       "      <td>-1.970179</td>\n",
       "      <td>-1.475957</td>\n",
       "      <td>-2.000000</td>\n",
       "      <td>-2.195652</td>\n",
       "      <td>-1.189189</td>\n",
       "      <td>-2.000000</td>\n",
       "      <td>-1.000000</td>\n",
       "      <td>0.000000</td>\n",
       "      <td>-1.975580</td>\n",
       "      <td>-0.819504</td>\n",
       "      <td>-1.200000</td>\n",
       "      <td>-2.028728</td>\n",
       "      <td>-1.000000</td>\n",
       "      <td>-0.537921</td>\n",
       "      <td>0.000000</td>\n",
       "      <td>-5.000000</td>\n",
       "      <td>-5.000000</td>\n",
       "      <td>-1.000000</td>\n",
       "      <td>-0.666667</td>\n",
       "      <td>0.000000</td>\n",
       "      <td>-45.976744</td>\n",
       "      <td>-2.000000</td>\n",
       "      <td>-3.000000</td>\n",
       "      <td>-4.000000</td>\n",
       "      <td>-6.000000</td>\n",
       "      <td>-4.000000</td>\n",
       "      <td>-2.600000</td>\n",
       "      <td>-7.00000</td>\n",
       "      <td>-3.000000</td>\n",
       "      <td>-1.666667</td>\n",
       "      <td>-2.524700</td>\n",
       "      <td>-3.000000</td>\n",
       "      <td>-2.285924</td>\n",
       "      <td>-1.524093</td>\n",
       "    </tr>\n",
       "    <tr>\n",
       "      <th>25%</th>\n",
       "      <td>-0.500000</td>\n",
       "      <td>-0.516577</td>\n",
       "      <td>-1.000000</td>\n",
       "      <td>-0.388668</td>\n",
       "      <td>-0.400393</td>\n",
       "      <td>-1.000000</td>\n",
       "      <td>-0.413043</td>\n",
       "      <td>-0.729730</td>\n",
       "      <td>-0.500000</td>\n",
       "      <td>-1.000000</td>\n",
       "      <td>0.000000</td>\n",
       "      <td>-0.475580</td>\n",
       "      <td>-0.437126</td>\n",
       "      <td>-0.500000</td>\n",
       "      <td>-0.528728</td>\n",
       "      <td>0.000000</td>\n",
       "      <td>-0.537921</td>\n",
       "      <td>0.000000</td>\n",
       "      <td>0.000000</td>\n",
       "      <td>0.000000</td>\n",
       "      <td>0.000000</td>\n",
       "      <td>0.000000</td>\n",
       "      <td>0.000000</td>\n",
       "      <td>-0.441860</td>\n",
       "      <td>0.000000</td>\n",
       "      <td>-1.000000</td>\n",
       "      <td>0.000000</td>\n",
       "      <td>0.000000</td>\n",
       "      <td>0.000000</td>\n",
       "      <td>-1.000000</td>\n",
       "      <td>0.00000</td>\n",
       "      <td>-1.000000</td>\n",
       "      <td>-0.333333</td>\n",
       "      <td>-0.487155</td>\n",
       "      <td>0.000000</td>\n",
       "      <td>-0.503755</td>\n",
       "      <td>-0.393218</td>\n",
       "    </tr>\n",
       "    <tr>\n",
       "      <th>50%</th>\n",
       "      <td>0.000000</td>\n",
       "      <td>0.000000</td>\n",
       "      <td>0.000000</td>\n",
       "      <td>0.000000</td>\n",
       "      <td>0.000000</td>\n",
       "      <td>0.000000</td>\n",
       "      <td>0.000000</td>\n",
       "      <td>0.000000</td>\n",
       "      <td>0.000000</td>\n",
       "      <td>0.000000</td>\n",
       "      <td>0.000000</td>\n",
       "      <td>0.000000</td>\n",
       "      <td>0.000000</td>\n",
       "      <td>0.000000</td>\n",
       "      <td>0.000000</td>\n",
       "      <td>0.000000</td>\n",
       "      <td>0.000000</td>\n",
       "      <td>0.000000</td>\n",
       "      <td>0.000000</td>\n",
       "      <td>0.000000</td>\n",
       "      <td>0.000000</td>\n",
       "      <td>0.000000</td>\n",
       "      <td>0.000000</td>\n",
       "      <td>0.000000</td>\n",
       "      <td>0.000000</td>\n",
       "      <td>0.000000</td>\n",
       "      <td>0.000000</td>\n",
       "      <td>0.000000</td>\n",
       "      <td>0.000000</td>\n",
       "      <td>0.000000</td>\n",
       "      <td>0.00000</td>\n",
       "      <td>0.000000</td>\n",
       "      <td>0.000000</td>\n",
       "      <td>0.000000</td>\n",
       "      <td>0.000000</td>\n",
       "      <td>0.000000</td>\n",
       "      <td>0.000000</td>\n",
       "    </tr>\n",
       "    <tr>\n",
       "      <th>75%</th>\n",
       "      <td>0.500000</td>\n",
       "      <td>0.483423</td>\n",
       "      <td>0.000000</td>\n",
       "      <td>0.611332</td>\n",
       "      <td>0.599607</td>\n",
       "      <td>0.000000</td>\n",
       "      <td>0.586957</td>\n",
       "      <td>0.270270</td>\n",
       "      <td>0.500000</td>\n",
       "      <td>0.000000</td>\n",
       "      <td>1.000000</td>\n",
       "      <td>0.524420</td>\n",
       "      <td>0.562874</td>\n",
       "      <td>0.500000</td>\n",
       "      <td>0.471272</td>\n",
       "      <td>1.000000</td>\n",
       "      <td>0.462079</td>\n",
       "      <td>1.000000</td>\n",
       "      <td>0.000000</td>\n",
       "      <td>0.000000</td>\n",
       "      <td>0.000000</td>\n",
       "      <td>1.000000</td>\n",
       "      <td>1.000000</td>\n",
       "      <td>0.558140</td>\n",
       "      <td>0.000000</td>\n",
       "      <td>0.000000</td>\n",
       "      <td>0.000000</td>\n",
       "      <td>0.000000</td>\n",
       "      <td>0.000000</td>\n",
       "      <td>0.000000</td>\n",
       "      <td>0.00000</td>\n",
       "      <td>0.000000</td>\n",
       "      <td>0.666667</td>\n",
       "      <td>0.512845</td>\n",
       "      <td>0.000000</td>\n",
       "      <td>0.496245</td>\n",
       "      <td>0.606782</td>\n",
       "    </tr>\n",
       "    <tr>\n",
       "      <th>max</th>\n",
       "      <td>2.000000</td>\n",
       "      <td>6.442560</td>\n",
       "      <td>2.000000</td>\n",
       "      <td>10.176938</td>\n",
       "      <td>7.077527</td>\n",
       "      <td>1.000000</td>\n",
       "      <td>0.804348</td>\n",
       "      <td>0.432432</td>\n",
       "      <td>4.000000</td>\n",
       "      <td>2.000000</td>\n",
       "      <td>2.500000</td>\n",
       "      <td>2.024420</td>\n",
       "      <td>3.177074</td>\n",
       "      <td>1.200000</td>\n",
       "      <td>1.971272</td>\n",
       "      <td>4.000000</td>\n",
       "      <td>7.389045</td>\n",
       "      <td>2.836538</td>\n",
       "      <td>0.000000</td>\n",
       "      <td>0.000000</td>\n",
       "      <td>4.000000</td>\n",
       "      <td>1.666667</td>\n",
       "      <td>2.000000</td>\n",
       "      <td>0.767442</td>\n",
       "      <td>0.000000</td>\n",
       "      <td>5.000000</td>\n",
       "      <td>0.000000</td>\n",
       "      <td>0.000000</td>\n",
       "      <td>0.000000</td>\n",
       "      <td>0.400000</td>\n",
       "      <td>0.00000</td>\n",
       "      <td>0.500000</td>\n",
       "      <td>2.000000</td>\n",
       "      <td>2.809323</td>\n",
       "      <td>0.000000</td>\n",
       "      <td>2.417196</td>\n",
       "      <td>2.106782</td>\n",
       "    </tr>\n",
       "  </tbody>\n",
       "</table>\n",
       "</div>"
      ],
      "text/plain": [
       "       Overall_Material  Grade_Living_Area  Garage_Size  Total_Basement_Area  \\\n",
       "count       1459.000000        1459.000000  1459.000000          1459.000000   \n",
       "mean           0.050034           0.079632    -0.232351             0.131796   \n",
       "std            0.691585           0.810511     0.747301             0.872415   \n",
       "min           -2.500000          -1.742483    -2.000000            -1.970179   \n",
       "25%           -0.500000          -0.516577    -1.000000            -0.388668   \n",
       "50%            0.000000           0.000000     0.000000             0.000000   \n",
       "75%            0.500000           0.483423     0.000000             0.611332   \n",
       "max            2.000000           6.442560     2.000000            10.176938   \n",
       "\n",
       "       First_Floor_Area  Full_Bathroom_Above_Grade  Construction_Year  \\\n",
       "count       1459.000000                1459.000000        1459.000000   \n",
       "mean           0.150270                  -0.434544          -0.037563   \n",
       "std            0.759004                   0.550906           0.656800   \n",
       "min           -1.475957                  -2.000000          -2.195652   \n",
       "25%           -0.400393                  -1.000000          -0.413043   \n",
       "50%            0.000000                   0.000000           0.000000   \n",
       "75%            0.599607                   0.000000           0.586957   \n",
       "max            7.077527                   1.000000           0.804348   \n",
       "\n",
       "       Remodel_Year  Rooms_Above_Grade   Fireplaces  Brick_Veneer_Area  \\\n",
       "count   1459.000000        1459.000000  1459.000000        1459.000000   \n",
       "mean      -0.246504           0.259082    -0.386566           0.547590   \n",
       "std        0.557998           0.812947     0.644687           0.814485   \n",
       "min       -1.189189          -2.000000    -1.000000           0.000000   \n",
       "25%       -0.729730          -0.500000    -1.000000           0.000000   \n",
       "50%        0.000000           0.000000     0.000000           0.000000   \n",
       "75%        0.270270           0.500000     0.000000           1.000000   \n",
       "max        0.432432           4.000000     2.000000           2.500000   \n",
       "\n",
       "          Lot_Size    BsmtUnfSF  Neighborhood   Lot_Extent  Foundation_Type  \\\n",
       "count  1459.000000  1459.000000   1459.000000  1459.000000      1459.000000   \n",
       "mean      0.042097     0.151473      0.025497    -0.040727         0.409184   \n",
       "std       0.887194     0.755986      0.601422     0.907412         0.757549   \n",
       "min      -1.975580    -0.819504     -1.200000    -2.028728        -1.000000   \n",
       "25%      -0.475580    -0.437126     -0.500000    -0.528728         0.000000   \n",
       "50%       0.000000     0.000000      0.000000     0.000000         0.000000   \n",
       "75%       0.524420     0.562874      0.500000     0.471272         1.000000   \n",
       "max       2.024420     3.177074      1.200000     1.971272         4.000000   \n",
       "\n",
       "        BsmtFinSF1  Second_Floor_Area  Garage_Condition  Garage_Quality  \\\n",
       "count  1459.000000        1459.000000       1459.000000     1459.000000   \n",
       "mean      0.084796           0.476965         -0.372173       -0.405757   \n",
       "std       0.640649           0.599703          1.231979        1.262466   \n",
       "min      -0.537921           0.000000         -5.000000       -5.000000   \n",
       "25%      -0.537921           0.000000          0.000000        0.000000   \n",
       "50%       0.000000           0.000000          0.000000        0.000000   \n",
       "75%       0.462079           1.000000          0.000000        0.000000   \n",
       "max       7.389045           2.836538          0.000000        0.000000   \n",
       "\n",
       "       Roof_Design  House_Design  Half_Bathroom_Above_Grade  \\\n",
       "count  1459.000000   1459.000000                1459.000000   \n",
       "mean      0.410555      0.346356                   0.382454   \n",
       "std       0.835215      0.637256                   0.502798   \n",
       "min      -1.000000     -0.666667                   0.000000   \n",
       "25%       0.000000      0.000000                   0.000000   \n",
       "50%       0.000000      0.000000                   0.000000   \n",
       "75%       0.000000      1.000000                   1.000000   \n",
       "max       4.000000      1.666667                   2.000000   \n",
       "\n",
       "       Garage_Built_Year  Pavedd_Drive  Bedroom_Above_Grade  \\\n",
       "count        1459.000000   1459.000000          1459.000000   \n",
       "mean           -2.519215     -0.143934            -0.133653   \n",
       "std            10.554555      0.496748             0.816050   \n",
       "min           -45.976744     -2.000000            -3.000000   \n",
       "25%            -0.441860      0.000000            -1.000000   \n",
       "50%             0.000000      0.000000             0.000000   \n",
       "75%             0.558140      0.000000             0.000000   \n",
       "max             0.767442      0.000000             5.000000   \n",
       "\n",
       "       Basement_Condition  BsmtFinType2  Exterior_Condition  Exterior2nd  \\\n",
       "count         1459.000000   1459.000000         1459.000000  1459.000000   \n",
       "mean            -0.284441     -0.439342           -0.266621    -0.531460   \n",
       "std              0.884618      1.296133            0.732025     0.707992   \n",
       "min             -4.000000     -6.000000           -4.000000    -2.600000   \n",
       "25%              0.000000      0.000000            0.000000    -1.000000   \n",
       "50%              0.000000      0.000000            0.000000     0.000000   \n",
       "75%              0.000000      0.000000            0.000000     0.000000   \n",
       "max              0.000000      0.000000            0.000000     0.400000   \n",
       "\n",
       "       Functional_Rate  Exterior1st   Month_Sold  W_Deck_Area  Land_Outline  \\\n",
       "count       1459.00000  1459.000000  1459.000000  1459.000000   1459.000000   \n",
       "mean          -0.35024    -0.593215     0.107379     0.001242     -0.222755   \n",
       "std            1.34461     0.799336     0.901513     0.731174      0.707885   \n",
       "min           -7.00000    -3.000000    -1.666667    -2.524700     -3.000000   \n",
       "25%            0.00000    -1.000000    -0.333333    -0.487155      0.000000   \n",
       "50%            0.00000     0.000000     0.000000     0.000000      0.000000   \n",
       "75%            0.00000     0.000000     0.666667     0.512845      0.000000   \n",
       "max            0.00000     0.500000     2.000000     2.809323      0.000000   \n",
       "\n",
       "       Enclosed_Lobby_Area   Sale_Price  \n",
       "count          1459.000000  1459.000000  \n",
       "mean             -0.005379     0.170774  \n",
       "std               0.738799     0.799859  \n",
       "min              -2.285924    -1.524093  \n",
       "25%              -0.503755    -0.393218  \n",
       "50%               0.000000     0.000000  \n",
       "75%               0.496245     0.606782  \n",
       "max               2.417196     2.106782  "
      ]
     },
     "execution_count": 490,
     "metadata": {},
     "output_type": "execute_result"
    }
   ],
   "source": [
    "df_scaled.describe()"
   ]
  },
  {
   "cell_type": "code",
   "execution_count": 518,
   "id": "cbe83de7",
   "metadata": {},
   "outputs": [],
   "source": [
    "df_x=df_scaled.drop('Sale_Price',axis=1)\n",
    "df_y=df_scaled['Sale_Price']"
   ]
  },
  {
   "cell_type": "code",
   "execution_count": 519,
   "id": "c22bffd3",
   "metadata": {},
   "outputs": [
    {
     "data": {
      "text/plain": [
       "((1459, 36), (1459,))"
      ]
     },
     "execution_count": 519,
     "metadata": {},
     "output_type": "execute_result"
    }
   ],
   "source": [
    "df_x.shape,df_y.shape"
   ]
  },
  {
   "cell_type": "code",
   "execution_count": 520,
   "id": "68e03d22",
   "metadata": {},
   "outputs": [],
   "source": [
    "from sklearn.model_selection import train_test_split"
   ]
  },
  {
   "cell_type": "code",
   "execution_count": 521,
   "id": "732356ab",
   "metadata": {},
   "outputs": [],
   "source": [
    "df_xtrain,df_xtest,df_ytrain,df_ytest=train_test_split(df_x,df_y,test_size=0.2,random_state=101)"
   ]
  },
  {
   "cell_type": "code",
   "execution_count": 522,
   "id": "30a4da9b",
   "metadata": {},
   "outputs": [
    {
     "data": {
      "text/plain": [
       "((1167, 36), (292, 36), (1167,), (292,))"
      ]
     },
     "execution_count": 522,
     "metadata": {},
     "output_type": "execute_result"
    }
   ],
   "source": [
    "df_xtrain.shape,df_xtest.shape,df_ytrain.shape,df_ytest.shape"
   ]
  },
  {
   "cell_type": "markdown",
   "id": "5fc39228",
   "metadata": {},
   "source": [
    "# Model 1: Linear Regression"
   ]
  },
  {
   "cell_type": "code",
   "execution_count": 565,
   "id": "927c1432",
   "metadata": {},
   "outputs": [],
   "source": [
    "from sklearn import linear_model\n",
    "ln=linear_model.LinearRegression()"
   ]
  },
  {
   "cell_type": "code",
   "execution_count": null,
   "id": "b4de4f78",
   "metadata": {},
   "outputs": [],
   "source": []
  },
  {
   "cell_type": "code",
   "execution_count": 524,
   "id": "887eda80",
   "metadata": {},
   "outputs": [
    {
     "data": {
      "text/plain": [
       "LinearRegression()"
      ]
     },
     "execution_count": 524,
     "metadata": {},
     "output_type": "execute_result"
    }
   ],
   "source": [
    "ln.fit(df_xtrain,df_ytrain)"
   ]
  },
  {
   "cell_type": "code",
   "execution_count": 525,
   "id": "4399f4f7",
   "metadata": {},
   "outputs": [],
   "source": [
    "pr=ln.predict(df_xtest)"
   ]
  },
  {
   "cell_type": "code",
   "execution_count": 541,
   "id": "d39b98bb",
   "metadata": {},
   "outputs": [
    {
     "name": "stdout",
     "output_type": "stream",
     "text": [
      "Score 0.7211145198278222\n"
     ]
    }
   ],
   "source": [
    "RSQL=ln.score(df_xtest,df_ytest)\n",
    "print(\"Score\",RSQL)"
   ]
  },
  {
   "cell_type": "code",
   "execution_count": 542,
   "id": "a283f43a",
   "metadata": {},
   "outputs": [
    {
     "data": {
      "text/plain": [
       "0.7122296726718944"
      ]
     },
     "execution_count": 542,
     "metadata": {},
     "output_type": "execute_result"
    }
   ],
   "source": [
    "ADJRSQ1=1-(((1-RSQL)*(1167-1))/(1167-36-1))\n",
    "ADJRSQ1"
   ]
  },
  {
   "cell_type": "code",
   "execution_count": 543,
   "id": "9327540b",
   "metadata": {},
   "outputs": [],
   "source": [
    "from sklearn import metrics"
   ]
  },
  {
   "cell_type": "code",
   "execution_count": 544,
   "id": "9161976b",
   "metadata": {},
   "outputs": [
    {
     "name": "stdout",
     "output_type": "stream",
     "text": [
      "Mean Squared Error\n",
      " 0.16648951162886128\n"
     ]
    }
   ],
   "source": [
    "df_mse1=metrics.mean_squared_error(df_ytest,pr)\n",
    "print(\"Mean Squared Error\\n\",df_mse1)"
   ]
  },
  {
   "cell_type": "code",
   "execution_count": 545,
   "id": "385106df",
   "metadata": {},
   "outputs": [],
   "source": [
    "error1=df_ytest-pr\n",
    "aerror1=np.abs(error1)\n",
    "#aerror1"
   ]
  },
  {
   "cell_type": "code",
   "execution_count": 546,
   "id": "128431df",
   "metadata": {},
   "outputs": [
    {
     "data": {
      "text/plain": [
       "inf"
      ]
     },
     "execution_count": 546,
     "metadata": {},
     "output_type": "execute_result"
    }
   ],
   "source": [
    "MAPE1=np.mean(aerror1/df_ytest)*100\n",
    "MAPE1"
   ]
  },
  {
   "cell_type": "markdown",
   "id": "1704af83",
   "metadata": {},
   "source": [
    "# Lasso"
   ]
  },
  {
   "cell_type": "code",
   "execution_count": 532,
   "id": "3e72c223",
   "metadata": {},
   "outputs": [],
   "source": [
    "from sklearn.linear_model import Lasso\n",
    "lasso=Lasso()"
   ]
  },
  {
   "cell_type": "code",
   "execution_count": 533,
   "id": "25be80bf",
   "metadata": {},
   "outputs": [
    {
     "data": {
      "text/plain": [
       "Lasso()"
      ]
     },
     "execution_count": 533,
     "metadata": {},
     "output_type": "execute_result"
    }
   ],
   "source": [
    "lasso.fit(df_xtrain,df_ytrain)"
   ]
  },
  {
   "cell_type": "code",
   "execution_count": 534,
   "id": "9b61c035",
   "metadata": {},
   "outputs": [],
   "source": [
    "pr1=lasso.predict(df_xtest)"
   ]
  },
  {
   "cell_type": "code",
   "execution_count": 552,
   "id": "bc276810",
   "metadata": {},
   "outputs": [
    {
     "name": "stdout",
     "output_type": "stream",
     "text": [
      "Lasso Score 0.08362640669549659\n"
     ]
    }
   ],
   "source": [
    "RSQ2=lasso.score(df_xtest,df_ytest)\n",
    "print(\"Lasso Score\",RSQ2)"
   ]
  },
  {
   "cell_type": "code",
   "execution_count": 553,
   "id": "a67727ae",
   "metadata": {},
   "outputs": [
    {
     "data": {
      "text/plain": [
       "0.05443220372296387"
      ]
     },
     "execution_count": 553,
     "metadata": {},
     "output_type": "execute_result"
    }
   ],
   "source": [
    "ADJRSQ2=1-(((1-RSQ2)*(1167-1))/(1167-36-1))\n",
    "ADJRSQ2"
   ]
  },
  {
   "cell_type": "code",
   "execution_count": 554,
   "id": "79598e25",
   "metadata": {},
   "outputs": [
    {
     "data": {
      "text/plain": [
       "0.547058211580826"
      ]
     },
     "execution_count": 554,
     "metadata": {},
     "output_type": "execute_result"
    }
   ],
   "source": [
    "df_mse2=metrics.mean_squared_error(df_ytest,pr1)\n",
    "df_mse2"
   ]
  },
  {
   "cell_type": "code",
   "execution_count": 550,
   "id": "dce30241",
   "metadata": {},
   "outputs": [],
   "source": [
    "error2=df_ytest-pr1\n",
    "aerror2=np.abs(error2)\n",
    "#aerror2"
   ]
  },
  {
   "cell_type": "code",
   "execution_count": 551,
   "id": "cae4ee36",
   "metadata": {},
   "outputs": [
    {
     "data": {
      "text/plain": [
       "inf"
      ]
     },
     "execution_count": 551,
     "metadata": {},
     "output_type": "execute_result"
    }
   ],
   "source": [
    "MAPE2=np.mean(aerror2/df_ytest)*100\n",
    "MAPE2"
   ]
  },
  {
   "cell_type": "markdown",
   "id": "8c4a6391",
   "metadata": {},
   "source": [
    "# Model 2: Random Forest Regressor"
   ]
  },
  {
   "cell_type": "code",
   "execution_count": 555,
   "id": "8d699441",
   "metadata": {},
   "outputs": [],
   "source": [
    "from sklearn.ensemble import RandomForestRegressor\n",
    "rf = RandomForestRegressor()"
   ]
  },
  {
   "cell_type": "code",
   "execution_count": 556,
   "id": "f78609f4",
   "metadata": {},
   "outputs": [
    {
     "data": {
      "text/plain": [
       "RandomForestRegressor()"
      ]
     },
     "execution_count": 556,
     "metadata": {},
     "output_type": "execute_result"
    }
   ],
   "source": [
    "rf.fit(df_xtrain,df_ytrain)"
   ]
  },
  {
   "cell_type": "code",
   "execution_count": 557,
   "id": "9761f56e",
   "metadata": {},
   "outputs": [],
   "source": [
    "pr3=rf.predict(df_xtest)"
   ]
  },
  {
   "cell_type": "code",
   "execution_count": 558,
   "id": "a43a23a3",
   "metadata": {},
   "outputs": [
    {
     "name": "stdout",
     "output_type": "stream",
     "text": [
      "RF Score 0.8673597631711942\n"
     ]
    }
   ],
   "source": [
    "RSQ3=rf.score(df_xtest,df_ytest)\n",
    "print(\"RF Score\",RSQ3)"
   ]
  },
  {
   "cell_type": "code",
   "execution_count": 559,
   "id": "8526512c",
   "metadata": {},
   "outputs": [
    {
     "data": {
      "text/plain": [
       "0.8631340565111615"
      ]
     },
     "execution_count": 559,
     "metadata": {},
     "output_type": "execute_result"
    }
   ],
   "source": [
    "ADJRSQ3=1-(((1-RSQ3)*(1167-1))/(1167-36-1))\n",
    "ADJRSQ3"
   ]
  },
  {
   "cell_type": "code",
   "execution_count": 560,
   "id": "c2d2407d",
   "metadata": {},
   "outputs": [
    {
     "data": {
      "text/plain": [
       "0.07918378625638983"
      ]
     },
     "execution_count": 560,
     "metadata": {},
     "output_type": "execute_result"
    }
   ],
   "source": [
    "df_mse3=metrics.mean_squared_error(df_ytest,pr3)\n",
    "df_mse3"
   ]
  },
  {
   "cell_type": "code",
   "execution_count": 561,
   "id": "d7c0cfc2",
   "metadata": {},
   "outputs": [],
   "source": [
    "error3=df_ytest-pr3\n",
    "aerror3=np.abs(error3)"
   ]
  },
  {
   "cell_type": "code",
   "execution_count": 562,
   "id": "499f60be",
   "metadata": {},
   "outputs": [
    {
     "data": {
      "text/plain": [
       "inf"
      ]
     },
     "execution_count": 562,
     "metadata": {},
     "output_type": "execute_result"
    }
   ],
   "source": [
    "MAPE3=np.mean(aerror3/df_ytest)*100\n",
    "MAPE3"
   ]
  },
  {
   "cell_type": "code",
   "execution_count": null,
   "id": "054054fb",
   "metadata": {},
   "outputs": [],
   "source": []
  },
  {
   "cell_type": "markdown",
   "id": "544585e1",
   "metadata": {},
   "source": [
    "# Cross Validation"
   ]
  },
  {
   "cell_type": "code",
   "execution_count": 563,
   "id": "977a435f",
   "metadata": {},
   "outputs": [],
   "source": [
    "from sklearn.model_selection import cross_val_score\n",
    "#from sklearn.metrics import mean_squared_log_error"
   ]
  },
  {
   "cell_type": "code",
   "execution_count": 575,
   "id": "c8638866",
   "metadata": {},
   "outputs": [
    {
     "name": "stdout",
     "output_type": "stream",
     "text": [
      "[0.87404803 0.84785196 0.85269494 0.85395545 0.68457951]\n",
      "Avg : 0.8226259786957719\n"
     ]
    }
   ],
   "source": [
    "# Linear Regression\n",
    "score_lr=cross_val_score(ln, df_x, df_y,cv=5)\n",
    "print(score_lr)\n",
    "print(\"Avg :\",np.average(score_lr))"
   ]
  },
  {
   "cell_type": "code",
   "execution_count": 576,
   "id": "116951c6",
   "metadata": {},
   "outputs": [
    {
     "name": "stdout",
     "output_type": "stream",
     "text": [
      "[0.85999726 0.8994111  0.89049312 0.89381502 0.8513522 ]\n",
      "Avg : 0.8790137399745014\n"
     ]
    }
   ],
   "source": [
    "#Random Forest Regression\n",
    "score_rf=cross_val_score(rf, df_x, df_y,cv=5)\n",
    "print(score_rf)\n",
    "print(\"Avg :\",np.average(score_rf))"
   ]
  },
  {
   "cell_type": "code",
   "execution_count": 577,
   "id": "06282672",
   "metadata": {},
   "outputs": [],
   "source": [
    "# We go with the Random Forest Regressor model"
   ]
  },
  {
   "cell_type": "markdown",
   "id": "54f10fa4",
   "metadata": {},
   "source": [
    "# Prediction on Test data"
   ]
  },
  {
   "cell_type": "code",
   "execution_count": 585,
   "id": "db50120c",
   "metadata": {},
   "outputs": [
    {
     "data": {
      "text/html": [
       "<div>\n",
       "<style scoped>\n",
       "    .dataframe tbody tr th:only-of-type {\n",
       "        vertical-align: middle;\n",
       "    }\n",
       "\n",
       "    .dataframe tbody tr th {\n",
       "        vertical-align: top;\n",
       "    }\n",
       "\n",
       "    .dataframe thead th {\n",
       "        text-align: right;\n",
       "    }\n",
       "</style>\n",
       "<table border=\"1\" class=\"dataframe\">\n",
       "  <thead>\n",
       "    <tr style=\"text-align: right;\">\n",
       "      <th></th>\n",
       "      <th>Id</th>\n",
       "      <th>Overall_Material</th>\n",
       "      <th>Grade_Living_Area</th>\n",
       "      <th>Garage_Size</th>\n",
       "      <th>Total_Basement_Area</th>\n",
       "      <th>First_Floor_Area</th>\n",
       "      <th>Full_Bathroom_Above_Grade</th>\n",
       "      <th>Construction_Year</th>\n",
       "      <th>Remodel_Year</th>\n",
       "      <th>Rooms_Above_Grade</th>\n",
       "      <th>Fireplaces</th>\n",
       "      <th>Brick_Veneer_Area</th>\n",
       "      <th>Lot_Size</th>\n",
       "      <th>BsmtUnfSF</th>\n",
       "      <th>Neighborhood</th>\n",
       "      <th>Lot_Extent</th>\n",
       "      <th>Foundation_Type</th>\n",
       "      <th>BsmtFinSF1</th>\n",
       "      <th>Second_Floor_Area</th>\n",
       "      <th>Garage_Condition</th>\n",
       "      <th>Garage_Quality</th>\n",
       "      <th>Roof_Design</th>\n",
       "      <th>House_Design</th>\n",
       "      <th>Half_Bathroom_Above_Grade</th>\n",
       "      <th>Garage_Built_Year</th>\n",
       "      <th>Pavedd_Drive</th>\n",
       "      <th>Bedroom_Above_Grade</th>\n",
       "      <th>Basement_Condition</th>\n",
       "      <th>BsmtFinType2</th>\n",
       "      <th>Exterior_Condition</th>\n",
       "      <th>Exterior2nd</th>\n",
       "      <th>Functional_Rate</th>\n",
       "      <th>Exterior1st</th>\n",
       "      <th>Month_Sold</th>\n",
       "      <th>W_Deck_Area</th>\n",
       "      <th>Land_Outline</th>\n",
       "      <th>Enclosed_Lobby_Area</th>\n",
       "    </tr>\n",
       "  </thead>\n",
       "  <tbody>\n",
       "    <tr>\n",
       "      <th>0</th>\n",
       "      <td>1461</td>\n",
       "      <td>5</td>\n",
       "      <td>896</td>\n",
       "      <td>1.0</td>\n",
       "      <td>882.0</td>\n",
       "      <td>896</td>\n",
       "      <td>1</td>\n",
       "      <td>1961</td>\n",
       "      <td>1961</td>\n",
       "      <td>5</td>\n",
       "      <td>0</td>\n",
       "      <td>0.0</td>\n",
       "      <td>16104.81976</td>\n",
       "      <td>270.0</td>\n",
       "      <td>12.0</td>\n",
       "      <td>80.0</td>\n",
       "      <td>1.0</td>\n",
       "      <td>468.0</td>\n",
       "      <td>0</td>\n",
       "      <td>5.0</td>\n",
       "      <td>4.0</td>\n",
       "      <td>1.0</td>\n",
       "      <td>2.0</td>\n",
       "      <td>0</td>\n",
       "      <td>1961.0</td>\n",
       "      <td>2.0</td>\n",
       "      <td>2</td>\n",
       "      <td>3.0</td>\n",
       "      <td>3.0</td>\n",
       "      <td>4.0</td>\n",
       "      <td>12.0</td>\n",
       "      <td>7.0</td>\n",
       "      <td>10.0</td>\n",
       "      <td>6</td>\n",
       "      <td>0</td>\n",
       "      <td>3.0</td>\n",
       "      <td>0</td>\n",
       "    </tr>\n",
       "    <tr>\n",
       "      <th>1</th>\n",
       "      <td>1462</td>\n",
       "      <td>6</td>\n",
       "      <td>1329</td>\n",
       "      <td>1.0</td>\n",
       "      <td>1329.0</td>\n",
       "      <td>1329</td>\n",
       "      <td>1</td>\n",
       "      <td>1958</td>\n",
       "      <td>1958</td>\n",
       "      <td>6</td>\n",
       "      <td>0</td>\n",
       "      <td>108.0</td>\n",
       "      <td>15639.15081</td>\n",
       "      <td>406.0</td>\n",
       "      <td>12.0</td>\n",
       "      <td>81.0</td>\n",
       "      <td>1.0</td>\n",
       "      <td>923.0</td>\n",
       "      <td>0</td>\n",
       "      <td>5.0</td>\n",
       "      <td>4.0</td>\n",
       "      <td>3.0</td>\n",
       "      <td>2.0</td>\n",
       "      <td>1</td>\n",
       "      <td>1958.0</td>\n",
       "      <td>2.0</td>\n",
       "      <td>3</td>\n",
       "      <td>3.0</td>\n",
       "      <td>5.0</td>\n",
       "      <td>4.0</td>\n",
       "      <td>13.0</td>\n",
       "      <td>7.0</td>\n",
       "      <td>11.0</td>\n",
       "      <td>6</td>\n",
       "      <td>0</td>\n",
       "      <td>3.0</td>\n",
       "      <td>0</td>\n",
       "    </tr>\n",
       "    <tr>\n",
       "      <th>2</th>\n",
       "      <td>1463</td>\n",
       "      <td>5</td>\n",
       "      <td>1629</td>\n",
       "      <td>2.0</td>\n",
       "      <td>928.0</td>\n",
       "      <td>928</td>\n",
       "      <td>2</td>\n",
       "      <td>1997</td>\n",
       "      <td>1998</td>\n",
       "      <td>6</td>\n",
       "      <td>1</td>\n",
       "      <td>0.0</td>\n",
       "      <td>3849.42892</td>\n",
       "      <td>137.0</td>\n",
       "      <td>8.0</td>\n",
       "      <td>74.0</td>\n",
       "      <td>2.0</td>\n",
       "      <td>791.0</td>\n",
       "      <td>701</td>\n",
       "      <td>5.0</td>\n",
       "      <td>4.0</td>\n",
       "      <td>1.0</td>\n",
       "      <td>4.0</td>\n",
       "      <td>1</td>\n",
       "      <td>1997.0</td>\n",
       "      <td>2.0</td>\n",
       "      <td>3</td>\n",
       "      <td>3.0</td>\n",
       "      <td>5.0</td>\n",
       "      <td>4.0</td>\n",
       "      <td>12.0</td>\n",
       "      <td>7.0</td>\n",
       "      <td>10.0</td>\n",
       "      <td>3</td>\n",
       "      <td>0</td>\n",
       "      <td>3.0</td>\n",
       "      <td>0</td>\n",
       "    </tr>\n",
       "  </tbody>\n",
       "</table>\n",
       "</div>"
      ],
      "text/plain": [
       "     Id  Overall_Material  Grade_Living_Area  Garage_Size  \\\n",
       "0  1461                 5                896          1.0   \n",
       "1  1462                 6               1329          1.0   \n",
       "2  1463                 5               1629          2.0   \n",
       "\n",
       "   Total_Basement_Area  First_Floor_Area  Full_Bathroom_Above_Grade  \\\n",
       "0                882.0               896                          1   \n",
       "1               1329.0              1329                          1   \n",
       "2                928.0               928                          2   \n",
       "\n",
       "   Construction_Year  Remodel_Year  Rooms_Above_Grade  Fireplaces  \\\n",
       "0               1961          1961                  5           0   \n",
       "1               1958          1958                  6           0   \n",
       "2               1997          1998                  6           1   \n",
       "\n",
       "   Brick_Veneer_Area     Lot_Size  BsmtUnfSF  Neighborhood  Lot_Extent  \\\n",
       "0                0.0  16104.81976      270.0          12.0        80.0   \n",
       "1              108.0  15639.15081      406.0          12.0        81.0   \n",
       "2                0.0   3849.42892      137.0           8.0        74.0   \n",
       "\n",
       "   Foundation_Type  BsmtFinSF1  Second_Floor_Area  Garage_Condition  \\\n",
       "0              1.0       468.0                  0               5.0   \n",
       "1              1.0       923.0                  0               5.0   \n",
       "2              2.0       791.0                701               5.0   \n",
       "\n",
       "   Garage_Quality  Roof_Design  House_Design  Half_Bathroom_Above_Grade  \\\n",
       "0             4.0          1.0           2.0                          0   \n",
       "1             4.0          3.0           2.0                          1   \n",
       "2             4.0          1.0           4.0                          1   \n",
       "\n",
       "   Garage_Built_Year  Pavedd_Drive  Bedroom_Above_Grade  Basement_Condition  \\\n",
       "0             1961.0           2.0                    2                 3.0   \n",
       "1             1958.0           2.0                    3                 3.0   \n",
       "2             1997.0           2.0                    3                 3.0   \n",
       "\n",
       "   BsmtFinType2  Exterior_Condition  Exterior2nd  Functional_Rate  \\\n",
       "0           3.0                 4.0         12.0              7.0   \n",
       "1           5.0                 4.0         13.0              7.0   \n",
       "2           5.0                 4.0         12.0              7.0   \n",
       "\n",
       "   Exterior1st  Month_Sold  W_Deck_Area  Land_Outline  Enclosed_Lobby_Area  \n",
       "0         10.0           6            0           3.0                    0  \n",
       "1         11.0           6            0           3.0                    0  \n",
       "2         10.0           3            0           3.0                    0  "
      ]
     },
     "execution_count": 585,
     "metadata": {},
     "output_type": "execute_result"
    }
   ],
   "source": [
    "test_data.head(3)"
   ]
  },
  {
   "cell_type": "code",
   "execution_count": 586,
   "id": "862d1907",
   "metadata": {},
   "outputs": [
    {
     "data": {
      "text/plain": [
       "(1459, 37)"
      ]
     },
     "execution_count": 586,
     "metadata": {},
     "output_type": "execute_result"
    }
   ],
   "source": [
    "test_data.shape"
   ]
  },
  {
   "cell_type": "code",
   "execution_count": 588,
   "id": "3eba0242",
   "metadata": {},
   "outputs": [],
   "source": [
    "test_data.drop('Garage_Built_Year',axis=1,inplace=True)"
   ]
  },
  {
   "cell_type": "code",
   "execution_count": 589,
   "id": "72d3ec7d",
   "metadata": {},
   "outputs": [
    {
     "data": {
      "text/plain": [
       "(1459, 36)"
      ]
     },
     "execution_count": 589,
     "metadata": {},
     "output_type": "execute_result"
    }
   ],
   "source": [
    "test_data.shape"
   ]
  },
  {
   "cell_type": "code",
   "execution_count": 590,
   "id": "c5650b85",
   "metadata": {},
   "outputs": [
    {
     "name": "stderr",
     "output_type": "stream",
     "text": [
      "C:\\Users\\user\\anaconda3\\lib\\site-packages\\sklearn\\base.py:493: FutureWarning: The feature names should match those that were passed during fit. Starting version 1.2, an error will be raised.\n",
      "Feature names unseen at fit time:\n",
      "- Id\n",
      "Feature names seen at fit time, yet now missing:\n",
      "- Garage_Built_Year\n",
      "\n",
      "  warnings.warn(message, FutureWarning)\n"
     ]
    }
   ],
   "source": [
    "test_pr=rf.predict(test_data)"
   ]
  },
  {
   "cell_type": "code",
   "execution_count": 592,
   "id": "2bfd5a0e",
   "metadata": {},
   "outputs": [],
   "source": [
    "sub=pd.DataFrame({'ID':test_data['Id'],'Sale_Price':test_pr})"
   ]
  },
  {
   "cell_type": "code",
   "execution_count": 598,
   "id": "bd06b11b",
   "metadata": {},
   "outputs": [
    {
     "data": {
      "text/html": [
       "<div>\n",
       "<style scoped>\n",
       "    .dataframe tbody tr th:only-of-type {\n",
       "        vertical-align: middle;\n",
       "    }\n",
       "\n",
       "    .dataframe tbody tr th {\n",
       "        vertical-align: top;\n",
       "    }\n",
       "\n",
       "    .dataframe thead th {\n",
       "        text-align: right;\n",
       "    }\n",
       "</style>\n",
       "<table border=\"1\" class=\"dataframe\">\n",
       "  <thead>\n",
       "    <tr style=\"text-align: right;\">\n",
       "      <th></th>\n",
       "      <th>ID</th>\n",
       "      <th>Sale_Price</th>\n",
       "    </tr>\n",
       "  </thead>\n",
       "  <tbody>\n",
       "    <tr>\n",
       "      <th>0</th>\n",
       "      <td>1461</td>\n",
       "      <td>1.496207</td>\n",
       "    </tr>\n",
       "    <tr>\n",
       "      <th>1</th>\n",
       "      <td>1462</td>\n",
       "      <td>1.581643</td>\n",
       "    </tr>\n",
       "    <tr>\n",
       "      <th>2</th>\n",
       "      <td>1463</td>\n",
       "      <td>1.527843</td>\n",
       "    </tr>\n",
       "    <tr>\n",
       "      <th>3</th>\n",
       "      <td>1464</td>\n",
       "      <td>1.557222</td>\n",
       "    </tr>\n",
       "    <tr>\n",
       "      <th>4</th>\n",
       "      <td>1465</td>\n",
       "      <td>1.580053</td>\n",
       "    </tr>\n",
       "  </tbody>\n",
       "</table>\n",
       "</div>"
      ],
      "text/plain": [
       "     ID  Sale_Price\n",
       "0  1461    1.496207\n",
       "1  1462    1.581643\n",
       "2  1463    1.527843\n",
       "3  1464    1.557222\n",
       "4  1465    1.580053"
      ]
     },
     "execution_count": 598,
     "metadata": {},
     "output_type": "execute_result"
    }
   ],
   "source": [
    "sub.head()"
   ]
  },
  {
   "cell_type": "code",
   "execution_count": 594,
   "id": "398d6af3",
   "metadata": {},
   "outputs": [],
   "source": [
    "sub.to_csv('Housing_Price_Prediction.csv',index=True)"
   ]
  },
  {
   "cell_type": "code",
   "execution_count": null,
   "id": "04d44042",
   "metadata": {},
   "outputs": [],
   "source": []
  }
 ],
 "metadata": {
  "kernelspec": {
   "display_name": "Python 3",
   "language": "python",
   "name": "python3"
  },
  "language_info": {
   "codemirror_mode": {
    "name": "ipython",
    "version": 3
   },
   "file_extension": ".py",
   "mimetype": "text/x-python",
   "name": "python",
   "nbconvert_exporter": "python",
   "pygments_lexer": "ipython3",
   "version": "3.8.8"
  }
 },
 "nbformat": 4,
 "nbformat_minor": 5
}
