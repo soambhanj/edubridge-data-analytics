{
 "cells": [
  {
   "cell_type": "code",
   "execution_count": 5,
   "id": "4ad93f5f-1fa1-4e51-8652-1152db328dbb",
   "metadata": {},
   "outputs": [],
   "source": [
    "from tkinter import *\n",
    "w = Tk()\n",
    "w.title(\"WEIGHT CONVERTER\")  \n",
    "\n",
    "def from_kg():\n",
    "    gram = float(e2_value.get())*1000\n",
    "     \n",
    "    pound = float(e2_value.get())*2.204\n",
    "     \n",
    "    ounce = float(e2_value.get())*35.274\n",
    "    \n",
    "    t1.delete(\"1.0\", END)\n",
    "    t1.insert(END,gram)\n",
    "     \n",
    "    t2.delete(\"1.0\", END)\n",
    "    t2.insert(END,pound)\n",
    "     \n",
    "    t3.delete(\"1.0\", END)\n",
    "    t3.insert(END,ounce)\n",
    "e1 = Label(w, text = \"Enter the weight in Kg\")\n",
    "e1.grid(row = 0, column = 0)\n",
    "e2_value = StringVar()\n",
    "e2 = Entry(w, textvariable = e2_value)\n",
    "e2.grid(row = 0, column = 1)\n",
    "e3 = Label(w, text = 'Gram')\n",
    "e3.grid(row = 1, column = 0)\n",
    "e4 = Label(w, text = 'Pounds')\n",
    "e4.grid(row = 1, column = 1)\n",
    "e5 = Label(w, text = 'Ounce')\n",
    "e5.grid(row = 1, column = 2) \n",
    "\n",
    "t1 = Text(w, height = 1, width = 20)\n",
    "t1.grid(row = 2, column = 0)\n",
    "t2 = Text(w, height = 1, width = 20)\n",
    "t2.grid(row = 2, column = 1)\n",
    "t3 = Text(w, height = 1, width = 20)\n",
    "t3.grid(row = 2, column = 2) \n",
    "\n",
    "b1 = Button(w, text = \"Convert\", command = from_kg)\n",
    "b1.grid(row = 0, column = 2) \n",
    "w.mainloop()"
   ]
  },
  {
   "cell_type": "code",
   "execution_count": null,
   "id": "cab03b15-3b8d-4a09-9e0f-e84af7b9682f",
   "metadata": {},
   "outputs": [],
   "source": []
  }
 ],
 "metadata": {
  "kernelspec": {
   "display_name": "Python 3",
   "language": "python",
   "name": "python3"
  },
  "language_info": {
   "codemirror_mode": {
    "name": "ipython",
    "version": 3
   },
   "file_extension": ".py",
   "mimetype": "text/x-python",
   "name": "python",
   "nbconvert_exporter": "python",
   "pygments_lexer": "ipython3",
   "version": "3.8.8"
  }
 },
 "nbformat": 4,
 "nbformat_minor": 5
}
