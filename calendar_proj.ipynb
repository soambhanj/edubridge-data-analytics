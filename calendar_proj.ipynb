{
 "cells": [
  {
   "cell_type": "code",
   "execution_count": 3,
   "id": "39b215ee-9465-4c1d-826e-4d1a24b55867",
   "metadata": {},
   "outputs": [
    {
     "name": "stdin",
     "output_type": "stream",
     "text": [
      "Enter the month in m format 2\n",
      "Enter the year in yyyy format 2022\n"
     ]
    },
    {
     "name": "stdout",
     "output_type": "stream",
     "text": [
      "February 2022\n",
      "Su Mo Tu We Th Fr Sa\n",
      "      01 02 03 04 05 \n",
      "06 07 08 09 10 11 12 \n",
      "13 14 15 16 17 18 19 \n",
      "20 21 22 23 24 25 26 \n",
      "27 28 "
     ]
    }
   ],
   "source": [
    "mm =int(input(\"Enter the month in m format\"))\n",
    "yy =int(input(\"Enter the year in yyyy format\"))\n",
    "  \n",
    "month ={1:'January', 2:'February', 3:'March', \n",
    "        4:'April', 5:'May', 6:'June', 7:'July',\n",
    "        8:'August', 9:'September', 10:'October',\n",
    "        11:'November', 12:'December'}\n",
    "   \n",
    "# code below for calculation of odd days\n",
    "day =(yy-1)% 400\n",
    "day = (day//100)*5 + ((day % 100) - (day % 100)//4) + ((day % 100)//4)*2\n",
    "day = day % 7\n",
    "  \n",
    "nly =[31, 28, 31, 30, 31, 30, \n",
    "      31, 31, 30, 31, 30, 31]\n",
    "ly =[31, 29, 31, 30, 31, 30, \n",
    "     31, 31, 30, 31, 30, 31]\n",
    "s = 0\n",
    "  \n",
    "if yy % 4 == 0:\n",
    "    for i in range(mm-1):\n",
    "        s+= ly[i]\n",
    "else:\n",
    "    for i in range(mm-1):\n",
    "        s+= nly[i]\n",
    "day += s % 7\n",
    "day = day % 7\n",
    "   \n",
    "# variable used for white space filling \n",
    "# where date not present\n",
    "space =''\n",
    "space = space.rjust(2, ' ')\n",
    "  \n",
    "# code below is to print the calendar\n",
    "print(month[mm], yy)\n",
    "print('Su', 'Mo', 'Tu', 'We', 'Th', 'Fr', 'Sa')\n",
    "  \n",
    "\n",
    "if mm == 9 or mm == 4 or mm == 6 or mm == 11: \n",
    "    for i in range(31 + day):\n",
    "          \n",
    "        if i<= day:\n",
    "            print(space, end =' ')\n",
    "        else:\n",
    "            print(\"{:02d}\".format(i-day), end =' ')\n",
    "            if (i + 1)% 7 == 0:\n",
    "                print()\n",
    "elif mm == 2:\n",
    "    if yy % 4 == 0:\n",
    "        p = 30\n",
    "    else:\n",
    "        p = 29\n",
    "          \n",
    "    for i in range(p + day):\n",
    "        if i<= day:\n",
    "            print(space, end =' ')\n",
    "        else:\n",
    "            print(\"{:02d}\".format(i-day), end =' ')\n",
    "            if (i + 1)% 7 == 0:\n",
    "                print() \n",
    "else:\n",
    "    for i in range(32 + day):\n",
    "          \n",
    "        if i<= day:\n",
    "            print(space, end =' ')\n",
    "        else:\n",
    "            print(\"{:02d}\".format(i-day), end =' ')\n",
    "            if (i + 1)% 7 == 0:\n",
    "                print()\n"
   ]
  },
  {
   "cell_type": "code",
   "execution_count": null,
   "id": "e404d857-b935-4a59-b8b2-09a5ce60df4c",
   "metadata": {},
   "outputs": [],
   "source": []
  }
 ],
 "metadata": {
  "kernelspec": {
   "display_name": "Python 3",
   "language": "python",
   "name": "python3"
  },
  "language_info": {
   "codemirror_mode": {
    "name": "ipython",
    "version": 3
   },
   "file_extension": ".py",
   "mimetype": "text/x-python",
   "name": "python",
   "nbconvert_exporter": "python",
   "pygments_lexer": "ipython3",
   "version": "3.8.8"
  }
 },
 "nbformat": 4,
 "nbformat_minor": 5
}
