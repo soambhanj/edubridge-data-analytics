{
 "cells": [
  {
   "cell_type": "code",
   "execution_count": null,
   "id": "a5248641-abec-4205-8064-b22f929c3d69",
   "metadata": {},
   "outputs": [
    {
     "name": "stdout",
     "output_type": "stream",
     "text": [
      "Guess the randomly generated number from 1 to 100\n"
     ]
    },
    {
     "name": "stdin",
     "output_type": "stream",
     "text": [
      "Enter the guessed number:  2\n"
     ]
    },
    {
     "name": "stdout",
     "output_type": "stream",
     "text": [
      "-> Your number is less than the random number\n"
     ]
    },
    {
     "name": "stdin",
     "output_type": "stream",
     "text": [
      "Enter the guessed number:  40\n"
     ]
    },
    {
     "name": "stdout",
     "output_type": "stream",
     "text": [
      "-> Your number is greater than the random number\n"
     ]
    },
    {
     "name": "stdin",
     "output_type": "stream",
     "text": [
      "Enter the guessed number:  34\n"
     ]
    },
    {
     "name": "stdout",
     "output_type": "stream",
     "text": [
      "-> Your number is less than the random number\n"
     ]
    },
    {
     "name": "stdin",
     "output_type": "stream",
     "text": [
      "Enter the guessed number:  23\n"
     ]
    },
    {
     "name": "stdout",
     "output_type": "stream",
     "text": [
      "-> Your number is less than the random number\n"
     ]
    },
    {
     "name": "stdin",
     "output_type": "stream",
     "text": [
      "Enter the guessed number:  4\n"
     ]
    },
    {
     "name": "stdout",
     "output_type": "stream",
     "text": [
      "-> Your number is less than the random number\n"
     ]
    },
    {
     "name": "stdin",
     "output_type": "stream",
     "text": [
      "Enter the guessed number:  56\n"
     ]
    },
    {
     "name": "stdout",
     "output_type": "stream",
     "text": [
      "-> Your number is greater than the random number\n"
     ]
    },
    {
     "name": "stdin",
     "output_type": "stream",
     "text": [
      "Enter the guessed number:  11\n"
     ]
    },
    {
     "name": "stdout",
     "output_type": "stream",
     "text": [
      "-> Your number is less than the random number\n"
     ]
    },
    {
     "name": "stdin",
     "output_type": "stream",
     "text": [
      "Enter the guessed number:  12\n"
     ]
    },
    {
     "name": "stdout",
     "output_type": "stream",
     "text": [
      "-> Your number is less than the random number\n"
     ]
    },
    {
     "name": "stdin",
     "output_type": "stream",
     "text": [
      "Enter the guessed number:  18\n"
     ]
    },
    {
     "name": "stdout",
     "output_type": "stream",
     "text": [
      "-> Your number is less than the random number\n"
     ]
    },
    {
     "name": "stdin",
     "output_type": "stream",
     "text": [
      "Enter the guessed number:  22\n"
     ]
    },
    {
     "name": "stdout",
     "output_type": "stream",
     "text": [
      "-> Your number is less than the random number\n"
     ]
    },
    {
     "name": "stdin",
     "output_type": "stream",
     "text": [
      "Enter the guessed number:  22\n"
     ]
    },
    {
     "name": "stdout",
     "output_type": "stream",
     "text": [
      "-> Your number is less than the random number\n"
     ]
    },
    {
     "name": "stdin",
     "output_type": "stream",
     "text": [
      "Enter the guessed number:  34\n"
     ]
    },
    {
     "name": "stdout",
     "output_type": "stream",
     "text": [
      "-> Your number is less than the random number\n"
     ]
    },
    {
     "name": "stdin",
     "output_type": "stream",
     "text": [
      "Enter the guessed number:  5\n"
     ]
    },
    {
     "name": "stdout",
     "output_type": "stream",
     "text": [
      "-> Your number is less than the random number\n"
     ]
    },
    {
     "name": "stdin",
     "output_type": "stream",
     "text": [
      "Enter the guessed number:  7\n"
     ]
    },
    {
     "name": "stdout",
     "output_type": "stream",
     "text": [
      "-> Your number is less than the random number\n"
     ]
    },
    {
     "name": "stdin",
     "output_type": "stream",
     "text": [
      "Enter the guessed number:  30\n"
     ]
    },
    {
     "name": "stdout",
     "output_type": "stream",
     "text": [
      "-> Your number is less than the random number\n"
     ]
    }
   ],
   "source": [
    "import random\n",
    "\n",
    "\n",
    "class NumberGuessingGame:\n",
    "\n",
    "    def __init__(self):\n",
    "        ## define the range\n",
    "        self.LOWER = 1\n",
    "        self.HIGHER = 100\n",
    "\n",
    "    ## method to generate the random number\n",
    "    def get_random_number(self):\n",
    "        return random.randint(self.LOWER, self.HIGHER)\n",
    "\n",
    "    ## game start method\n",
    "    def start(self):\n",
    "        ## generating the random number\n",
    "        random_number = self.get_random_number()\n",
    "\n",
    "        print(\n",
    "            f\"Guess the randomly generated number from {self.LOWER} to {self.HIGHER}\")\n",
    "\n",
    "        ## heart of the game\n",
    "        chances = 0\n",
    "        while True:\n",
    "            user_number = int(input(\"Enter the guessed number: \"))\n",
    "            if user_number == random_number:\n",
    "                print(\n",
    "                    f\"-> Hurray! You got it in {chances + 1} step{'s' if chances > 1 else ''}!\")\n",
    "                break\n",
    "            elif user_number < random_number:\n",
    "                print(\"-> Your number is less than the random number\")\n",
    "            else:\n",
    "                print(\"-> Your number is greater than the random number\")\n",
    "            chances += 1\n",
    "\n",
    "## instantiating and starting the game\n",
    "numberGuessingGame = NumberGuessingGame()\n",
    "numberGuessingGame.start()"
   ]
  },
  {
   "cell_type": "code",
   "execution_count": null,
   "id": "4772d594-0de5-4dd7-a4f9-84d4f5a9202e",
   "metadata": {},
   "outputs": [],
   "source": []
  }
 ],
 "metadata": {
  "kernelspec": {
   "display_name": "Python 3",
   "language": "python",
   "name": "python3"
  },
  "language_info": {
   "codemirror_mode": {
    "name": "ipython",
    "version": 3
   },
   "file_extension": ".py",
   "mimetype": "text/x-python",
   "name": "python",
   "nbconvert_exporter": "python",
   "pygments_lexer": "ipython3",
   "version": "3.8.8"
  }
 },
 "nbformat": 4,
 "nbformat_minor": 5
}
