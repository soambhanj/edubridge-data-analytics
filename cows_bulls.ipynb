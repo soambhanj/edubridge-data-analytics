{
 "cells": [
  {
   "cell_type": "code",
   "execution_count": 2,
   "id": "e3b3f3b3-3247-494c-9acd-decfcd69c8eb",
   "metadata": {},
   "outputs": [],
   "source": [
    "import random"
   ]
  },
  {
   "cell_type": "code",
   "execution_count": 6,
   "id": "39d3bf4f-0653-4ecc-94b5-4d2c51322530",
   "metadata": {},
   "outputs": [
    {
     "name": "stdout",
     "output_type": "stream",
     "text": [
      "Solution key = 3547\n",
      "--- Guess: 1---\n"
     ]
    },
    {
     "name": "stdin",
     "output_type": "stream",
     "text": [
      "Enter 4 digit number 3574\n"
     ]
    },
    {
     "name": "stdout",
     "output_type": "stream",
     "text": [
      "Cows: 2 Bulls: 2\n",
      "+++++++++++++\n",
      "--- Guess: 2---\n"
     ]
    },
    {
     "name": "stdin",
     "output_type": "stream",
     "text": [
      "Enter 4 digit number 3547\n"
     ]
    },
    {
     "name": "stdout",
     "output_type": "stream",
     "text": [
      "You won.\n",
      "It took you 2 guess(es).\n"
     ]
    }
   ],
   "source": [
    "def game(num_digits):\n",
    "    l=[]\n",
    "    while(len(l)<4):\n",
    "        listnum=random.randint(1,9)\n",
    "        if (str(listnum) not in l):\n",
    "            l.append(str(listnum)) \n",
    "        else:\n",
    "            continue\n",
    "    s=\"\".join(l)\n",
    "    print(\"Solution key = \" + s)\n",
    "\n",
    "    count=0\n",
    "    while True:\n",
    "        cow=0\n",
    "        bull=0\n",
    "        count+=1\n",
    "        print(\"--- Guess: \" + str(count) + \"---\")\n",
    "        n=input(\"Enter 4 digit number\")\n",
    "    \n",
    "        guess = [int(i) for i in n]\n",
    "         \n",
    "        if int(n) == int(s):\n",
    "            print(\"You won.\")\n",
    "            print(\"It took you \"+str(count)+\" guess(es).\")\n",
    "            break\n",
    "\n",
    "        else:\n",
    "            \n",
    "\n",
    "            for x in range(0,num_digits):\n",
    "                if n[x]==s[x]:\n",
    "                    bull += 1\n",
    "                elif str(guess[x]) in s: \n",
    "                    cow += 1\n",
    "\n",
    "        print(\"Cows: \"+str(cow)+\" Bulls: \"+str(bull))\n",
    "        print(\"+++++++++++++\")\n",
    "\n",
    "game(4)"
   ]
  },
  {
   "cell_type": "code",
   "execution_count": null,
   "id": "20f2f097-0f14-4bb8-b8b8-d893af517f36",
   "metadata": {},
   "outputs": [],
   "source": []
  },
  {
   "cell_type": "code",
   "execution_count": null,
   "id": "37a258b8-0f8e-43f3-95d4-ec43f1f386b6",
   "metadata": {},
   "outputs": [],
   "source": []
  }
 ],
 "metadata": {
  "kernelspec": {
   "display_name": "Python 3",
   "language": "python",
   "name": "python3"
  },
  "language_info": {
   "codemirror_mode": {
    "name": "ipython",
    "version": 3
   },
   "file_extension": ".py",
   "mimetype": "text/x-python",
   "name": "python",
   "nbconvert_exporter": "python",
   "pygments_lexer": "ipython3",
   "version": "3.8.8"
  }
 },
 "nbformat": 4,
 "nbformat_minor": 5
}
